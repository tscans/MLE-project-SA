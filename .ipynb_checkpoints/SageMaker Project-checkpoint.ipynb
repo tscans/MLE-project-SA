{
 "cells": [
  {
   "cell_type": "markdown",
   "metadata": {},
   "source": [
    "# Creating a Sentiment Analysis Web App\n",
    "## Using PyTorch and SageMaker\n",
    "\n",
    "_Deep Learning Nanodegree Program | Deployment_\n",
    "\n",
    "---\n",
    "\n",
    "Now that we have a basic understanding of how SageMaker works we will try to use it to construct a complete project from end to end. Our goal will be to have a simple web page which a user can use to enter a movie review. The web page will then send the review off to our deployed model which will predict the sentiment of the entered review.\n",
    "\n",
    "## Instructions\n",
    "\n",
    "Some template code has already been provided for you, and you will need to implement additional functionality to successfully complete this notebook. You will not need to modify the included code beyond what is requested. Sections that begin with '**TODO**' in the header indicate that you need to complete or implement some portion within them. Instructions will be provided for each section and the specifics of the implementation are marked in the code block with a `# TODO: ...` comment. Please be sure to read the instructions carefully!\n",
    "\n",
    "In addition to implementing code, there will be questions for you to answer which relate to the task and your implementation. Each section where you will answer a question is preceded by a '**Question:**' header. Carefully read each question and provide your answer below the '**Answer:**' header by editing the Markdown cell.\n",
    "\n",
    "> **Note**: Code and Markdown cells can be executed using the **Shift+Enter** keyboard shortcut. In addition, a cell can be edited by typically clicking it (double-click for Markdown cells) or by pressing **Enter** while it is highlighted.\n",
    "\n",
    "## General Outline\n",
    "\n",
    "Recall the general outline for SageMaker projects using a notebook instance.\n",
    "\n",
    "1. Download or otherwise retrieve the data.\n",
    "2. Process / Prepare the data.\n",
    "3. Upload the processed data to S3.\n",
    "4. Train a chosen model.\n",
    "5. Test the trained model (typically using a batch transform job).\n",
    "6. Deploy the trained model.\n",
    "7. Use the deployed model.\n",
    "\n",
    "For this project, you will be following the steps in the general outline with some modifications. \n",
    "\n",
    "First, you will not be testing the model in its own step. You will still be testing the model, however, you will do it by deploying your model and then using the deployed model by sending the test data to it. One of the reasons for doing this is so that you can make sure that your deployed model is working correctly before moving forward.\n",
    "\n",
    "In addition, you will deploy and use your trained model a second time. In the second iteration you will customize the way that your trained model is deployed by including some of your own code. In addition, your newly deployed model will be used in the sentiment analysis web app."
   ]
  },
  {
   "cell_type": "markdown",
   "metadata": {},
   "source": [
    "## Step 1: Downloading the data\n",
    "\n",
    "As in the XGBoost in SageMaker notebook, we will be using the [IMDb dataset](http://ai.stanford.edu/~amaas/data/sentiment/)\n",
    "\n",
    "> Maas, Andrew L., et al. [Learning Word Vectors for Sentiment Analysis](http://ai.stanford.edu/~amaas/data/sentiment/). In _Proceedings of the 49th Annual Meeting of the Association for Computational Linguistics: Human Language Technologies_. Association for Computational Linguistics, 2011."
   ]
  },
  {
   "cell_type": "code",
   "execution_count": 1,
   "metadata": {},
   "outputs": [
    {
     "name": "stdout",
     "output_type": "stream",
     "text": [
      "mkdir: cannot create directory ‘../data’: File exists\n",
      "--2020-09-13 20:19:12--  http://ai.stanford.edu/~amaas/data/sentiment/aclImdb_v1.tar.gz\n",
      "Resolving ai.stanford.edu (ai.stanford.edu)... 171.64.68.10\n",
      "Connecting to ai.stanford.edu (ai.stanford.edu)|171.64.68.10|:80... connected.\n",
      "HTTP request sent, awaiting response... 200 OK\n",
      "Length: 84125825 (80M) [application/x-gzip]\n",
      "Saving to: ‘../data/aclImdb_v1.tar.gz’\n",
      "\n",
      "../data/aclImdb_v1. 100%[===================>]  80.23M  25.1MB/s    in 4.1s    \n",
      "\n",
      "2020-09-13 20:19:16 (19.8 MB/s) - ‘../data/aclImdb_v1.tar.gz’ saved [84125825/84125825]\n",
      "\n"
     ]
    }
   ],
   "source": [
    "%mkdir ../data\n",
    "!wget -O ../data/aclImdb_v1.tar.gz http://ai.stanford.edu/~amaas/data/sentiment/aclImdb_v1.tar.gz\n",
    "!tar -zxf ../data/aclImdb_v1.tar.gz -C ../data"
   ]
  },
  {
   "cell_type": "markdown",
   "metadata": {},
   "source": [
    "## Step 2: Preparing and Processing the data\n",
    "\n",
    "Also, as in the XGBoost notebook, we will be doing some initial data processing. The first few steps are the same as in the XGBoost example. To begin with, we will read in each of the reviews and combine them into a single input structure. Then, we will split the dataset into a training set and a testing set."
   ]
  },
  {
   "cell_type": "code",
   "execution_count": 2,
   "metadata": {},
   "outputs": [],
   "source": [
    "import os\n",
    "import glob\n",
    "\n",
    "def read_imdb_data(data_dir='../data/aclImdb'):\n",
    "    data = {}\n",
    "    labels = {}\n",
    "    \n",
    "    for data_type in ['train', 'test']:\n",
    "        data[data_type] = {}\n",
    "        labels[data_type] = {}\n",
    "        \n",
    "        for sentiment in ['pos', 'neg']:\n",
    "            data[data_type][sentiment] = []\n",
    "            labels[data_type][sentiment] = []\n",
    "            \n",
    "            path = os.path.join(data_dir, data_type, sentiment, '*.txt')\n",
    "            files = glob.glob(path)\n",
    "            \n",
    "            for f in files:\n",
    "                with open(f) as review:\n",
    "                    data[data_type][sentiment].append(review.read())\n",
    "                    # Here we represent a positive review by '1' and a negative review by '0'\n",
    "                    labels[data_type][sentiment].append(1 if sentiment == 'pos' else 0)\n",
    "                    \n",
    "            assert len(data[data_type][sentiment]) == len(labels[data_type][sentiment]), \\\n",
    "                    \"{}/{} data size does not match labels size\".format(data_type, sentiment)\n",
    "                \n",
    "    return data, labels\n"
   ]
  },
  {
   "cell_type": "code",
   "execution_count": 3,
   "metadata": {},
   "outputs": [
    {
     "name": "stdout",
     "output_type": "stream",
     "text": [
      "IMDB reviews: train = 12500 pos / 12500 neg, test = 12500 pos / 12500 neg\n"
     ]
    }
   ],
   "source": [
    "data, labels = read_imdb_data()\n",
    "\n",
    "print(\"IMDB reviews: train = {} pos / {} neg, test = {} pos / {} neg\".format(\n",
    "            len(data['train']['pos']), len(data['train']['neg']),\n",
    "            len(data['test']['pos']), len(data['test']['neg'])))"
   ]
  },
  {
   "cell_type": "markdown",
   "metadata": {},
   "source": [
    "Now that we've read the raw training and testing data from the downloaded dataset, we will combine the positive and negative reviews and shuffle the resulting records."
   ]
  },
  {
   "cell_type": "code",
   "execution_count": 4,
   "metadata": {},
   "outputs": [],
   "source": [
    "from sklearn.utils import shuffle\n",
    "\n",
    "def prepare_imdb_data(data, labels):\n",
    "    \"\"\"Prepare training and test sets from IMDb movie reviews.\"\"\"\n",
    "    \n",
    "    #Combine positive and negative reviews and labels\n",
    "    data_train = data['train']['pos'] + data['train']['neg']\n",
    "    data_test = data['test']['pos'] + data['test']['neg']\n",
    "    labels_train = labels['train']['pos'] + labels['train']['neg']\n",
    "    labels_test = labels['test']['pos'] + labels['test']['neg']\n",
    "    \n",
    "    #Shuffle reviews and corresponding labels within training and test sets\n",
    "    data_train, labels_train = shuffle(data_train, labels_train)\n",
    "    data_test, labels_test = shuffle(data_test, labels_test)\n",
    "    \n",
    "    # Return a unified training data, test data, training labels, test labets\n",
    "    return data_train, data_test, labels_train, labels_test"
   ]
  },
  {
   "cell_type": "code",
   "execution_count": 5,
   "metadata": {},
   "outputs": [
    {
     "name": "stdout",
     "output_type": "stream",
     "text": [
      "IMDb reviews (combined): train = 25000, test = 25000\n"
     ]
    }
   ],
   "source": [
    "train_X, test_X, train_y, test_y = prepare_imdb_data(data, labels)\n",
    "print(\"IMDb reviews (combined): train = {}, test = {}\".format(len(train_X), len(test_X)))"
   ]
  },
  {
   "cell_type": "markdown",
   "metadata": {},
   "source": [
    "Now that we have our training and testing sets unified and prepared, we should do a quick check and see an example of the data our model will be trained on. This is generally a good idea as it allows you to see how each of the further processing steps affects the reviews and it also ensures that the data has been loaded correctly."
   ]
  },
  {
   "cell_type": "code",
   "execution_count": 6,
   "metadata": {},
   "outputs": [
    {
     "name": "stdout",
     "output_type": "stream",
     "text": [
      "MINOR SPOILER<br /><br />Underrated little Stephen King shocker. It's not perfect, by any stretch of the imagination--even if the limp performances of Dale Midkiff and Denise Crosby were better, there'd still be the mismanaged mystical story elements to contend with. The old Micmac burial ground, Rachel's terminally ill sister, and the Jacob-Marley-an Victor Pascow never really come together into anything coherent, and the film in places feels confused and overstuffed. But few horror movies really are perfect, and what this one may lack in other areas it makes up for in its willingness to shock. `Pet Sematary' may actually be one of the cruelest horror films in recent memory, with its murderous zombie baby and its insanely insensitive portrayal of Zelda. It's politically incorrect, it's tasteless, it's gratuitous--and yet it makes us squirm with revulsion in a way `safer' horror movies never can. Add to that one of Fred Gwynne's best performances and Mary Lambert's witty direction, and you have an intensely satisfying scary movie--even with the hokey ending. Highly recommended for genre fans. 7.5 out of 10.\n",
      "1\n"
     ]
    }
   ],
   "source": [
    "print(train_X[100])\n",
    "print(train_y[100])"
   ]
  },
  {
   "cell_type": "markdown",
   "metadata": {},
   "source": [
    "The first step in processing the reviews is to make sure that any html tags that appear should be removed. In addition we wish to tokenize our input, that way words such as *entertained* and *entertaining* are considered the same with regard to sentiment analysis."
   ]
  },
  {
   "cell_type": "code",
   "execution_count": 7,
   "metadata": {},
   "outputs": [],
   "source": [
    "import nltk\n",
    "from nltk.corpus import stopwords\n",
    "from nltk.stem.porter import *\n",
    "\n",
    "import re\n",
    "from bs4 import BeautifulSoup\n",
    "\n",
    "def review_to_words(review):\n",
    "    nltk.download(\"stopwords\", quiet=True)\n",
    "    stemmer = PorterStemmer()\n",
    "    \n",
    "    text = BeautifulSoup(review, \"html.parser\").get_text() # Remove HTML tags\n",
    "    text = re.sub(r\"[^a-zA-Z0-9]\", \" \", text.lower()) # Convert to lower case\n",
    "    words = text.split() # Split string into words\n",
    "    words = [w for w in words if w not in stopwords.words(\"english\")] # Remove stopwords\n",
    "    words = [PorterStemmer().stem(w) for w in words] # stem\n",
    "    \n",
    "    return words"
   ]
  },
  {
   "cell_type": "markdown",
   "metadata": {},
   "source": [
    "The `review_to_words` method defined above uses `BeautifulSoup` to remove any html tags that appear and uses the `nltk` package to tokenize the reviews. As a check to ensure we know how everything is working, try applying `review_to_words` to one of the reviews in the training set."
   ]
  },
  {
   "cell_type": "code",
   "execution_count": 8,
   "metadata": {},
   "outputs": [
    {
     "name": "stdout",
     "output_type": "stream",
     "text": [
      "MINOR SPOILER<br /><br />Underrated little Stephen King shocker. It's not perfect, by any stretch of the imagination--even if the limp performances of Dale Midkiff and Denise Crosby were better, there'd still be the mismanaged mystical story elements to contend with. The old Micmac burial ground, Rachel's terminally ill sister, and the Jacob-Marley-an Victor Pascow never really come together into anything coherent, and the film in places feels confused and overstuffed. But few horror movies really are perfect, and what this one may lack in other areas it makes up for in its willingness to shock. `Pet Sematary' may actually be one of the cruelest horror films in recent memory, with its murderous zombie baby and its insanely insensitive portrayal of Zelda. It's politically incorrect, it's tasteless, it's gratuitous--and yet it makes us squirm with revulsion in a way `safer' horror movies never can. Add to that one of Fred Gwynne's best performances and Mary Lambert's witty direction, and you have an intensely satisfying scary movie--even with the hokey ending. Highly recommended for genre fans. 7.5 out of 10.\n",
      "['minor', 'spoilerunderr', 'littl', 'stephen', 'king', 'shocker', 'perfect', 'stretch', 'imagin', 'even', 'limp', 'perform', 'dale', 'midkiff', 'denis', 'crosbi', 'better', 'still', 'mismanag', 'mystic', 'stori', 'element', 'contend', 'old', 'micmac', 'burial', 'ground', 'rachel', 'termin', 'ill', 'sister', 'jacob', 'marley', 'victor', 'pascow', 'never', 'realli', 'come', 'togeth', 'anyth', 'coher', 'film', 'place', 'feel', 'confus', 'overstuf', 'horror', 'movi', 'realli', 'perfect', 'one', 'may', 'lack', 'area', 'make', 'willing', 'shock', 'pet', 'sematari', 'may', 'actual', 'one', 'cruelest', 'horror', 'film', 'recent', 'memori', 'murder', 'zombi', 'babi', 'insan', 'insensit', 'portray', 'zelda', 'polit', 'incorrect', 'tasteless', 'gratuit', 'yet', 'make', 'us', 'squirm', 'revuls', 'way', 'safer', 'horror', 'movi', 'never', 'add', 'one', 'fred', 'gwynn', 'best', 'perform', 'mari', 'lambert', 'witti', 'direct', 'intens', 'satisfi', 'scari', 'movi', 'even', 'hokey', 'end', 'highli', 'recommend', 'genr', 'fan', '7', '5', '10']\n"
     ]
    }
   ],
   "source": [
    "# TODO: Apply review_to_words to a review (train_X[100] or any other review)\n",
    "rtww = review_to_words(train_X[100])\n",
    "print(train_X[100])\n",
    "print(rtww)"
   ]
  },
  {
   "cell_type": "markdown",
   "metadata": {},
   "source": [
    "**Question:** Above we mentioned that `review_to_words` method removes html formatting and allows us to tokenize the words found in a review, for example, converting *entertained* and *entertaining* into *entertain* so that they are treated as though they are the same word. What else, if anything, does this method do to the input?"
   ]
  },
  {
   "cell_type": "markdown",
   "metadata": {},
   "source": [
    "**Answer:** This function performs stem actions as mentioned and also does things like change upper-case characters to lower case. Anything to find the most similar etymological root possible for simpler comparison."
   ]
  },
  {
   "cell_type": "markdown",
   "metadata": {},
   "source": [
    "The method below applies the `review_to_words` method to each of the reviews in the training and testing datasets. In addition it caches the results. This is because performing this processing step can take a long time. This way if you are unable to complete the notebook in the current session, you can come back without needing to process the data a second time."
   ]
  },
  {
   "cell_type": "code",
   "execution_count": 13,
   "metadata": {},
   "outputs": [],
   "source": [
    "import pickle\n",
    "\n",
    "cache_dir = os.path.join(\"../cache\", \"sentiment_analysis\")  # where to store cache files\n",
    "os.makedirs(cache_dir, exist_ok=True)  # ensure cache directory exists\n",
    "\n",
    "def preprocess_data(data_train, data_test, labels_train, labels_test,\n",
    "                    cache_dir=cache_dir, cache_file=\"preprocessed_data.pkl\"):\n",
    "    \"\"\"Convert each review to words; read from cache if available.\"\"\"\n",
    "\n",
    "    # If cache_file is not None, try to read from it first\n",
    "    cache_data = None\n",
    "    if cache_file is not None:\n",
    "        try:\n",
    "            with open(os.path.join(cache_dir, cache_file), \"rb\") as f:\n",
    "                cache_data = pickle.load(f)\n",
    "            print(\"Read preprocessed data from cache file:\", cache_file)\n",
    "        except:\n",
    "            pass  # unable to read from cache, but that's okay\n",
    "    \n",
    "    # If cache is missing, then do the heavy lifting\n",
    "    if cache_data is None:\n",
    "        # Preprocess training and test data to obtain words for each review\n",
    "        #words_train = list(map(review_to_words, data_train))\n",
    "        #words_test = list(map(review_to_words, data_test))\n",
    "        words_train = [review_to_words(review) for review in data_train]\n",
    "        words_test = [review_to_words(review) for review in data_test]\n",
    "        \n",
    "        # Write to cache file for future runs\n",
    "        if cache_file is not None:\n",
    "            cache_data = dict(words_train=words_train, words_test=words_test,\n",
    "                              labels_train=labels_train, labels_test=labels_test)\n",
    "            with open(os.path.join(cache_dir, cache_file), \"wb\") as f:\n",
    "                pickle.dump(cache_data, f)\n",
    "            print(\"Wrote preprocessed data to cache file:\", cache_file)\n",
    "    else:\n",
    "        # Unpack data loaded from cache file\n",
    "        words_train, words_test, labels_train, labels_test = (cache_data['words_train'],\n",
    "                cache_data['words_test'], cache_data['labels_train'], cache_data['labels_test'])\n",
    "    \n",
    "    return words_train, words_test, labels_train, labels_test"
   ]
  },
  {
   "cell_type": "code",
   "execution_count": 14,
   "metadata": {},
   "outputs": [
    {
     "name": "stdout",
     "output_type": "stream",
     "text": [
      "Read preprocessed data from cache file: preprocessed_data.pkl\n"
     ]
    }
   ],
   "source": [
    "# Preprocess data\n",
    "train_X, test_X, train_y, test_y = preprocess_data(train_X, test_X, train_y, test_y)"
   ]
  },
  {
   "cell_type": "markdown",
   "metadata": {},
   "source": [
    "## Transform the data\n",
    "\n",
    "In the XGBoost notebook we transformed the data from its word representation to a bag-of-words feature representation. For the model we are going to construct in this notebook we will construct a feature representation which is very similar. To start, we will represent each word as an integer. Of course, some of the words that appear in the reviews occur very infrequently and so likely don't contain much information for the purposes of sentiment analysis. The way we will deal with this problem is that we will fix the size of our working vocabulary and we will only include the words that appear most frequently. We will then combine all of the infrequent words into a single category and, in our case, we will label it as `1`.\n",
    "\n",
    "Since we will be using a recurrent neural network, it will be convenient if the length of each review is the same. To do this, we will fix a size for our reviews and then pad short reviews with the category 'no word' (which we will label `0`) and truncate long reviews."
   ]
  },
  {
   "cell_type": "markdown",
   "metadata": {},
   "source": [
    "### (TODO) Create a word dictionary\n",
    "\n",
    "To begin with, we need to construct a way to map words that appear in the reviews to integers. Here we fix the size of our vocabulary (including the 'no word' and 'infrequent' categories) to be `5000` but you may wish to change this to see how it affects the model.\n",
    "\n",
    "> **TODO:** Complete the implementation for the `build_dict()` method below. Note that even though the vocab_size is set to `5000`, we only want to construct a mapping for the most frequently appearing `4998` words. This is because we want to reserve the special labels `0` for 'no word' and `1` for 'infrequent word'."
   ]
  },
  {
   "cell_type": "code",
   "execution_count": 15,
   "metadata": {},
   "outputs": [
    {
     "name": "stdout",
     "output_type": "stream",
     "text": [
      "['zavet', 'similar', 'tim', 'burton', 'kusturica', 'artist', 'vision', 'find', 'poetic', 'style', 'cowardli', 'becom', 'prison', 'burton', 'still', 'depp', 'kusturica', 'miki', 'manojlov', 'somehow', 'got', 'critic', 'prais', 'repeat', 'formula', 'howev', 'person', 'like', 'find', 'joke', 'funni', 'heard', 'first', 'time', 'main', 'reason', 'kusturica', 'worst', 'movi', 'black', 'cat', 'white', 'cat', 'life', 'miracl', 'zavet', 'someth', 'complet', 'differ', 'may', 'like', 'may', 'hate', 'anoth', 'kusturica', 'poetic', 'balkan', 'dreamlik', 'stuff', 'cours', 'want', 'prais', 'play', 'safe', 'easi', 'kusturica', 'make', 'anoth', 'fli', 'gypsi', 'movi', 'get', 'award', 'fortun', 'brave', 'person', 'choos', 'make', 'movi', 'iron', 'look', 'previou', 'work', 'zavet', 'describ', 'strong', 'harsh', 'parodi', 'previou', 'kusturica', 'movi', 'direct', 'kusturica', 'beauti', 'see', 'one', 'big', 'movi', 'director', 'take', 'serious', 'qualiti', 'kusturica', 'even', 'biggest', 'like', 'bergman', 'kubrick', 'movi', 'meaningless', 'becom', 'absurd', 'absurd', 'becom', 'deep', 'unfunni', 'becom', 'hilari', 'stuff', 'make', 'plan', '9', 'outer', 'space', 'cult', 'would', 'made', 'masterpiec', 'peopl', 'know', 'watch', 'averag', 'western', 'viewer', 'would', 'get', 'refer', 'notabl', 'tire', 'shop', 'owner', 'srbljanov', 'refer', 'biljana', 'srbljanov', 'famou', 'serbian', 'dramat', 'writer', 'polit', 'activ', 'left', 'orient', 'liber', 'despis', 'kusturica', 'polit', 'view', 'anarch', 'kusturica', 'everyth', 'subtl', 'take', 'work', 'castrat', 'miki', 'manojlov', 'srbljanov', 'shop', 'second', 'refer', 'made', 'goran', 'bregov', 'previou', 'kusturica', 'compos', 'form', 'funer', 'wed', 'orchestra', 'start', 'perform', 'around', 'europ', 'although', 'prais', 'big', 'compos', 'bregov', 'perform', 'song', 'poor', 'cover', 'tradit', 'serbian', 'song', 'kusturica', 'take', 'bregov', 'confront', 'one', 'wed', 'one', 'funer', 'funer', 'mock', 'wed', 'also', 'music', 'cover', 'western', 'classic', 'london', 'bridg', 'fall', 'french', 'lullabi', 'find', 'unfunni', 'see', 'feel', 'serbia', 'listen', 'bregov', 'horribl', 'cover', 'realli', 'like', 'movi', 'pretend', 'deep', 'overfil', 'symbol', 'becom', 'parodi', 'beauti', 'direct', 'work', 'like', 'previou', 'kusturica', 'movi', 'big', 'chanc', 'hate', 'like', 'coupl', 'last', 'movi', 'may', 'find', 'pleasant', 'surpris', 'like', 'fellini', 'direct', 'pink', 'flamingo', 'purpos', 'massiv', 'respect', 'guy', 'zavet', 'next', 'tim', 'burton', 'movi', 'would', 'sure', 'main', 'charact', 'pale', 'face', 'next', 'kusturica', 'movi', 'easili', 'alien', 'invad', 'earth', 'reason', 'interest', 'director', 'earth', 'whether', 'like']\n"
     ]
    }
   ],
   "source": [
    "print(train_X[0])"
   ]
  },
  {
   "cell_type": "code",
   "execution_count": 16,
   "metadata": {},
   "outputs": [],
   "source": [
    "import numpy as np\n",
    "\n",
    "def build_dict(data, vocab_size = 5000):\n",
    "    \"\"\"Construct and return a dictionary mapping each of the most frequently appearing words to a unique integer.\"\"\"\n",
    "    \n",
    "    # TODO: Determine how often each word appears in `data`. Note that `data` is a list of sentences and that a\n",
    "    #       sentence is a list of words.\n",
    "    \n",
    "    word_count = {} # A dict storing the words that appear in the reviews along with how often they occur\n",
    "    for sentence in data:\n",
    "        for word in sentence:\n",
    "            if word in word_count:\n",
    "                word_count[word] = word_count[word] + 1\n",
    "            else:\n",
    "                word_count[word] = 1\n",
    "    # TODO: Sort the words found in `data` so that sorted_words[0] is the most frequently appearing word and\n",
    "    #       sorted_words[-1] is the least frequently appearing word.\n",
    "    \n",
    "    sorted_words = sorted(word_count.keys(),key=lambda key: word_count[key],reverse=True)\n",
    "    word_dict = {} # This is what we are building, a dictionary that translates words into integers\n",
    "    for idx, word in enumerate(sorted_words[:vocab_size - 2]): # The -2 is so that we save room for the 'no word'\n",
    "        word_dict[word] = idx + 2                              # 'infrequent' labels\n",
    "        \n",
    "    return word_dict"
   ]
  },
  {
   "cell_type": "code",
   "execution_count": 17,
   "metadata": {},
   "outputs": [
    {
     "name": "stdout",
     "output_type": "stream",
     "text": [
      "{'movi': 2, 'film': 3, 'one': 4, 'like': 5, 'time': 6, 'good': 7, 'make': 8, 'charact': 9, 'get': 10, 'see': 11, 'watch': 12, 'stori': 13, 'even': 14, 'would': 15, 'realli': 16, 'well': 17, 'scene': 18, 'look': 19, 'show': 20, 'much': 21, 'end': 22, 'peopl': 23, 'bad': 24, 'go': 25, 'great': 26, 'also': 27, 'first': 28, 'love': 29, 'think': 30, 'way': 31, 'act': 32, 'play': 33, 'made': 34, 'thing': 35, 'could': 36, 'know': 37, 'say': 38, 'seem': 39, 'work': 40, 'plot': 41, 'two': 42, 'actor': 43, 'year': 44, 'come': 45, 'mani': 46, 'seen': 47, 'take': 48, 'life': 49, 'want': 50, 'never': 51, 'littl': 52, 'best': 53, 'tri': 54, 'man': 55, 'ever': 56, 'give': 57, 'better': 58, 'still': 59, 'perform': 60, 'find': 61, 'feel': 62, 'part': 63, 'back': 64, 'use': 65, 'someth': 66, 'director': 67, 'actual': 68, 'interest': 69, 'lot': 70, 'real': 71, 'old': 72, 'cast': 73, 'though': 74, 'live': 75, 'star': 76, 'enjoy': 77, 'guy': 78, 'anoth': 79, 'new': 80, 'role': 81, 'noth': 82, '10': 83, 'funni': 84, 'music': 85, 'point': 86, 'start': 87, 'set': 88, 'girl': 89, 'origin': 90, 'day': 91, 'world': 92, 'everi': 93, 'believ': 94, 'turn': 95, 'quit': 96, 'direct': 97, 'us': 98, 'thought': 99, 'fact': 100, 'minut': 101, 'horror': 102, 'kill': 103, 'action': 104, 'comedi': 105, 'pretti': 106, 'young': 107, 'wonder': 108, 'happen': 109, 'around': 110, 'got': 111, 'effect': 112, 'right': 113, 'long': 114, 'howev': 115, 'big': 116, 'line': 117, 'famili': 118, 'enough': 119, 'seri': 120, 'may': 121, 'need': 122, 'fan': 123, 'bit': 124, 'script': 125, 'beauti': 126, 'person': 127, 'becom': 128, 'without': 129, 'must': 130, 'alway': 131, 'friend': 132, 'tell': 133, 'reason': 134, 'saw': 135, 'last': 136, 'final': 137, 'kid': 138, 'almost': 139, 'put': 140, 'least': 141, 'sure': 142, 'done': 143, 'whole': 144, 'place': 145, 'complet': 146, 'kind': 147, 'differ': 148, 'expect': 149, 'shot': 150, 'far': 151, 'mean': 152, 'anyth': 153, 'book': 154, 'laugh': 155, 'might': 156, 'name': 157, 'sinc': 158, 'begin': 159, '2': 160, 'probabl': 161, 'woman': 162, 'help': 163, 'entertain': 164, 'let': 165, 'screen': 166, 'call': 167, 'tv': 168, 'moment': 169, 'away': 170, 'read': 171, 'yet': 172, 'rather': 173, 'worst': 174, 'run': 175, 'fun': 176, 'lead': 177, 'hard': 178, 'audienc': 179, 'idea': 180, 'anyon': 181, 'episod': 182, 'american': 183, 'found': 184, 'appear': 185, 'bore': 186, 'especi': 187, 'although': 188, 'hope': 189, 'cours': 190, 'keep': 191, 'anim': 192, 'job': 193, 'goe': 194, 'move': 195, 'sens': 196, 'dvd': 197, 'version': 198, 'war': 199, 'money': 200, 'someon': 201, 'mind': 202, 'mayb': 203, 'problem': 204, 'true': 205, 'hous': 206, 'everyth': 207, 'nice': 208, 'second': 209, 'rate': 210, 'three': 211, 'night': 212, 'face': 213, 'follow': 214, 'recommend': 215, 'main': 216, 'product': 217, 'worth': 218, 'leav': 219, 'human': 220, 'special': 221, 'excel': 222, 'togeth': 223, 'wast': 224, 'everyon': 225, 'sound': 226, 'john': 227, 'hand': 228, '1': 229, 'father': 230, 'later': 231, 'eye': 232, 'said': 233, 'view': 234, 'instead': 235, 'review': 236, 'boy': 237, 'high': 238, 'hour': 239, 'miss': 240, 'classic': 241, 'talk': 242, 'wife': 243, 'understand': 244, 'left': 245, 'care': 246, 'black': 247, 'death': 248, 'open': 249, 'murder': 250, 'write': 251, 'half': 252, 'head': 253, 'rememb': 254, 'chang': 255, 'viewer': 256, 'fight': 257, 'gener': 258, 'surpris': 259, 'short': 260, 'includ': 261, 'die': 262, 'fall': 263, 'less': 264, 'els': 265, 'entir': 266, 'piec': 267, 'involv': 268, 'pictur': 269, 'simpli': 270, 'home': 271, 'top': 272, 'power': 273, 'total': 274, 'usual': 275, 'budget': 276, 'attempt': 277, 'suppos': 278, 'releas': 279, 'hollywood': 280, 'terribl': 281, 'song': 282, 'men': 283, 'possibl': 284, 'featur': 285, 'portray': 286, 'disappoint': 287, 'poor': 288, '3': 289, 'coupl': 290, 'stupid': 291, 'camera': 292, 'dead': 293, 'wrong': 294, 'produc': 295, 'low': 296, 'video': 297, 'either': 298, 'aw': 299, 'definit': 300, 'except': 301, 'rest': 302, 'given': 303, 'absolut': 304, 'women': 305, 'lack': 306, 'word': 307, 'writer': 308, 'titl': 309, 'talent': 310, 'decid': 311, 'full': 312, 'perfect': 313, 'along': 314, 'style': 315, 'close': 316, 'truli': 317, 'school': 318, 'save': 319, 'emot': 320, 'sex': 321, 'age': 322, 'next': 323, 'bring': 324, 'mr': 325, 'case': 326, 'killer': 327, 'heart': 328, 'comment': 329, 'sort': 330, 'creat': 331, 'perhap': 332, 'came': 333, 'brother': 334, 'sever': 335, 'joke': 336, 'art': 337, 'dialogu': 338, 'game': 339, 'small': 340, 'base': 341, 'flick': 342, 'written': 343, 'sequenc': 344, 'meet': 345, 'earli': 346, 'often': 347, 'other': 348, 'mother': 349, 'develop': 350, 'humor': 351, 'actress': 352, 'consid': 353, 'dark': 354, 'guess': 355, 'amaz': 356, 'unfortun': 357, 'light': 358, 'lost': 359, 'exampl': 360, 'cinema': 361, 'drama': 362, 'white': 363, 'ye': 364, 'experi': 365, 'imagin': 366, 'mention': 367, 'stop': 368, 'natur': 369, 'forc': 370, 'manag': 371, 'felt': 372, 'present': 373, 'cut': 374, 'children': 375, 'fail': 376, 'son': 377, 'qualiti': 378, 'support': 379, 'car': 380, 'ask': 381, 'hit': 382, 'side': 383, 'voic': 384, 'extrem': 385, 'impress': 386, 'evil': 387, 'wors': 388, 'went': 389, 'stand': 390, 'certainli': 391, 'basic': 392, 'oh': 393, 'overal': 394, 'favorit': 395, 'horribl': 396, 'mysteri': 397, 'number': 398, 'type': 399, 'danc': 400, 'wait': 401, 'hero': 402, 'alreadi': 403, '5': 404, 'learn': 405, 'matter': 406, '4': 407, 'michael': 408, 'genr': 409, 'fine': 410, 'despit': 411, 'throughout': 412, 'walk': 413, 'success': 414, 'histori': 415, 'question': 416, 'zombi': 417, 'town': 418, 'relationship': 419, 'realiz': 420, 'past': 421, 'child': 422, 'daughter': 423, 'late': 424, 'b': 425, 'wish': 426, 'hate': 427, 'credit': 428, 'event': 429, 'theme': 430, 'touch': 431, 'citi': 432, 'today': 433, 'sometim': 434, 'behind': 435, 'god': 436, 'twist': 437, 'sit': 438, 'deal': 439, 'stay': 440, 'annoy': 441, 'abl': 442, 'rent': 443, 'pleas': 444, 'edit': 445, 'blood': 446, 'deserv': 447, 'comic': 448, 'anyway': 449, 'appar': 450, 'soon': 451, 'gave': 452, 'etc': 453, 'level': 454, 'slow': 455, 'chanc': 456, 'score': 457, 'bodi': 458, 'brilliant': 459, 'incred': 460, 'figur': 461, 'situat': 462, 'major': 463, 'self': 464, 'stuff': 465, 'decent': 466, 'element': 467, 'dream': 468, 'return': 469, 'obvious': 470, 'order': 471, 'continu': 472, 'pace': 473, 'ridicul': 474, 'happi': 475, 'add': 476, 'group': 477, 'highli': 478, 'thank': 479, 'ladi': 480, 'novel': 481, 'speak': 482, 'pain': 483, 'career': 484, 'shoot': 485, 'strang': 486, 'heard': 487, 'sad': 488, 'polic': 489, 'husband': 490, 'import': 491, 'break': 492, 'took': 493, 'strong': 494, 'cannot': 495, 'robert': 496, 'predict': 497, 'violenc': 498, 'hilari': 499, 'recent': 500, 'countri': 501, 'known': 502, 'particularli': 503, 'pick': 504, 'documentari': 505, 'season': 506, 'critic': 507, 'jame': 508, 'compar': 509, 'obviou': 510, 'alon': 511, 'told': 512, 'state': 513, 'rock': 514, 'visual': 515, 'theater': 516, 'offer': 517, 'exist': 518, 'opinion': 519, 'gore': 520, 'hold': 521, 'crap': 522, 'result': 523, 'room': 524, 'realiti': 525, 'hear': 526, 'effort': 527, 'clich': 528, 'thriller': 529, 'caus': 530, 'serious': 531, 'sequel': 532, 'explain': 533, 'king': 534, 'local': 535, 'ago': 536, 'none': 537, 'hell': 538, 'note': 539, 'allow': 540, 'david': 541, 'sister': 542, 'simpl': 543, 'femal': 544, 'deliv': 545, 'ok': 546, 'convinc': 547, 'class': 548, 'check': 549, 'suspens': 550, 'win': 551, 'oscar': 552, 'buy': 553, 'huge': 554, 'valu': 555, 'sexual': 556, 'cool': 557, 'scari': 558, 'similar': 559, 'excit': 560, 'provid': 561, 'exactli': 562, 'apart': 563, 'shown': 564, 'avoid': 565, 'seriou': 566, 'english': 567, 'whose': 568, 'taken': 569, 'cinematographi': 570, 'shock': 571, 'polit': 572, 'spoiler': 573, 'offic': 574, 'across': 575, 'middl': 576, 'street': 577, 'pass': 578, 'messag': 579, 'somewhat': 580, 'silli': 581, 'charm': 582, 'modern': 583, 'filmmak': 584, 'confus': 585, 'form': 586, 'tale': 587, 'singl': 588, 'jack': 589, 'mostli': 590, 'carri': 591, 'william': 592, 'attent': 593, 'sing': 594, 'subject': 595, 'five': 596, 'richard': 597, 'prove': 598, 'stage': 599, 'team': 600, 'unlik': 601, 'cop': 602, 'georg': 603, 'monster': 604, 'televis': 605, 'earth': 606, 'cover': 607, 'villain': 608, 'pay': 609, 'marri': 610, 'toward': 611, 'build': 612, 'pull': 613, 'parent': 614, 'due': 615, 'respect': 616, 'fill': 617, 'four': 618, 'dialog': 619, 'remind': 620, 'futur': 621, 'typic': 622, 'weak': 623, '7': 624, 'cheap': 625, 'intellig': 626, 'british': 627, 'atmospher': 628, 'clearli': 629, '80': 630, 'non': 631, 'dog': 632, 'paul': 633, 'artist': 634, 'fast': 635, 'knew': 636, '8': 637, 'crime': 638, 'easili': 639, 'escap': 640, 'doubt': 641, 'adult': 642, 'detail': 643, 'date': 644, 'romant': 645, 'member': 646, 'fire': 647, 'gun': 648, 'drive': 649, 'straight': 650, 'fit': 651, 'beyond': 652, 'attack': 653, 'imag': 654, 'upon': 655, 'posit': 656, 'whether': 657, 'peter': 658, 'fantast': 659, 'captur': 660, 'aspect': 661, 'appreci': 662, 'ten': 663, 'plan': 664, 'discov': 665, 'remain': 666, 'period': 667, 'near': 668, 'realist': 669, 'air': 670, 'mark': 671, 'red': 672, 'dull': 673, 'adapt': 674, 'within': 675, 'lose': 676, 'spend': 677, 'materi': 678, 'color': 679, 'chase': 680, 'mari': 681, 'storylin': 682, 'forget': 683, 'bunch': 684, 'clear': 685, 'lee': 686, 'victim': 687, 'nearli': 688, 'box': 689, 'york': 690, 'match': 691, 'inspir': 692, 'finish': 693, 'mess': 694, 'standard': 695, 'easi': 696, 'truth': 697, 'suffer': 698, 'busi': 699, 'space': 700, 'dramat': 701, 'bill': 702, 'western': 703, 'e': 704, 'list': 705, 'battl': 706, 'notic': 707, 'de': 708, 'french': 709, 'ad': 710, '9': 711, 'tom': 712, 'larg': 713, 'among': 714, 'eventu': 715, 'accept': 716, 'train': 717, 'agre': 718, 'soundtrack': 719, 'spirit': 720, 'third': 721, 'teenag': 722, 'soldier': 723, 'adventur': 724, 'famou': 725, 'suggest': 726, 'sorri': 727, 'drug': 728, 'normal': 729, 'babi': 730, 'cri': 731, 'ultim': 732, 'troubl': 733, 'contain': 734, 'certain': 735, 'cultur': 736, 'romanc': 737, 'rare': 738, 'lame': 739, 'somehow': 740, 'mix': 741, 'disney': 742, 'gone': 743, 'cartoon': 744, 'student': 745, 'fear': 746, 'reveal': 747, 'suck': 748, 'kept': 749, 'attract': 750, 'appeal': 751, 'premis': 752, 'secret': 753, 'greatest': 754, 'design': 755, 'shame': 756, 'throw': 757, 'copi': 758, 'scare': 759, 'wit': 760, 'admit': 761, 'america': 762, 'brought': 763, 'relat': 764, 'particular': 765, 'screenplay': 766, 'whatev': 767, 'pure': 768, '70': 769, 'averag': 770, 'harri': 771, 'master': 772, 'describ': 773, 'male': 774, 'treat': 775, '20': 776, 'fantasi': 777, 'issu': 778, 'warn': 779, 'inde': 780, 'background': 781, 'forward': 782, 'project': 783, 'free': 784, 'japanes': 785, 'memor': 786, 'poorli': 787, 'award': 788, 'locat': 789, 'amus': 790, 'potenti': 791, 'struggl': 792, 'weird': 793, 'magic': 794, 'societi': 795, 'okay': 796, 'accent': 797, 'imdb': 798, 'doctor': 799, 'hot': 800, 'water': 801, 'alien': 802, 'express': 803, '30': 804, 'dr': 805, 'odd': 806, 'choic': 807, 'crazi': 808, 'studio': 809, 'fiction': 810, 'becam': 811, 'control': 812, 'masterpiec': 813, 'fli': 814, 'difficult': 815, 'joe': 816, 'scream': 817, 'costum': 818, 'lover': 819, 'refer': 820, 'uniqu': 821, 'remak': 822, 'girlfriend': 823, 'vampir': 824, 'prison': 825, 'execut': 826, 'wear': 827, 'jump': 828, 'unless': 829, 'wood': 830, 'creepi': 831, 'cheesi': 832, 'superb': 833, 'otherwis': 834, 'parti': 835, 'ghost': 836, 'roll': 837, 'mad': 838, 'public': 839, 'depict': 840, 'badli': 841, 'jane': 842, 'moral': 843, 'week': 844, 'earlier': 845, 'fi': 846, 'dumb': 847, 'flaw': 848, 'grow': 849, 'deep': 850, 'sci': 851, 'cat': 852, 'maker': 853, 'older': 854, 'footag': 855, 'connect': 856, 'plenti': 857, 'bother': 858, 'outsid': 859, 'stick': 860, 'gay': 861, 'catch': 862, 'plu': 863, 'co': 864, 'popular': 865, 'equal': 866, 'social': 867, 'disturb': 868, 'quickli': 869, 'perfectli': 870, 'dress': 871, 'era': 872, '90': 873, 'mistak': 874, 'lie': 875, 'previou': 876, 'ride': 877, 'combin': 878, 'band': 879, 'concept': 880, 'rich': 881, 'surviv': 882, 'answer': 883, 'front': 884, 'sweet': 885, 'christma': 886, 'insid': 887, 'bare': 888, 'concern': 889, 'eat': 890, 'listen': 891, 'beat': 892, 'ben': 893, 'c': 894, 'term': 895, 'serv': 896, 'meant': 897, 'german': 898, 'la': 899, 'hardli': 900, 'stereotyp': 901, 'innoc': 902, 'law': 903, 'desper': 904, 'memori': 905, 'promis': 906, 'cute': 907, 'intent': 908, 'inform': 909, 'variou': 910, 'steal': 911, 'brain': 912, 'post': 913, 'tone': 914, 'island': 915, 'amount': 916, 'compani': 917, 'track': 918, 'nuditi': 919, 'claim': 920, 'store': 921, 'flat': 922, 'hair': 923, '50': 924, 'land': 925, 'univers': 926, 'danger': 927, 'scott': 928, 'kick': 929, 'fairli': 930, 'player': 931, 'plain': 932, 'crew': 933, 'step': 934, 'toni': 935, 'share': 936, 'centuri': 937, 'tast': 938, 'achiev': 939, 'engag': 940, 'cold': 941, 'travel': 942, 'rip': 943, 'suit': 944, 'record': 945, 'manner': 946, 'sadli': 947, 'wrote': 948, 'tension': 949, 'spot': 950, 'intens': 951, 'fascin': 952, 'familiar': 953, 'remark': 954, 'burn': 955, 'depth': 956, 'histor': 957, 'destroy': 958, 'sleep': 959, 'purpos': 960, 'languag': 961, 'ignor': 962, 'ruin': 963, 'delight': 964, 'unbeliev': 965, 'italian': 966, 'soul': 967, 'abil': 968, 'collect': 969, 'clever': 970, 'detect': 971, 'violent': 972, 'rape': 973, 'reach': 974, 'door': 975, 'liter': 976, 'scienc': 977, 'trash': 978, 'commun': 979, 'reveng': 980, 'caught': 981, 'creatur': 982, 'approach': 983, 'trip': 984, 'fashion': 985, 'intrigu': 986, 'skill': 987, 'introduc': 988, 'paint': 989, 'channel': 990, 'complex': 991, 'camp': 992, 'christian': 993, 'extra': 994, 'hole': 995, 'ann': 996, 'limit': 997, 'mental': 998, 'immedi': 999, 'comput': 1000, 'mere': 1001, 'slightli': 1002, '6': 1003, 'million': 1004, 'conclus': 1005, 'slasher': 1006, 'suddenli': 1007, 'imposs': 1008, 'neither': 1009, 'crimin': 1010, 'teen': 1011, 'nation': 1012, 'physic': 1013, 'spent': 1014, 'respons': 1015, 'planet': 1016, 'receiv': 1017, 'fake': 1018, 'sick': 1019, 'blue': 1020, 'bizarr': 1021, 'embarrass': 1022, 'indian': 1023, '15': 1024, 'ring': 1025, 'drop': 1026, 'pop': 1027, 'drag': 1028, 'haunt': 1029, 'suspect': 1030, 'pointless': 1031, 'search': 1032, 'edg': 1033, 'handl': 1034, 'biggest': 1035, 'common': 1036, 'hurt': 1037, 'arriv': 1038, 'faith': 1039, 'technic': 1040, 'angel': 1041, 'genuin': 1042, 'dad': 1043, 'awesom': 1044, 'f': 1045, 'solid': 1046, 'former': 1047, 'colleg': 1048, 'focu': 1049, 'van': 1050, 'count': 1051, 'tear': 1052, 'heavi': 1053, 'wall': 1054, 'rais': 1055, 'younger': 1056, 'laughabl': 1057, 'visit': 1058, 'fair': 1059, 'sign': 1060, 'excus': 1061, 'cult': 1062, 'key': 1063, 'motion': 1064, 'tough': 1065, 'super': 1066, 'desir': 1067, 'stun': 1068, 'addit': 1069, 'exploit': 1070, 'cloth': 1071, 'tortur': 1072, 'smith': 1073, 'race': 1074, 'davi': 1075, 'author': 1076, 'cross': 1077, 'jim': 1078, 'compel': 1079, 'focus': 1080, 'minor': 1081, 'consist': 1082, 'pathet': 1083, 'commit': 1084, 'chemistri': 1085, 'park': 1086, 'tradit': 1087, 'obsess': 1088, 'frank': 1089, 'grade': 1090, '60': 1091, 'asid': 1092, 'brutal': 1093, 'somewher': 1094, 'steve': 1095, 'rule': 1096, 'grant': 1097, 'opportun': 1098, 'u': 1099, 'explor': 1100, 'depress': 1101, 'besid': 1102, 'honest': 1103, 'anti': 1104, 'dub': 1105, 'trailer': 1106, 'intend': 1107, 'bar': 1108, 'west': 1109, 'regard': 1110, 'longer': 1111, 'scientist': 1112, 'judg': 1113, 'decad': 1114, 'silent': 1115, 'armi': 1116, 'creativ': 1117, 'wild': 1118, 'stewart': 1119, 'south': 1120, 'g': 1121, 'draw': 1122, 'road': 1123, 'govern': 1124, 'boss': 1125, 'ex': 1126, 'practic': 1127, 'club': 1128, 'motiv': 1129, 'festiv': 1130, 'surprisingli': 1131, 'gang': 1132, 'london': 1133, 'redeem': 1134, 'page': 1135, 'green': 1136, 'aliv': 1137, 'display': 1138, 'idiot': 1139, 'militari': 1140, 'machin': 1141, 'repeat': 1142, 'thrill': 1143, 'folk': 1144, 'nobodi': 1145, 'yeah': 1146, '100': 1147, '40': 1148, 'garbag': 1149, 'journey': 1150, 'tire': 1151, 'ground': 1152, 'smile': 1153, 'mood': 1154, 'bought': 1155, 'cost': 1156, 'stone': 1157, 'sam': 1158, 'noir': 1159, 'mouth': 1160, 'terrif': 1161, 'agent': 1162, 'utterli': 1163, 'requir': 1164, 'area': 1165, 'honestli': 1166, 'sexi': 1167, 'geniu': 1168, 'report': 1169, 'humour': 1170, 'glad': 1171, 'enter': 1172, 'investig': 1173, 'serial': 1174, 'passion': 1175, 'occasion': 1176, 'narr': 1177, 'marriag': 1178, 'climax': 1179, 'industri': 1180, 'studi': 1181, 'nowher': 1182, 'ship': 1183, 'center': 1184, 'demon': 1185, 'charli': 1186, 'loos': 1187, 'hors': 1188, 'bear': 1189, 'hang': 1190, 'wow': 1191, 'graphic': 1192, 'admir': 1193, 'giant': 1194, 'send': 1195, 'damn': 1196, 'loud': 1197, 'subtl': 1198, 'rel': 1199, 'profession': 1200, 'nake': 1201, 'blow': 1202, 'bottom': 1203, 'batman': 1204, 'insult': 1205, 'doubl': 1206, 'boyfriend': 1207, 'r': 1208, 'kelli': 1209, 'initi': 1210, 'frame': 1211, 'gem': 1212, 'opera': 1213, 'drawn': 1214, 'affect': 1215, 'cinemat': 1216, 'church': 1217, 'challeng': 1218, 'l': 1219, 'j': 1220, 'nightmar': 1221, 'evid': 1222, 'seek': 1223, 'fulli': 1224, 'arm': 1225, 'essenti': 1226, 'conflict': 1227, 'christoph': 1228, 'wind': 1229, 'grace': 1230, 'henri': 1231, 'narrat': 1232, 'assum': 1233, 'witch': 1234, 'push': 1235, 'hunt': 1236, 'wise': 1237, 'chri': 1238, 'month': 1239, 'nomin': 1240, 'repres': 1241, 'hide': 1242, 'sceneri': 1243, 'affair': 1244, 'avail': 1245, 'smart': 1246, 'thu': 1247, 'bond': 1248, 'justic': 1249, 'outstand': 1250, 'interview': 1251, 'flashback': 1252, 'constantli': 1253, 'presenc': 1254, 'satisfi': 1255, 'central': 1256, 'bed': 1257, 'iron': 1258, 'sell': 1259, 'content': 1260, 'everybodi': 1261, 'gag': 1262, 'slowli': 1263, 'hotel': 1264, 'hire': 1265, 'system': 1266, 'individu': 1267, 'hey': 1268, 'charl': 1269, 'adam': 1270, 'thrown': 1271, 'jone': 1272, 'mediocr': 1273, 'allen': 1274, 'ray': 1275, 'lesson': 1276, 'billi': 1277, 'photographi': 1278, 'cameo': 1279, 'fellow': 1280, 'pari': 1281, 'strike': 1282, 'absurd': 1283, 'brief': 1284, 'rise': 1285, 'independ': 1286, 'neg': 1287, 'impact': 1288, 'phone': 1289, 'model': 1290, 'ill': 1291, 'born': 1292, 'fresh': 1293, 'spoil': 1294, 'angl': 1295, 'likabl': 1296, 'abus': 1297, 'discuss': 1298, 'hill': 1299, 'ahead': 1300, 'sight': 1301, 'sent': 1302, 'photograph': 1303, 'blame': 1304, 'shine': 1305, 'occur': 1306, 'logic': 1307, 'bruce': 1308, 'mainli': 1309, 'commerci': 1310, 'skip': 1311, 'forev': 1312, 'held': 1313, 'teacher': 1314, 'surround': 1315, 'segment': 1316, 'blond': 1317, 'zero': 1318, 'resembl': 1319, 'summer': 1320, 'trap': 1321, 'satir': 1322, 'queen': 1323, 'fool': 1324, 'six': 1325, 'ball': 1326, 'twice': 1327, 'tragedi': 1328, 'sub': 1329, 'reaction': 1330, 'pack': 1331, 'bomb': 1332, 'hospit': 1333, 'protagonist': 1334, 'will': 1335, 'sport': 1336, 'mile': 1337, 'mom': 1338, 'drink': 1339, 'jerri': 1340, 'vote': 1341, 'trust': 1342, 'encount': 1343, 'plane': 1344, 'program': 1345, 'current': 1346, 'station': 1347, 'al': 1348, 'choos': 1349, 'celebr': 1350, 'martin': 1351, 'join': 1352, 'lord': 1353, 'favourit': 1354, 'round': 1355, 'field': 1356, 'tragic': 1357, 'vision': 1358, 'jean': 1359, 'robot': 1360, 'arthur': 1361, 'tie': 1362, 'fortun': 1363, 'random': 1364, 'roger': 1365, 'intern': 1366, 'dread': 1367, 'psycholog': 1368, 'improv': 1369, 'prefer': 1370, 'nonsens': 1371, 'epic': 1372, 'formula': 1373, 'legend': 1374, 'highlight': 1375, 'pleasur': 1376, 'dollar': 1377, 'tape': 1378, '11': 1379, 'porn': 1380, 'fox': 1381, 'object': 1382, 'thin': 1383, 'gorgeou': 1384, 'wide': 1385, 'ugli': 1386, 'buddi': 1387, 'influenc': 1388, 'ii': 1389, 'nasti': 1390, 'prepar': 1391, 'reflect': 1392, 'supposedli': 1393, 'progress': 1394, 'warm': 1395, 'worthi': 1396, 'youth': 1397, 'unusu': 1398, 'length': 1399, 'latter': 1400, 'crash': 1401, 'shop': 1402, 'superior': 1403, 'seven': 1404, 'childhood': 1405, 'theatr': 1406, 'remot': 1407, 'disgust': 1408, 'paid': 1409, 'funniest': 1410, 'pilot': 1411, 'convers': 1412, 'castl': 1413, 'trick': 1414, 'fell': 1415, 'rob': 1416, 'disast': 1417, 'establish': 1418, 'gangster': 1419, 'heaven': 1420, 'suicid': 1421, 'mine': 1422, 'disappear': 1423, 'ident': 1424, 'heroin': 1425, 'forgotten': 1426, 'decis': 1427, 'singer': 1428, 'mask': 1429, 'tend': 1430, 'brian': 1431, 'partner': 1432, 'alan': 1433, 'recogn': 1434, 'desert': 1435, 'thoroughli': 1436, 'p': 1437, 'stuck': 1438, 'sky': 1439, 'ms': 1440, 'replac': 1441, 'accur': 1442, 'market': 1443, 'seemingli': 1444, 'uncl': 1445, 'commentari': 1446, 'clue': 1447, 'andi': 1448, 'eddi': 1449, 'danni': 1450, 'devil': 1451, 'jackson': 1452, 'therefor': 1453, 'pair': 1454, 'that': 1455, 'refus': 1456, 'fate': 1457, 'ed': 1458, 'accid': 1459, 'unit': 1460, 'river': 1461, 'fault': 1462, 'afraid': 1463, 'tune': 1464, 'stephen': 1465, 'hidden': 1466, 'clean': 1467, 'russian': 1468, 'captain': 1469, 'quick': 1470, 'irrit': 1471, 'test': 1472, 'convey': 1473, 'readi': 1474, 'instanc': 1475, 'european': 1476, 'daniel': 1477, 'insan': 1478, 'frustrat': 1479, 'wed': 1480, 'food': 1481, 'chines': 1482, '1950': 1483, 'rescu': 1484, 'angri': 1485, 'dirti': 1486, 'lock': 1487, 'joy': 1488, 'price': 1489, 'steven': 1490, 'bland': 1491, 'cage': 1492, 'anymor': 1493, 'rang': 1494, 'wooden': 1495, 'rush': 1496, 'n': 1497, 'jason': 1498, 'news': 1499, 'board': 1500, 'martial': 1501, '12': 1502, 'worri': 1503, 'led': 1504, 'twenti': 1505, 'symbol': 1506, 'cgi': 1507, 'transform': 1508, 'hunter': 1509, 'piti': 1510, 'x': 1511, 'johnni': 1512, 'invent': 1513, 'sentiment': 1514, 'onto': 1515, 'process': 1516, 'explan': 1517, 'attitud': 1518, 'owner': 1519, 'awar': 1520, 'aim': 1521, 'target': 1522, 'necessari': 1523, 'floor': 1524, 'energi': 1525, 'favor': 1526, 'opposit': 1527, 'religi': 1528, 'blind': 1529, 'chick': 1530, 'insight': 1531, 'window': 1532, 'movement': 1533, 'comparison': 1534, 'deepli': 1535, 'mountain': 1536, 'possess': 1537, 'research': 1538, 'whatsoev': 1539, 'rain': 1540, 'grand': 1541, 'comed': 1542, 'bank': 1543, 'shadow': 1544, 'mid': 1545, 'began': 1546, 'parodi': 1547, 'princ': 1548, 'friendship': 1549, 'pre': 1550, 'taylor': 1551, 'credibl': 1552, 'weapon': 1553, 'flesh': 1554, 'dougla': 1555, 'teach': 1556, 'protect': 1557, 'bloodi': 1558, 'hint': 1559, 'terror': 1560, 'marvel': 1561, 'accord': 1562, 'superman': 1563, 'anybodi': 1564, 'drunk': 1565, 'load': 1566, 'leader': 1567, 'watchabl': 1568, 'brown': 1569, 'freddi': 1570, 'tim': 1571, 'appropri': 1572, 'hitler': 1573, 'jeff': 1574, 'seat': 1575, 'knock': 1576, 'charg': 1577, 'keaton': 1578, 'unknown': 1579, 'villag': 1580, 'england': 1581, 'enemi': 1582, 'media': 1583, 'unnecessari': 1584, 'empti': 1585, 'dare': 1586, 'utter': 1587, 'wave': 1588, 'buck': 1589, 'craft': 1590, 'perspect': 1591, 'strength': 1592, 'correct': 1593, 'contrast': 1594, 'kiss': 1595, 'nativ': 1596, 'ford': 1597, 'distract': 1598, 'anywher': 1599, 'chill': 1600, 'nazi': 1601, 'speed': 1602, 'knowledg': 1603, 'magnific': 1604, 'soap': 1605, 'ice': 1606, '1980': 1607, 'mission': 1608, 'breath': 1609, 'fred': 1610, 'jr': 1611, 'moon': 1612, 'crowd': 1613, 'joan': 1614, 'soft': 1615, '000': 1616, 'frighten': 1617, 'kate': 1618, 'nick': 1619, 'dick': 1620, 'hundr': 1621, 'dan': 1622, 'radio': 1623, 'dozen': 1624, 'simon': 1625, 'somebodi': 1626, 'loss': 1627, 'shakespear': 1628, 'andrew': 1629, 'academi': 1630, 'thousand': 1631, 'root': 1632, 'quot': 1633, 'account': 1634, 'vehicl': 1635, 'sum': 1636, '1970': 1637, 'behavior': 1638, 'convent': 1639, 'leg': 1640, 'regular': 1641, 'gold': 1642, 'demand': 1643, 'compet': 1644, 'worker': 1645, 'pretenti': 1646, 'notabl': 1647, 'interpret': 1648, 'privat': 1649, 'lynch': 1650, 'explos': 1651, 'candi': 1652, 'japan': 1653, 'stretch': 1654, 'debut': 1655, 'constant': 1656, 'tarzan': 1657, 'prais': 1658, 'sea': 1659, 'revolv': 1660, 'translat': 1661, 'spi': 1662, 'quiet': 1663, 'technolog': 1664, 'threaten': 1665, 'sat': 1666, 'jesu': 1667, 'failur': 1668, 'ass': 1669, 'franc': 1670, 'toy': 1671, 'kevin': 1672, 'punch': 1673, 'met': 1674, 'higher': 1675, 'aid': 1676, 'vh': 1677, 'mike': 1678, 'abandon': 1679, 'interact': 1680, 'confront': 1681, 'separ': 1682, 'command': 1683, 'bet': 1684, 'servic': 1685, 'recal': 1686, 'stunt': 1687, 'belong': 1688, 'gotten': 1689, 'site': 1690, 'techniqu': 1691, 'cabl': 1692, 'freak': 1693, 'foot': 1694, 'bug': 1695, 'bright': 1696, 'jimmi': 1697, 'african': 1698, 'fu': 1699, 'capabl': 1700, 'clark': 1701, 'stock': 1702, 'presid': 1703, 'fat': 1704, 'succeed': 1705, 'boat': 1706, 'gene': 1707, 'spanish': 1708, 'structur': 1709, 'paper': 1710, 'kidnap': 1711, 'whilst': 1712, 'belief': 1713, 'factor': 1714, 'realism': 1715, 'witti': 1716, 'bob': 1717, 'complic': 1718, 'educ': 1719, 'realis': 1720, 'attend': 1721, 'tree': 1722, 'finest': 1723, 'broken': 1724, 'assist': 1725, 'santa': 1726, 'smoke': 1727, 'up': 1728, 'observ': 1729, 'depart': 1730, 'determin': 1731, 'v': 1732, 'hat': 1733, 'domin': 1734, 'routin': 1735, 'oper': 1736, 'fame': 1737, 'rubbish': 1738, 'lewi': 1739, 'safe': 1740, 'hook': 1741, 'advanc': 1742, 'lone': 1743, 'kinda': 1744, 'morgan': 1745, 'foreign': 1746, 'rank': 1747, 'numer': 1748, 'rose': 1749, 'washington': 1750, 'civil': 1751, 'shallow': 1752, 'werewolf': 1753, 'shape': 1754, 'vs': 1755, 'morn': 1756, 'gari': 1757, 'accomplish': 1758, 'winner': 1759, 'kong': 1760, 'ordinari': 1761, 'peac': 1762, 'grab': 1763, 'whenev': 1764, 'virtual': 1765, 'offens': 1766, 'h': 1767, 'luck': 1768, 'unfunni': 1769, 'activ': 1770, 'bigger': 1771, 'welcom': 1772, 'contriv': 1773, 'patient': 1774, 'complain': 1775, 'pretend': 1776, 'con': 1777, 'dimension': 1778, 'trek': 1779, 'flash': 1780, 'lesbian': 1781, 'code': 1782, 'cain': 1783, 'eric': 1784, 'wake': 1785, 'dri': 1786, 'corrupt': 1787, 'statu': 1788, 'manipul': 1789, 'albert': 1790, 'guard': 1791, 'dancer': 1792, 'speech': 1793, 'sourc': 1794, 'gain': 1795, 'signific': 1796, 'context': 1797, 'awkward': 1798, 'clip': 1799, 'corni': 1800, 'psycho': 1801, 'anthoni': 1802, '13': 1803, 'sean': 1804, 'w': 1805, 'advic': 1806, 'priest': 1807, 'reli': 1808, 'religion': 1809, 'curiou': 1810, 'theatric': 1811, 'addict': 1812, 'flow': 1813, 'specif': 1814, 'asian': 1815, 'skin': 1816, 'howard': 1817, 'secur': 1818, 'jennif': 1819, 'comfort': 1820, 'organ': 1821, 'core': 1822, 'golden': 1823, 'luke': 1824, 'promot': 1825, 'lucki': 1826, 'cheat': 1827, 'cash': 1828, 'dislik': 1829, 'lower': 1830, 'associ': 1831, 'wing': 1832, 'devic': 1833, 'frankli': 1834, 'degre': 1835, 'balanc': 1836, 'frequent': 1837, 'contribut': 1838, 'spell': 1839, 'regret': 1840, 'forgiv': 1841, 'print': 1842, 'lake': 1843, 'sake': 1844, 'mass': 1845, 'thoma': 1846, 'betti': 1847, 'unexpect': 1848, 'crack': 1849, 'gordon': 1850, 'construct': 1851, 'depend': 1852, 'amateur': 1853, 'invit': 1854, 'grown': 1855, 'categori': 1856, 'unfold': 1857, 'intellectu': 1858, 'walter': 1859, 'anna': 1860, 'matur': 1861, 'condit': 1862, 'grew': 1863, 'honor': 1864, 'sole': 1865, 'veteran': 1866, 'spectacular': 1867, 'mirror': 1868, 'sudden': 1869, 'grip': 1870, 'experienc': 1871, 'card': 1872, 'demonstr': 1873, 'overli': 1874, 'gift': 1875, 'liner': 1876, 'meanwhil': 1877, 'robin': 1878, 'freedom': 1879, 'theori': 1880, 'oliv': 1881, 'brilliantli': 1882, 'section': 1883, 'drew': 1884, 'crappi': 1885, 'sheriff': 1886, 'circumst': 1887, 'unabl': 1888, 'colour': 1889, 'subtitl': 1890, 'cook': 1891, 'altern': 1892, 'laughter': 1893, 'parker': 1894, 'matt': 1895, 'sheer': 1896, 'pile': 1897, 'path': 1898, 'treatment': 1899, 'relief': 1900, 'accident': 1901, 'wander': 1902, 'lawyer': 1903, 'defin': 1904, 'sinatra': 1905, 'hall': 1906, 'captiv': 1907, 'hank': 1908, 'dragon': 1909, 'halloween': 1910, 'gratuit': 1911, 'moor': 1912, 'jacki': 1913, 'barbara': 1914, 'cowboy': 1915, 'unintent': 1916, 'k': 1917, 'wound': 1918, 'wayn': 1919, 'kung': 1920, 'broadway': 1921, 'canadian': 1922, 'statement': 1923, 'winter': 1924, 'surreal': 1925, 'spoof': 1926, 'compos': 1927, 'gonna': 1928, 'treasur': 1929, 'fish': 1930, 'cheer': 1931, 'fare': 1932, 'unrealist': 1933, 'sensit': 1934, 'emerg': 1935, 'woodi': 1936, 'victor': 1937, 'neighbor': 1938, 'sympathet': 1939, 'ran': 1940, 'driven': 1941, 'authent': 1942, 'expos': 1943, 'menac': 1944, 'topic': 1945, 'glass': 1946, 'overlook': 1947, 'gross': 1948, 'chief': 1949, 'ancient': 1950, 'handsom': 1951, 'michel': 1952, 'pleasant': 1953, 'built': 1954, 'nevertheless': 1955, 'network': 1956, 'contemporari': 1957, 'feet': 1958, 'stranger': 1959, 'comedian': 1960, 'cinderella': 1961, 'russel': 1962, 'gori': 1963, 'earn': 1964, 'consider': 1965, 'blockbust': 1966, 'underr': 1967, 'endless': 1968, 'miser': 1969, 'letter': 1970, 'brook': 1971, 'solv': 1972, 'switch': 1973, 'virgin': 1974, 'edward': 1975, 'bullet': 1976, 'joseph': 1977, 'convict': 1978, 'victoria': 1979, 'scenario': 1980, 'scale': 1981, '0': 1982, 'chosen': 1983, 'cynic': 1984, 'alex': 1985, 'outrag': 1986, 'com': 1987, 'gut': 1988, 'curs': 1989, 'sword': 1990, 'substanc': 1991, 'screenwrit': 1992, 'wrap': 1993, 'driver': 1994, 'proper': 1995, 'uk': 1996, 'juli': 1997, 'monkey': 1998, 'indic': 1999, 'court': 2000, 'remov': 2001, 'bird': 2002, 'par': 2003, 'nanci': 2004, 'advertis': 2005, 'loser': 2006, 'grave': 2007, 'inevit': 2008, 'consequ': 2009, 'naiv': 2010, 'roy': 2011, 'rental': 2012, 'brave': 2013, 'bridg': 2014, 'fatal': 2015, 'germani': 2016, 'slap': 2017, 'invis': 2018, 'le': 2019, 'loui': 2020, 'provok': 2021, 'footbal': 2022, 'anger': 2023, 'ador': 2024, 'chan': 2025, 'alcohol': 2026, 'anderson': 2027, 'stumbl': 2028, 'ryan': 2029, 'professor': 2030, 'willi': 2031, 'patrick': 2032, 'sharp': 2033, 'bat': 2034, 'assassin': 2035, '1930': 2036, 'australian': 2037, 'liber': 2038, 'eight': 2039, 'deni': 2040, 'trilog': 2041, 'cell': 2042, 'strongli': 2043, 'heck': 2044, 'refresh': 2045, 'saturday': 2046, 'lousi': 2047, 'ape': 2048, 'amateurish': 2049, 'sin': 2050, 'san': 2051, 'justifi': 2052, 'resid': 2053, 'vagu': 2054, 'terrifi': 2055, 'reput': 2056, 'defeat': 2057, 'indi': 2058, 'sympathi': 2059, 'creator': 2060, 'mini': 2061, 'tabl': 2062, 'expert': 2063, 'task': 2064, 'prevent': 2065, 'endur': 2066, 'tediou': 2067, 'imit': 2068, 'employ': 2069, 'rival': 2070, 'basebal': 2071, 'che': 2072, 'offend': 2073, 'trial': 2074, 'europ': 2075, 'max': 2076, 'weekend': 2077, 'dig': 2078, 'beach': 2079, 'complaint': 2080, 'pitch': 2081, 'fairi': 2082, 'risk': 2083, 'purchas': 2084, 'format': 2085, 'murphi': 2086, 'harsh': 2087, 'titan': 2088, 'glimps': 2089, 'hype': 2090, 'powel': 2091, 'bite': 2092, 'nois': 2093, 'tini': 2094, 'reminisc': 2095, 'strip': 2096, 'north': 2097, 'till': 2098, 'prime': 2099, 'asleep': 2100, 'fals': 2101, '14': 2102, 'revel': 2103, 'descript': 2104, 'texa': 2105, 'destruct': 2106, 'africa': 2107, 'semi': 2108, 'inner': 2109, 'uninterest': 2110, 'excess': 2111, 'surfac': 2112, 'arrest': 2113, 'spin': 2114, 'sitcom': 2115, 'massiv': 2116, 'argu': 2117, 'dinosaur': 2118, 'hitchcock': 2119, 'controversi': 2120, 'maintain': 2121, 'makeup': 2122, 'twin': 2123, 'ideal': 2124, 'ludicr': 2125, 'kim': 2126, 'stare': 2127, 'reject': 2128, 'melodrama': 2129, 'insist': 2130, 'expens': 2131, 'ala': 2132, 'subplot': 2133, 'atroci': 2134, 'press': 2135, 'erot': 2136, 'supernatur': 2137, 'nail': 2138, 'forest': 2139, 'ga': 2140, 'host': 2141, 'columbo': 2142, 'presum': 2143, 'cant': 2144, 'identifi': 2145, 'dude': 2146, 'notch': 2147, 'crude': 2148, 'closer': 2149, 'character': 2150, 'guest': 2151, 'forgett': 2152, 'method': 2153, 'plagu': 2154, 'ear': 2155, 'border': 2156, 'beast': 2157, 'foster': 2158, 'princess': 2159, 'landscap': 2160, 'lion': 2161, 'urban': 2162, 'damag': 2163, 'aunt': 2164, 'accus': 2165, 'bound': 2166, 'previous': 2167, 'jungl': 2168, 'birth': 2169, 'storytel': 2170, 'pacino': 2171, 'propaganda': 2172, 'nude': 2173, 'chose': 2174, 'guid': 2175, 'jess': 2176, 'thirti': 2177, 'doll': 2178, 'emma': 2179, 'mainstream': 2180, 'warrior': 2181, 'whoever': 2182, 'mate': 2183, '25': 2184, 'pet': 2185, 'exact': 2186, 'latest': 2187, 'gritti': 2188, 'poster': 2189, 'upset': 2190, 'merit': 2191, 'cooper': 2192, 'deadli': 2193, 'friday': 2194, 'size': 2195, 'warner': 2196, 'settl': 2197, 'popul': 2198, 'blend': 2199, 'contest': 2200, 'buff': 2201, 'contact': 2202, 'wilson': 2203, 'sun': 2204, 'ton': 2205, 'corps': 2206, 'citizen': 2207, '1990': 2208, 'rough': 2209, 'metal': 2210, 'widow': 2211, 'overcom': 2212, 'environ': 2213, 'bu': 2214, 'mgm': 2215, 'alic': 2216, 'select': 2217, 'rat': 2218, 'pitt': 2219, 'lift': 2220, 'particip': 2221, 'guilti': 2222, 'revolut': 2223, 'ted': 2224, 'link': 2225, 'moron': 2226, 'afternoon': 2227, 'prostitut': 2228, 'johnson': 2229, 'accompani': 2230, 'corner': 2231, 'exagger': 2232, '1960': 2233, 'matrix': 2234, 'corpor': 2235, 'friendli': 2236, 'multipl': 2237, 'holm': 2238, 'instal': 2239, 'doom': 2240, 'hood': 2241, 'clair': 2242, 'leagu': 2243, 'sincer': 2244, 'examin': 2245, 'irish': 2246, 'sunday': 2247, 'campi': 2248, 'advis': 2249, 'blah': 2250, 'grim': 2251, 'string': 2252, 'hip': 2253, 'lugosi': 2254, 'junk': 2255, 'defend': 2256, 'aka': 2257, 'icon': 2258, 'confid': 2259, 'shake': 2260, 'tight': 2261, 'varieti': 2262, 'shut': 2263, 'pro': 2264, 'rachel': 2265, 'attach': 2266, 'goal': 2267, 'denni': 2268, 'mexican': 2269, 'medic': 2270, 'directli': 2271, 'sullivan': 2272, 'jaw': 2273, 'courag': 2274, 'sentenc': 2275, 'truck': 2276, 'terrorist': 2277, 'vietnam': 2278, 'prior': 2279, 'dean': 2280, 'legendari': 2281, 'sarah': 2282, 'duke': 2283, 'bourn': 2284, 'breast': 2285, 'split': 2286, 'entri': 2287, 'nose': 2288, 'un': 2289, 'hong': 2290, 'yell': 2291, 'behav': 2292, 'proceed': 2293, 'donald': 2294, 'everywher': 2295, 'confess': 2296, 'lifetim': 2297, 'unconvinc': 2298, 'jerk': 2299, 'crush': 2300, 'borrow': 2301, 'forth': 2302, 'concentr': 2303, 'gather': 2304, 'buri': 2305, 'swim': 2306, 'stolen': 2307, 'california': 2308, 'deliveri': 2309, 'spite': 2310, 'julia': 2311, 'pan': 2312, 'turkey': 2313, 'lip': 2314, 'flight': 2315, 'proud': 2316, 'reward': 2317, 'hoffman': 2318, 'offici': 2319, 'freeman': 2320, 'downright': 2321, 'quest': 2322, 'china': 2323, 'worthwhil': 2324, 'sir': 2325, 'betray': 2326, 'inept': 2327, 'fade': 2328, 'jail': 2329, 'lazi': 2330, 'jon': 2331, 'encourag': 2332, 'notori': 2333, 'fabul': 2334, 'sink': 2335, 'branagh': 2336, 'susan': 2337, 'survivor': 2338, 'relev': 2339, 'storm': 2340, 'retard': 2341, 'bag': 2342, 'teeth': 2343, 'cousin': 2344, 'imageri': 2345, 'lisa': 2346, 'shower': 2347, 'bell': 2348, 'toler': 2349, 'quirki': 2350, 'hugh': 2351, 'alright': 2352, 'tremend': 2353, 'finger': 2354, 'summari': 2355, 'trade': 2356, 'stab': 2357, 'mexico': 2358, 'facial': 2359, 'shark': 2360, 'bride': 2361, 'blown': 2362, 'pose': 2363, 'hyster': 2364, 'bitter': 2365, 'von': 2366, 'ha': 2367, 'christ': 2368, 'larri': 2369, 'afterward': 2370, 'cruel': 2371, 'bone': 2372, 'scheme': 2373, 'ned': 2374, 'ron': 2375, 'address': 2376, 'snake': 2377, 'thumb': 2378, 'beg': 2379, 'screw': 2380, 'swear': 2381, 'feed': 2382, 'traci': 2383, 'distinct': 2384, 'pursu': 2385, 'tour': 2386, 'chair': 2387, 'mechan': 2388, 'raw': 2389, 'obscur': 2390, 'stomach': 2391, 'occas': 2392, 'photo': 2393, 'southern': 2394, 'holiday': 2395, 'necessarili': 2396, 'chain': 2397, 'cabin': 2398, 'sidney': 2399, 'heavili': 2400, 'gruesom': 2401, 'render': 2402, 'resist': 2403, 'hardi': 2404, 'argument': 2405, 'satan': 2406, 'indulg': 2407, 'racist': 2408, 'philip': 2409, 'understood': 2410, 'india': 2411, 'stalk': 2412, 'pregnant': 2413, 'lay': 2414, 'outfit': 2415, 'fourth': 2416, 'midnight': 2417, 'tongu': 2418, 'belov': 2419, 'forgot': 2420, 'obnoxi': 2421, 'integr': 2422, 'deeper': 2423, 'ticket': 2424, '17': 2425, 'inhabit': 2426, 'slapstick': 2427, 'magazin': 2428, 'carol': 2429, 'garden': 2430, 'restor': 2431, 'shoe': 2432, 'incid': 2433, 'lincoln': 2434, 'devot': 2435, 'brad': 2436, 'anticip': 2437, 'guarante': 2438, 'lili': 2439, 'disbelief': 2440, 'divorc': 2441, 'benefit': 2442, 'maria': 2443, 'sandler': 2444, 'underground': 2445, 'elizabeth': 2446, 'amazingli': 2447, 'slave': 2448, 'capit': 2449, 'explod': 2450, 'greater': 2451, 'mildli': 2452, 'cring': 2453, 'princip': 2454, 'creation': 2455, 'bbc': 2456, 'introduct': 2457, 'extraordinari': 2458, 'lesli': 2459, 'funnier': 2460, 'halfway': 2461, 'tap': 2462, 'transfer': 2463, 'overwhelm': 2464, 'advantag': 2465, 'punish': 2466, 'text': 2467, 'wreck': 2468, 'extent': 2469, 'enhanc': 2470, 'preview': 2471, 'lane': 2472, 'error': 2473, 'jessica': 2474, 'deliber': 2475, 'dynam': 2476, 'horrif': 2477, 'lo': 2478, 'plant': 2479, 'east': 2480, 'sophist': 2481, 'vacat': 2482, 'homosexu': 2483, 'miscast': 2484, 'ensu': 2485, 'basi': 2486, 'appli': 2487, '2000': 2488, 'vincent': 2489, 'miller': 2490, 'steel': 2491, 'via': 2492, 'sleazi': 2493, 'measur': 2494, 'elev': 2495, 'extend': 2496, 'spoken': 2497, 'reed': 2498, 'uncomfort': 2499, 'bollywood': 2500, 'mansion': 2501, 'overact': 2502, 'conceiv': 2503, 'beer': 2504, 'mous': 2505, 'savag': 2506, 'cathol': 2507, 'hippi': 2508, 'assign': 2509, 'blair': 2510, 'daili': 2511, 'goofi': 2512, 'dentist': 2513, 'fix': 2514, 'breathtak': 2515, 'alter': 2516, 'stanley': 2517, 'melt': 2518, 'succe': 2519, 'oppos': 2520, 'everyday': 2521, 'nowaday': 2522, 'sacrific': 2523, 'carpent': 2524, 'properli': 2525, 'burt': 2526, 'subsequ': 2527, 'inspector': 2528, 'circl': 2529, 'block': 2530, 'massacr': 2531, 'laura': 2532, 'neck': 2533, 'grey': 2534, 'access': 2535, 'lesser': 2536, 'mob': 2537, 'fay': 2538, 'concert': 2539, 'pool': 2540, 'portrait': 2541, 'fallen': 2542, 'christi': 2543, 'seagal': 2544, 'jake': 2545, 'competit': 2546, 'relax': 2547, 'chees': 2548, 'jewish': 2549, 'isol': 2550, 'react': 2551, 'usa': 2552, 'sinist': 2553, 'suitabl': 2554, 'nine': 2555, 'appal': 2556, 'stink': 2557, 'ironi': 2558, 'spiritu': 2559, 'lyric': 2560, 'chop': 2561, '2006': 2562, 'creep': 2563, 'nonetheless': 2564, 'immens': 2565, 'adopt': 2566, 'reduc': 2567, 'navi': 2568, 'showcas': 2569, 'needless': 2570, 'user': 2571, 'shirt': 2572, 'spring': 2573, 'retir': 2574, 'nut': 2575, 'luci': 2576, 'rage': 2577, 'franchis': 2578, 'sold': 2579, 'bulli': 2580, 'nurs': 2581, 'asham': 2582, 'stanwyck': 2583, 'uninspir': 2584, 'bath': 2585, 'per': 2586, 'jay': 2587, 'zone': 2588, 'digit': 2589, 'illustr': 2590, 'amongst': 2591, 'sutherland': 2592, 'laid': 2593, 'upper': 2594, 'oddli': 2595, '2001': 2596, 'broadcast': 2597, '1940': 2598, 'disguis': 2599, 'stylish': 2600, 'brando': 2601, 'aspir': 2602, 'throat': 2603, 'fulfil': 2604, 'baker': 2605, 'neighborhood': 2606, 'pride': 2607, 'pound': 2608, '18': 2609, 'impli': 2610, 'endear': 2611, 'wanna': 2612, 'em': 2613, 'nobl': 2614, 'wwii': 2615, 'thief': 2616, 'diseas': 2617, 'distribut': 2618, 'albeit': 2619, 'shoulder': 2620, 'dinner': 2621, 'prop': 2622, '16': 2623, 'tens': 2624, 'shift': 2625, 'coher': 2626, 'bett': 2627, 'cinematograph': 2628, 'bo': 2629, 'dawn': 2630, 'rochest': 2631, 'wash': 2632, 'contract': 2633, 'poignant': 2634, 'forti': 2635, 'silenc': 2636, 'shout': 2637, 'knife': 2638, 'function': 2639, 'matthau': 2640, 'surf': 2641, 'rebel': 2642, 'snow': 2643, 'height': 2644, 'widmark': 2645, 'internet': 2646, 'henc': 2647, 'elvira': 2648, 'proof': 2649, 'instinct': 2650, 'mindless': 2651, 'duti': 2652, 'eeri': 2653, 'reunion': 2654, 'derek': 2655, 'horrend': 2656, 'cancel': 2657, 'heat': 2658, 'silver': 2659, 'cannib': 2660, 'chuck': 2661, 'alik': 2662, 'mill': 2663, 'torn': 2664, 'pie': 2665, 'spielberg': 2666, 'musician': 2667, 'glori': 2668, 'greatli': 2669, 'repetit': 2670, 'premier': 2671, 'incoher': 2672, 'innov': 2673, 'absorb': 2674, 'elvi': 2675, 'etern': 2676, 'neat': 2677, 'burton': 2678, 'infam': 2679, 'diamond': 2680, 'nelson': 2681, 'announc': 2682, 'britain': 2683, 'bang': 2684, 'racism': 2685, 'trite': 2686, 'itali': 2687, 'redempt': 2688, 'homag': 2689, 'precis': 2690, 'lovabl': 2691, 'fbi': 2692, 'crisi': 2693, 'wealthi': 2694, 'horrifi': 2695, 'blank': 2696, 'resolut': 2697, 'hammer': 2698, 'flop': 2699, 'helen': 2700, 'ensembl': 2701, 'wilder': 2702, 'pat': 2703, 'happili': 2704, 'dedic': 2705, 'parallel': 2706, 'streisand': 2707, 'chaplin': 2708, 'carter': 2709, 'plastic': 2710, 'disagre': 2711, 'factori': 2712, 'conclud': 2713, 'st': 2714, 'triumph': 2715, 'broke': 2716, 'mar': 2717, 'oil': 2718, 'cube': 2719, 'vega': 2720, 'march': 2721, 'chuckl': 2722, 'climb': 2723, 'fighter': 2724, 'rocket': 2725, 'row': 2726, 'own': 2727, 'bush': 2728, 'weight': 2729, 'mst3k': 2730, 'sensibl': 2731, 'boot': 2732, 'thug': 2733, 'meaning': 2734, 'enorm': 2735, 'dump': 2736, 'unforgett': 2737, 'lust': 2738, 'dane': 2739, 'luca': 2740, 'wherea': 2741, 'spare': 2742, 'kurt': 2743, 'caricatur': 2744, 'rap': 2745, 'bobbi': 2746, 'arnold': 2747, 'brand': 2748, 'fifti': 2749, 'dear': 2750, 'stress': 2751, 'adequ': 2752, 'butt': 2753, 'karloff': 2754, 'threat': 2755, 'difficulti': 2756, 'engin': 2757, 'swing': 2758, 'arrog': 2759, 'polish': 2760, 'elabor': 2761, 'fest': 2762, 'homeless': 2763, 'flynn': 2764, 'ralph': 2765, 'barri': 2766, 'secretari': 2767, 'journalist': 2768, 'hamlet': 2769, 'ego': 2770, 'grate': 2771, 'float': 2772, 'resort': 2773, 'tool': 2774, 'fanci': 2775, 'puppet': 2776, 'conspiraci': 2777, 'induc': 2778, 'simpson': 2779, 'unbear': 2780, 'arrang': 2781, 'spike': 2782, 'pig': 2783, 'basement': 2784, 'choreograph': 2785, 'phillip': 2786, 'tribut': 2787, 'exercis': 2788, 'guilt': 2789, 'cruis': 2790, 'boll': 2791, 'muppet': 2792, 'layer': 2793, 'tower': 2794, 'korean': 2795, 'puzzl': 2796, 'toilet': 2797, 'ham': 2798, 'document': 2799, 'item': 2800, 'file': 2801, 'ward': 2802, 'scarecrow': 2803, 'babe': 2804, 'medium': 2805, 'slip': 2806, 'editor': 2807, '24': 2808, 'stan': 2809, 'fianc': 2810, 'orient': 2811, 'superfici': 2812, 'denzel': 2813, 'persona': 2814, 'catherin': 2815, 'assur': 2816, 'minim': 2817, 'spark': 2818, 'slaughter': 2819, 'territori': 2820, 'transit': 2821, 'portion': 2822, 'glover': 2823, 'librari': 2824, 'philosoph': 2825, 'doc': 2826, 'inexplic': 2827, 'larger': 2828, 'boredom': 2829, 'ban': 2830, 'owe': 2831, 'walken': 2832, 'pg': 2833, 'jeremi': 2834, 'wolf': 2835, 'dorothi': 2836, 'curti': 2837, 'shi': 2838, 'jet': 2839, 'financi': 2840, 'sneak': 2841, 'backdrop': 2842, 'metaphor': 2843, 'ambigu': 2844, 'eleph': 2845, 'cusack': 2846, 'multi': 2847, 'whale': 2848, 'hudson': 2849, 'profound': 2850, 'notion': 2851, 'stiff': 2852, 'union': 2853, 'elsewher': 2854, 'hack': 2855, 'ultra': 2856, 'implaus': 2857, 'rave': 2858, 'viru': 2859, '2005': 2860, 'birthday': 2861, 'gadget': 2862, 'canada': 2863, 'superhero': 2864, 'deriv': 2865, 'urg': 2866, 'bibl': 2867, 'disc': 2868, 'eastwood': 2869, 'reader': 2870, 'pad': 2871, 'eva': 2872, 'distanc': 2873, 'squar': 2874, 'poison': 2875, 'slight': 2876, 'lloyd': 2877, 'hawk': 2878, 'newspap': 2879, 'afford': 2880, '1st': 2881, 'spread': 2882, 'charisma': 2883, 'skit': 2884, 'sadist': 2885, 'drown': 2886, 'cure': 2887, 'restaur': 2888, 'montag': 2889, 'button': 2890, 'essenc': 2891, 'heston': 2892, 'huh': 2893, 'health': 2894, 'peak': 2895, 'estat': 2896, 'companion': 2897, 'gradual': 2898, 'invest': 2899, 'dealt': 2900, 'maniac': 2901, 'fetch': 2902, 'scoobi': 2903, 'lab': 2904, 'godfath': 2905, 'muslim': 2906, 'tea': 2907, 'cup': 2908, 'ritter': 2909, 'servant': 2910, 'gothic': 2911, 'subtleti': 2912, 'miik': 2913, 'countless': 2914, 'alli': 2915, 'kane': 2916, 'heroic': 2917, 'iii': 2918, 'salli': 2919, 'charismat': 2920, 'electr': 2921, 'briefli': 2922, 'elect': 2923, 'neil': 2924, 'grandmoth': 2925, 'ingredi': 2926, 'nuanc': 2927, 'resourc': 2928, 'reel': 2929, 'admittedli': 2930, 'tender': 2931, 'bud': 2932, 'toss': 2933, 'wannab': 2934, 'cole': 2935, 'kubrick': 2936, 'poverti': 2937, 'shall': 2938, 'reev': 2939, 'label': 2940, 'pit': 2941, 'dawson': 2942, 'gate': 2943, 'carrey': 2944, 'stood': 2945, 'mild': 2946, 'punk': 2947, 'stronger': 2948, 'pauli': 2949, 'mafia': 2950, 'ian': 2951, 'outcom': 2952, 'fond': 2953, 'tag': 2954, 'astair': 2955, 'easier': 2956, 'bakshi': 2957, 'cardboard': 2958, 'smash': 2959, 'updat': 2960, 'cox': 2961, 'terri': 2962, 'assault': 2963, 'burst': 2964, 'useless': 2965, 'smooth': 2966, 'fist': 2967, 'vulner': 2968, 'qualifi': 2969, 'rex': 2970, 'resolv': 2971, 'coincid': 2972, 'exchang': 2973, '2002': 2974, 'sketch': 2975, 'vari': 2976, 'divers': 2977, 'increasingli': 2978, 'melodramat': 2979, 'samurai': 2980, 'scratch': 2981, 'be': 2982, 'luckili': 2983, 'tame': 2984, 'insert': 2985, 'templ': 2986, 'suspend': 2987, 'brillianc': 2988, 'reynold': 2989, 'conveni': 2990, 'blast': 2991, 'gotta': 2992, 'pin': 2993, 'coach': 2994, 'meat': 2995, 'strictli': 2996, 'hamilton': 2997, 'ambiti': 2998, 'seventi': 2999, 'fisher': 3000, 'jami': 3001, 'walker': 3002, 'matthew': 3003, 'soprano': 3004, 'farm': 3005, 'nuclear': 3006, 'brosnan': 3007, 'kudo': 3008, 'convolut': 3009, 'ninja': 3010, 'recreat': 3011, 'timeless': 3012, 'worthless': 3013, 'butcher': 3014, 'cave': 3015, 'eccentr': 3016, 'closet': 3017, 'instantli': 3018, 'grasp': 3019, 'monk': 3020, 'discoveri': 3021, 'clock': 3022, 'struck': 3023, 'revers': 3024, 'empir': 3025, 'spooki': 3026, 'joey': 3027, 'miracl': 3028, 'evok': 3029, 'sloppi': 3030, 'fifteen': 3031, 'sidekick': 3032, 'norman': 3033, 'pal': 3034, 'selfish': 3035, 'cliff': 3036, 'eighti': 3037, 'partli': 3038, 'importantli': 3039, 'inconsist': 3040, 'gray': 3041, 'seller': 3042, 'clown': 3043, 'wipe': 3044, 'declar': 3045, 'communist': 3046, 'bleak': 3047, 'mitchel': 3048, 'aforement': 3049, 'cheek': 3050, '45': 3051, 'enthusiast': 3052, 'ho': 3053, 'psychiatrist': 3054, 'debat': 3055, 'websit': 3056, 'flawless': 3057, 'lifestyl': 3058, 'chew': 3059, 'superbl': 3060, 'farc': 3061, 'destin': 3062, 'piano': 3063, 'seed': 3064, 'stoog': 3065, 'australia': 3066, 'pressur': 3067, 'wick': 3068, 'soviet': 3069, 'regardless': 3070, 'dire': 3071, 'anni': 3072, 'wrestl': 3073, 'bash': 3074, 'directori': 3075, 'incompet': 3076, 'drivel': 3077, 'splatter': 3078, 'emili': 3079, 'abc': 3080, 'kitchen': 3081, 'dash': 3082, 'slice': 3083, 'akshay': 3084, 'lou': 3085, 'flower': 3086, 'ken': 3087, 'cameron': 3088, 'distant': 3089, 'blob': 3090, 'boil': 3091, 'seduc': 3092, 'increas': 3093, 'dave': 3094, 'pleasantli': 3095, 'curios': 3096, 'cagney': 3097, 'cia': 3098, 'beaten': 3099, 'artifici': 3100, 'judi': 3101, 'jar': 3102, 'glow': 3103, 'doo': 3104, 'suppli': 3105, 'chapter': 3106, 'helicopt': 3107, 'duo': 3108, 'recov': 3109, 'prize': 3110, 'mann': 3111, 'splendid': 3112, 'favour': 3113, 'eleg': 3114, 'glenn': 3115, 'hop': 3116, 'turner': 3117, 'psychot': 3118, 'web': 3119, 'goldberg': 3120, 'craig': 3121, 'perri': 3122, 'craven': 3123, 'laurel': 3124, 'combat': 3125, 'ellen': 3126, 'panic': 3127, 'drunken': 3128, 'ranger': 3129, 'francisco': 3130, '20th': 3131, 'flip': 3132, 'rid': 3133, 'philosophi': 3134, 'hatr': 3135, 'greek': 3136, 'plausibl': 3137, 'fx': 3138, 'shortli': 3139, 'slightest': 3140, 'ruth': 3141, 'gentl': 3142, 'wizard': 3143, 'gandhi': 3144, 'alexand': 3145, 'min': 3146, 'graduat': 3147, 'falk': 3148, 'modesti': 3149, 'knight': 3150, 'lend': 3151, 'jealou': 3152, 'fund': 3153, 'tall': 3154, 'harm': 3155, 'legal': 3156, 'dracula': 3157, 'ocean': 3158, 'unpleas': 3159, 'we': 3160, 'holi': 3161, 'futurist': 3162, 'preciou': 3163, 'manhattan': 3164, 'felix': 3165, 'mock': 3166, 'digniti': 3167, 'ami': 3168, 'scientif': 3169, 'childish': 3170, 'explicit': 3171, 'tank': 3172, 'bless': 3173, 'reviv': 3174, 'thread': 3175, 'nod': 3176, 'overdon': 3177, 'forbidden': 3178, 'giallo': 3179, 'eve': 3180, 'mel': 3181, 'pirat': 3182, 'elderli': 3183, 'awe': 3184, 'verhoeven': 3185, 'nerv': 3186, 'thick': 3187, 'fever': 3188, 'yesterday': 3189, 'broad': 3190, 'margaret': 3191, 'repeatedli': 3192, 'unwatch': 3193, '99': 3194, 'awaken': 3195, 'torment': 3196, '2004': 3197, 'kay': 3198, 'ah': 3199, 'royal': 3200, 'lean': 3201, 'uniform': 3202, 'roman': 3203, 'ambit': 3204, 'custom': 3205, 'publish': 3206, 'timothi': 3207, 'politician': 3208, 'automat': 3209, 'absenc': 3210, 'launch': 3211, 'acclaim': 3212, 'rivet': 3213, 'romero': 3214, 'bin': 3215, 'griffith': 3216, 'eas': 3217, 'stiller': 3218, 'pierc': 3219, 'phrase': 3220, 'gabriel': 3221, 'antic': 3222, 'transport': 3223, 'crook': 3224, 'foul': 3225, 'wallac': 3226, 'homicid': 3227, 'termin': 3228, 'bathroom': 3229, 'purpl': 3230, 'warren': 3231, 'stinker': 3232, 'pulp': 3233, 'sunshin': 3234, 'darker': 3235, 'tomato': 3236, 'kenneth': 3237, 'packag': 3238, 'horrid': 3239, 'hollow': 3240, 'saint': 3241, 'karen': 3242, 'ought': 3243, '2003': 3244, 'evolv': 3245, 'contrari': 3246, 'revolutionari': 3247, 'viciou': 3248, 'awak': 3249, 'li': 3250, 'rambo': 3251, 'choreographi': 3252, 'eyr': 3253, 'sixti': 3254, 'album': 3255, 'q': 3256, 'prom': 3257, 'donna': 3258, 'brazil': 3259, 'juvenil': 3260, 'pray': 3261, 'coloni': 3262, 'marin': 3263, 'conserv': 3264, 'ireland': 3265, 'candid': 3266, 'blade': 3267, 'nerd': 3268, 'stole': 3269, 'option': 3270, 'beatti': 3271, 'boast': 3272, 'overr': 3273, 'dose': 3274, 'ramon': 3275, 'defi': 3276, 'kapoor': 3277, 'twelv': 3278, 'mildr': 3279, 'mummi': 3280, 'funer': 3281, 'flame': 3282, 'jazz': 3283, 'fulci': 3284, 'protest': 3285, 'collabor': 3286, 'natali': 3287, 'astonish': 3288, 'detract': 3289, 'trio': 3290, 'global': 3291, 'confirm': 3292, 'altman': 3293, 'kirk': 3294, 'bull': 3295, 'yellow': 3296, 'enterpris': 3297, 'tommi': 3298, 'spit': 3299, 'nicholson': 3300, 'audio': 3301, 'delici': 3302, 'racial': 3303, 'shade': 3304, 'whip': 3305, 'bottl': 3306, 'destini': 3307, 'leap': 3308, 'blake': 3309, 'mystic': 3310, 'meaningless': 3311, 'pseudo': 3312, 'staff': 3313, 'popcorn': 3314, 'inherit': 3315, 'bedroom': 3316, 'adolesc': 3317, 'vivid': 3318, 'threw': 3319, 'enchant': 3320, 'merci': 3321, 'altogeth': 3322, 'visibl': 3323, 'harder': 3324, 'neo': 3325, 'swedish': 3326, 'todd': 3327, 'fonda': 3328, 'reunit': 3329, 'decor': 3330, 'moodi': 3331, 'wire': 3332, 'lawrenc': 3333, 'ruthless': 3334, 'leonard': 3335, 'suspici': 3336, 'atlanti': 3337, 'uneven': 3338, 'voight': 3339, 'befriend': 3340, 'fanat': 3341, 'exhibit': 3342, 'roommat': 3343, 'bust': 3344, 'synopsi': 3345, 'respond': 3346, 'reserv': 3347, 'crocodil': 3348, 'tip': 3349, 'await': 3350, 'kennedi': 3351, 'lemmon': 3352, 'jew': 3353, 'madonna': 3354, 'edi': 3355, 'rural': 3356, 'centr': 3357, 'incident': 3358, 'clint': 3359, 'clumsi': 3360, 'garner': 3361, 'audit': 3362, 'unsettl': 3363, 'abysm': 3364, 'dimens': 3365, 'ventur': 3366, 'bold': 3367, 'carl': 3368, 'chao': 3369, 'bradi': 3370, 'palma': 3371, 'bargain': 3372, 'holli': 3373, '2007': 3374, 'voyag': 3375, 'poetic': 3376, 'immigr': 3377, 'cd': 3378, 'wealth': 3379, 'imperson': 3380, 'elimin': 3381, 'daddi': 3382, 'tiger': 3383, 'lit': 3384, 'neglect': 3385, 'cuba': 3386, 'echo': 3387, 'cari': 3388, 'trail': 3389, 'characterist': 3390, 'humili': 3391, 'mall': 3392, 'troop': 3393, 'acknowledg': 3394, 'versu': 3395, 'timon': 3396, 'nearbi': 3397, '2nd': 3398, 'hart': 3399, 'ant': 3400, 'mistaken': 3401, 'celluloid': 3402, 'pun': 3403, 'jeffrey': 3404, 'repuls': 3405, 'collaps': 3406, 'solo': 3407, 'homer': 3408, 'paus': 3409, 'saga': 3410, 'mickey': 3411, 'marshal': 3412, 'prejudic': 3413, 'domest': 3414, 'infect': 3415, 'coat': 3416, 'undoubtedli': 3417, 'promin': 3418, 'gear': 3419, 'harvey': 3420, 'sore': 3421, 'coffe': 3422, 'assembl': 3423, 'cake': 3424, 'milk': 3425, 'inan': 3426, 'equip': 3427, 'inappropri': 3428, 'leon': 3429, 'interrupt': 3430, 'tribe': 3431, 'apolog': 3432, 'hbo': 3433, 'pant': 3434, 'olivi': 3435, 'chest': 3436, 'ginger': 3437, '1996': 3438, 'retain': 3439, 'trace': 3440, 'solut': 3441, 'pot': 3442, 'jenni': 3443, 'institut': 3444, 'colleagu': 3445, 'instant': 3446, 'polanski': 3447, 'florida': 3448, 'exot': 3449, 'highest': 3450, 'pen': 3451, 'aveng': 3452, 'brooklyn': 3453, 'colonel': 3454, 'airplan': 3455, 'devast': 3456, 'vulgar': 3457, 'embrac': 3458, 'furthermor': 3459, 'humbl': 3460, 'maggi': 3461, 'primari': 3462, 'consum': 3463, 'outer': 3464, 'ya': 3465, 'seduct': 3466, 'descend': 3467, 'dian': 3468, 'bowl': 3469, 'strain': 3470, 'wive': 3471, 'dutch': 3472, 'poke': 3473, 'principl': 3474, 'linda': 3475, 'illog': 3476, '1999': 3477, '3rd': 3478, 'gender': 3479, 'rick': 3480, 'sale': 3481, 'godzilla': 3482, 'smaller': 3483, 'cope': 3484, 'disabl': 3485, 'predecessor': 3486, 'inferior': 3487, 'rabbit': 3488, 'secondli': 3489, 'glamor': 3490, 'bubbl': 3491, 'vast': 3492, 'mixtur': 3493, 'hal': 3494, 'dud': 3495, 'dive': 3496, 'devoid': 3497, 'gloriou': 3498, 'blatant': 3499, 'gundam': 3500, 'cue': 3501, 'primarili': 3502, 'yard': 3503, 'scope': 3504, 'beneath': 3505, 'lol': 3506, 'hideou': 3507, 'myer': 3508, 'alfr': 3509, 'museum': 3510, 'streep': 3511, 'shirley': 3512, 'casual': 3513, 'breed': 3514, 'invas': 3515, 'grinch': 3516, 'talki': 3517, 'simplist': 3518, 'disjoint': 3519, 'aggress': 3520, 'senseless': 3521, 'domino': 3522, 'et': 3523, 'alert': 3524, 'arab': 3525, 'trademark': 3526, 'countrysid': 3527, 'z': 3528, 'shelf': 3529, 'april': 3530, 'pearl': 3531, 'garbo': 3532, 'applaud': 3533, 'loyal': 3534, 'hopeless': 3535, 'stellar': 3536, 'obtain': 3537, 'mayor': 3538, 'robinson': 3539, 'maci': 3540, 'illeg': 3541, 'vanish': 3542, 'mail': 3543, 'rendit': 3544, 'defens': 3545, 'robberi': 3546, 'hardcor': 3547, 'experiment': 3548, 'acid': 3549, 'disgrac': 3550, 'oz': 3551, 'sh': 3552, 'boom': 3553, 'khan': 3554, 'unhappi': 3555, 'slide': 3556, 'stack': 3557, 'uwe': 3558, 'stir': 3559, 'declin': 3560, 'dicken': 3561, 'scroog': 3562, 'recruit': 3563, 'dismiss': 3564, 'span': 3565, 'counter': 3566, 'berlin': 3567, 'rifl': 3568, 'tenant': 3569, 'wont': 3570, 'craze': 3571, 'emphasi': 3572, 'hartley': 3573, 'psychic': 3574, 'spider': 3575, 'blew': 3576, 'grandfath': 3577, 'tempt': 3578, 'incomprehens': 3579, 'amanda': 3580, 'topless': 3581, 'soccer': 3582, 'diana': 3583, 'fri': 3584, 'shed': 3585, 'parad': 3586, 'ethnic': 3587, 'sympath': 3588, 'justin': 3589, 'sibl': 3590, 'trashi': 3591, 'bitch': 3592, 'porno': 3593, 'resurrect': 3594, 'lumet': 3595, 'intim': 3596, 'shaw': 3597, 'wet': 3598, 'goer': 3599, 'niro': 3600, 'revolt': 3601, 'riot': 3602, 'woo': 3603, 'faster': 3604, 'ration': 3605, 'wheel': 3606, 'lena': 3607, 'patriot': 3608, 'choru': 3609, 'jonathan': 3610, 'unreal': 3611, 'worm': 3612, 'hopper': 3613, 'honesti': 3614, 'feminist': 3615, 'biographi': 3616, 'ensur': 3617, 'weakest': 3618, 'gap': 3619, 'mario': 3620, 'dealer': 3621, 'commend': 3622, 'hesit': 3623, 'partial': 3624, 'eager': 3625, 'farmer': 3626, 'immort': 3627, 'nephew': 3628, 'slick': 3629, 'steam': 3630, 'region': 3631, 'enlighten': 3632, 'andr': 3633, 'rider': 3634, 'ballet': 3635, '00': 3636, 'wendi': 3637, 'confin': 3638, 'similarli': 3639, 'vice': 3640, 'util': 3641, 'hung': 3642, 'owen': 3643, 'morri': 3644, 'wore': 3645, 'charlott': 3646, 'sandra': 3647, 'composit': 3648, 'skull': 3649, 'repress': 3650, 'sappi': 3651, 'snap': 3652, 'properti': 3653, 'mutant': 3654, 'blunt': 3655, 'franco': 3656, 'leo': 3657, 'psychopath': 3658, 'prequel': 3659, 'nostalg': 3660, 'kingdom': 3661, 'victori': 3662, 'safeti': 3663, 'macarthur': 3664, 'bergman': 3665, 'despair': 3666, 'speci': 3667, 'strand': 3668, 'miseri': 3669, 'kyle': 3670, 'snl': 3671, 'bonu': 3672, 'farrel': 3673, 'montana': 3674, 'recycl': 3675, 'valuabl': 3676, 'pattern': 3677, 'acquir': 3678, 'drum': 3679, 'compens': 3680, 'repli': 3681, 'deed': 3682, 'heartbreak': 3683, 'tad': 3684, 'del': 3685, '1972': 3686, 'dust': 3687, 'whoopi': 3688, 'thru': 3689, 'rambl': 3690, 'drain': 3691, 'emperor': 3692, 'compass': 3693, 'tail': 3694, 'bumbl': 3695, 'nervou': 3696, 'latin': 3697, 'rope': 3698, 'hyde': 3699, 'bow': 3700, 'cg': 3701, 'dalton': 3702, 'rocki': 3703, 'campbel': 3704, 'exit': 3705, 'contempl': 3706, 'pour': 3707, 'bleed': 3708, 'rotten': 3709, 'oppress': 3710, 'tonight': 3711, 'mistress': 3712, 'radic': 3713, 'downhil': 3714, 'percept': 3715, 'roth': 3716, 'romp': 3717, 'gimmick': 3718, 'orson': 3719, 'wacki': 3720, 'da': 3721, 'airport': 3722, 'carradin': 3723, 'rapist': 3724, 'chess': 3725, 'martian': 3726, 'gal': 3727, '35': 3728, 'slug': 3729, 'olli': 3730, 'preach': 3731, 'unpredict': 3732, 'paltrow': 3733, 'edgar': 3734, 'pervert': 3735, 'tackl': 3736, 'arguabl': 3737, 'mislead': 3738, 'attorney': 3739, 'pursuit': 3740, 'stilt': 3741, 'melodi': 3742, 'arc': 3743, 'programm': 3744, 'pervers': 3745, 'shelley': 3746, 'taught': 3747, '1983': 3748, 'dazzl': 3749, 'slash': 3750, 'banal': 3751, 'tooth': 3752, 'belt': 3753, 'champion': 3754, 'heal': 3755, 'plight': 3756, 'rubi': 3757, 'marti': 3758, 'graham': 3759, 'uplift': 3760, 'vengeanc': 3761, 'mesmer': 3762, 'closest': 3763, 'virginia': 3764, 'franki': 3765, 'maid': 3766, 'gambl': 3767, 'tiresom': 3768, 'bela': 3769, 'raymond': 3770, 'vocal': 3771, 'poem': 3772, 'passeng': 3773, 'orang': 3774, 'sensat': 3775, 'cleverli': 3776, 'employe': 3777, 'conneri': 3778, 'duval': 3779, 'dixon': 3780, 'chicken': 3781, 'climact': 3782, 'whine': 3783, 'paranoia': 3784, 'quarter': 3785, 'secretli': 3786, 'iran': 3787, 'profan': 3788, 'lundgren': 3789, 'volum': 3790, 'bay': 3791, 'convincingli': 3792, 'yawn': 3793, 'monologu': 3794, '1968': 3795, 'habit': 3796, 'engross': 3797, 'gerard': 3798, 'outing': 3799, 'numb': 3800, 'extens': 3801, 'pokemon': 3802, 'crystal': 3803, 'inject': 3804, 'calm': 3805, 'sirk': 3806, 'clone': 3807, 'swallow': 3808, 'suffic': 3809, 'abraham': 3810, 'mute': 3811, 'giggl': 3812, 'tube': 3813, 'scottish': 3814, 'amitabh': 3815, 'austen': 3816, 'spock': 3817, 'trend': 3818, 'underst': 3819, 'linger': 3820, 'dispos': 3821, 'nichola': 3822, 'expand': 3823, 'taxi': 3824, 'im': 3825, 'junior': 3826, 'surpass': 3827, 'richardson': 3828, 'plod': 3829, 'chicago': 3830, 'meander': 3831, 'lowest': 3832, 'bend': 3833, 'poetri': 3834, 'grotesqu': 3835, 'profess': 3836, 'franci': 3837, 'earl': 3838, 'ethan': 3839, 'backward': 3840, 'abort': 3841, 'frankenstein': 3842, 'fed': 3843, 'septemb': 3844, 'rant': 3845, 'hum': 3846, 'household': 3847, 'sue': 3848, 'econom': 3849, 'waitress': 3850, 'rubber': 3851, 'tourist': 3852, 'stallon': 3853, 'muddl': 3854, 'descent': 3855, 'myth': 3856, 'spoke': 3857, 'catchi': 3858, 'cannon': 3859, 'lure': 3860, 'der': 3861, 'dysfunct': 3862, 'instrument': 3863, 'nostalgia': 3864, 'mundan': 3865, 'literatur': 3866, 'eugen': 3867, 'simplic': 3868, 'greedi': 3869, 'compliment': 3870, 'equival': 3871, 'recognis': 3872, 'hello': 3873, 'cent': 3874, 'mortal': 3875, 'lang': 3876, 'stale': 3877, 'bacal': 3878, 'map': 3879, 'sissi': 3880, 'flee': 3881, 'firstli': 3882, 'randi': 3883, 'coast': 3884, 'recognit': 3885, 'dement': 3886, 'irrelev': 3887, 'phantom': 3888, 'insur': 3889, 'molli': 3890, 'omen': 3891, 'alongsid': 3892, 'furi': 3893, 'phoni': 3894, 'deaf': 3895, 'crucial': 3896, 'occupi': 3897, 'june': 3898, 'mankind': 3899, 'damon': 3900, 'eaten': 3901, 'duck': 3902, 'louis': 3903, 'carel': 3904, 'dictat': 3905, 'rude': 3906, 'freez': 3907, 'lengthi': 3908, 'bike': 3909, 'newli': 3910, 'ashley': 3911, 'buffalo': 3912, 'onlin': 3913, 'heel': 3914, 'distinguish': 3915, 'blackmail': 3916, 'likewis': 3917, 'dreari': 3918, 'grayson': 3919, '1973': 3920, 'labor': 3921, 'daisi': 3922, 'biko': 3923, 'rooney': 3924, 'reign': 3925, 'cyborg': 3926, 'damm': 3927, 'loyalti': 3928, 'twilight': 3929, 'antwon': 3930, 'wisdom': 3931, 'drake': 3932, 'bump': 3933, 'pink': 3934, 'provoc': 3935, 'nineti': 3936, 'chronicl': 3937, 'keith': 3938, 'basketbal': 3939, 'startl': 3940, 'worn': 3941, 'ridden': 3942, 'inher': 3943, 'analysi': 3944, 'sailor': 3945, 'approv': 3946, 'attribut': 3947, 'barrymor': 3948, 'tunnel': 3949, 'exposur': 3950, 'butler': 3951, 'incorpor': 3952, 'boxer': 3953, 'interior': 3954, 'emphas': 3955, 'baddi': 3956, 'proce': 3957, 'prey': 3958, 'unorigin': 3959, 'vein': 3960, 'meyer': 3961, 'underli': 3962, 'condemn': 3963, 'hypnot': 3964, 'walsh': 3965, 'mormon': 3966, 'unrel': 3967, 'simmon': 3968, 'indiffer': 3969, 'degrad': 3970, 'othello': 3971, 'julian': 3972, 'barrel': 3973, 'carla': 3974, 'elm': 3975, 'drift': 3976, 'mighti': 3977, 'fleet': 3978, 'stalker': 3979, 'undeni': 3980, 'predat': 3981, 'bunni': 3982, 'substitut': 3983, 'improvis': 3984, 'millionair': 3985, 'robbin': 3986, 'belushi': 3987, 'nicol': 3988, 'er': 3989, 'meg': 3990, 'reid': 3991, 'priceless': 3992, 'hay': 3993, 'nyc': 3994, 'roof': 3995, 'dolph': 3996, 'shove': 3997, 'greed': 3998, 'mtv': 3999, 'novak': 4000, 'errol': 4001, 'marion': 4002, 'exquisit': 4003, 'agenda': 4004, 'palac': 4005, 'vital': 4006, 'lampoon': 4007, 'firm': 4008, 'edgi': 4009, 'alison': 4010, 'disord': 4011, 'enthusiasm': 4012, 'watson': 4013, 'warmth': 4014, 'alarm': 4015, 'unawar': 4016, '3d': 4017, 'rukh': 4018, 'crown': 4019, 'cassidi': 4020, 'unleash': 4021, 'ponder': 4022, 'spain': 4023, 'angela': 4024, 'simultan': 4025, 'session': 4026, 'iraq': 4027, 'petti': 4028, 'peril': 4029, 'pamela': 4030, '1933': 4031, 'showdown': 4032, 'eastern': 4033, 'drip': 4034, 'glanc': 4035, 'preserv': 4036, '13th': 4037, 'gestur': 4038, 'distort': 4039, 'testament': 4040, 'sergeant': 4041, 'randomli': 4042, 'israel': 4043, 'championship': 4044, 'thompson': 4045, 'nun': 4046, 'peck': 4047, 'campaign': 4048, 'coup': 4049, 'profit': 4050, 'what': 4051, 'orlean': 4052, 'beatl': 4053, 'minimum': 4054, 'valentin': 4055, 'zizek': 4056, 'valley': 4057, '1984': 4058, 'crow': 4059, 'unimagin': 4060, 'scotland': 4061, 'brenda': 4062, 'travesti': 4063, 'stroke': 4064, 'climat': 4065, 'cream': 4066, 'calib': 4067, 'represent': 4068, 'reson': 4069, 'crawl': 4070, 'quinn': 4071, 'realm': 4072, 'stake': 4073, 'wig': 4074, 'han': 4075, 'gentleman': 4076, 'perpetu': 4077, 'miyazaki': 4078, 'cooki': 4079, 'sabrina': 4080, 'restrain': 4081, 'regist': 4082, 'contradict': 4083, 'bro': 4084, 'empathi': 4085, 'buster': 4086, 'exposit': 4087, 'kurosawa': 4088, 'jan': 4089, 'din': 4090, 'rout': 4091, 'fido': 4092, 'mon': 4093, 'shootout': 4094, 'painter': 4095, 'sucker': 4096, 'unseen': 4097, 'pole': 4098, 'greg': 4099, 'dana': 4100, 'monoton': 4101, 'geek': 4102, 'unsatisfi': 4103, 'warrant': 4104, 'meryl': 4105, 'ustinov': 4106, 'abomin': 4107, '1997': 4108, 'josh': 4109, 'compromis': 4110, 'delic': 4111, 'censor': 4112, 'perceiv': 4113, 'cloud': 4114, 'darren': 4115, 'spacey': 4116, 'crawford': 4117, 'ross': 4118, 'tacki': 4119, '1987': 4120, 'businessman': 4121, 'femm': 4122, 'stargat': 4123, 'shoddi': 4124, 'distress': 4125, 'fuller': 4126, 'passabl': 4127, 'mclaglen': 4128, 'traumat': 4129, 'derang': 4130, 'sammi': 4131, 'demis': 4132, 'absent': 4133, 'pretens': 4134, 'shaki': 4135, 'baldwin': 4136, 'wax': 4137, 'soderbergh': 4138, 'clash': 4139, 'judgment': 4140, 'primit': 4141, 'furiou': 4142, 'tarantino': 4143, 'fog': 4144, 'fenc': 4145, 'norm': 4146, 'anchor': 4147, 'valid': 4148, 'dee': 4149, 'polici': 4150, 'tech': 4151, 'click': 4152, 'deniro': 4153, 'wholli': 4154, 'nathan': 4155, 'exclus': 4156, 'unravel': 4157, 'jewel': 4158, 'reluct': 4159, 'expedit': 4160, 'accuraci': 4161, 'seal': 4162, '1993': 4163, 'verbal': 4164, 'deceas': 4165, 'uncov': 4166, 'austin': 4167, 'antonioni': 4168, 'kumar': 4169, 'correctli': 4170, 'sid': 4171, 'wretch': 4172, 'trait': 4173, 'dreck': 4174, 'seldom': 4175, 'fought': 4176, 'tax': 4177, '3000': 4178, 'debt': 4179, 'vanc': 4180, 'sand': 4181, 'alec': 4182, 'conduct': 4183, 'behold': 4184, 'mode': 4185, 'murray': 4186, 'sustain': 4187, 'ritual': 4188, 'logan': 4189, 'clerk': 4190, 'pocket': 4191, 'patienc': 4192, 'unfair': 4193, 'temper': 4194, 'roller': 4195, 'slam': 4196, '2008': 4197, 'darn': 4198, '1995': 4199, 'shanghai': 4200, 'bake': 4201, 'wang': 4202, 'sheet': 4203, 'fabric': 4204, '1971': 4205, 'malon': 4206, 'joel': 4207, 'fart': 4208, 'enforc': 4209, 'sunni': 4210, 'crippl': 4211, 'hallucin': 4212, 'nicola': 4213, 'despis': 4214, 'stuart': 4215, 'guitar': 4216, 'soup': 4217, 'helpless': 4218, 'stark': 4219, 'preston': 4220, 'scriptwrit': 4221, 'runner': 4222, 'penni': 4223, 'tactic': 4224, 'outlin': 4225, 'fundament': 4226, 'clau': 4227, 'bridget': 4228, 'squad': 4229, 'legaci': 4230, 'rita': 4231, 'divid': 4232, 'schedul': 4233, 'grief': 4234, 'conscious': 4235, 'critiqu': 4236, 'pete': 4237, 'technicolor': 4238, 'sweep': 4239, 'exhaust': 4240, 'preposter': 4241, 'bias': 4242, 'phil': 4243, 'robber': 4244, 'isabel': 4245, 'shell': 4246, 'canyon': 4247, 'invad': 4248, 'sugar': 4249, 'implic': 4250, 'russia': 4251, 'lacklust': 4252, 'cigarett': 4253, 'restrict': 4254, 'unexpectedli': 4255, 'flair': 4256, 'delv': 4257, 'alley': 4258, 'sentinel': 4259, 'drove': 4260, 'vomit': 4261, 'jodi': 4262, 'jacket': 4263, 'rehash': 4264, 'consciou': 4265, 'downey': 4266, 'boyl': 4267, 'marc': 4268, 'inabl': 4269, 'bloom': 4270, 'culmin': 4271, 'agenc': 4272, 'rear': 4273, 'passag': 4274, 'sniper': 4275, 'newman': 4276, 'connor': 4277, 'gregori': 4278, 'propos': 4279, 'palanc': 4280, 'liberti': 4281, 'kansa': 4282, 'alicia': 4283, 'pale': 4284, 'rod': 4285, 'horn': 4286, 'sharon': 4287, '22': 4288, 'delet': 4289, 'tendenc': 4290, 'aesthet': 4291, 'cap': 4292, 'chainsaw': 4293, 'wrench': 4294, 'tripe': 4295, 'karl': 4296, 'lush': 4297, 'yeti': 4298, 'improb': 4299, 'foxx': 4300, 'rehears': 4301, 'rampag': 4302, 'arrow': 4303, 'mccoy': 4304, 'vet': 4305, 'kolchak': 4306, 'feat': 4307, '1936': 4308, 'behaviour': 4309, 'awhil': 4310, 'asylum': 4311, 'bacon': 4312, 'ladder': 4313, 'paradis': 4314, 'aristocrat': 4315, '1920': 4316, 'tasteless': 4317, 'wildli': 4318, 'amazon': 4319, 'basing': 4320, '19th': 4321, 'stream': 4322, 'lurk': 4323, 'minu': 4324, 'suffici': 4325, 'paramount': 4326, '1988': 4327, 'tomorrow': 4328, 'thunderbird': 4329, 'weav': 4330, 'rhythm': 4331, 'loneli': 4332, 'fright': 4333, 'globe': 4334, 'shortcom': 4335, 'el': 4336, 'coaster': 4337, 'spice': 4338, 'suspicion': 4339, 'rumor': 4340, 'newcom': 4341, 'elit': 4342, 'wagner': 4343, 'visitor': 4344, '1978': 4345, 'scoop': 4346, 'financ': 4347, 'hungri': 4348, 'prank': 4349, 'hackney': 4350, 'conscienc': 4351, 'sung': 4352, 'filler': 4353, 'hulk': 4354, 'underneath': 4355, 'counterpart': 4356, 'worship': 4357, 'atroc': 4358, 'abrupt': 4359, 'wwe': 4360, 'naughti': 4361, 'quietli': 4362, 'posey': 4363, 'bread': 4364, 'rub': 4365, 'straightforward': 4366, 'cancer': 4367, 'lectur': 4368, 'heist': 4369, '75': 4370, 'grudg': 4371, 'immers': 4372, 'standout': 4373, 'en': 4374, 'paxton': 4375, 'tierney': 4376, 'couch': 4377, 'hopkin': 4378, 'recogniz': 4379, 'inmat': 4380, 'leigh': 4381, 'beverli': 4382, 'brit': 4383, 'teas': 4384, 'literari': 4385, 'chavez': 4386, 'curli': 4387, 'iv': 4388, 'penn': 4389, 'entranc': 4390, 'choppi': 4391, 'impos': 4392, 'secondari': 4393, 'ingeni': 4394, 'minist': 4395, '1989': 4396, 'dirt': 4397, 'ram': 4398, '1939': 4399, 'smell': 4400, 'springer': 4401, 'chamberlain': 4402, 'attenborough': 4403, 'misguid': 4404, '1986': 4405, 'geni': 4406, 'convert': 4407, 'morbid': 4408, 'cattl': 4409, 'sassi': 4410, 'policeman': 4411, 'nemesi': 4412, 'ace': 4413, 'laurenc': 4414, 'moreov': 4415, 'ratso': 4416, 'watcher': 4417, 'clan': 4418, 'skeptic': 4419, 'transcend': 4420, 'heartfelt': 4421, 'duel': 4422, 'net': 4423, 'esther': 4424, 'missil': 4425, 'sublim': 4426, 'variat': 4427, 'injuri': 4428, 'nolan': 4429, 'yearn': 4430, 'enthral': 4431, 'entitl': 4432, 'bernard': 4433, 'quaid': 4434, 'lindsay': 4435, 'puppi': 4436, 'egg': 4437, 'out': 4438, 'diari': 4439, 'hopelessli': 4440, 'cruelti': 4441, 'buzz': 4442, 'unexplain': 4443, 'artsi': 4444, 'rosemari': 4445, 'vader': 4446, 'graini': 4447, 'facil': 4448, 'grin': 4449, 'spiral': 4450, 'tyler': 4451, 'setup': 4452, 'obstacl': 4453, 'dont': 4454, 'uncut': 4455, 'youngest': 4456, 'poe': 4457, '1979': 4458, 'steadi': 4459, 'reliabl': 4460, 'mytholog': 4461, 'kitti': 4462, 'moder': 4463, 'brood': 4464, 'characteris': 4465, 'bean': 4466, 'carlito': 4467, 'kidman': 4468, 'enabl': 4469, 'hk': 4470, 'bye': 4471, 'acquaint': 4472, 'athlet': 4473, '1969': 4474, 'baffl': 4475, 'gina': 4476, 'hain': 4477, 'patricia': 4478, 'narrow': 4479, 'exterior': 4480, 'kline': 4481, 'spontan': 4482, 'despic': 4483, 'decept': 4484, 'underworld': 4485, 'christin': 4486, 'disastr': 4487, 'heap': 4488, 'hammi': 4489, 'brendan': 4490, 'weather': 4491, 'sweat': 4492, 'fuel': 4493, 'niec': 4494, 'martha': 4495, 'effici': 4496, 'bewar': 4497, 'oblig': 4498, 'preming': 4499, 'gillian': 4500, 'clueless': 4501, 'bronson': 4502, 'bounc': 4503, 'mermaid': 4504, 'housewif': 4505, 'loath': 4506, 'sleepwalk': 4507, 'mayhem': 4508, 'circu': 4509, '19': 4510, 'rome': 4511, 'uh': 4512, 'taboo': 4513, 'renaiss': 4514, 'harmless': 4515, 'goof': 4516, 'hepburn': 4517, 'biker': 4518, 'tick': 4519, 'shatter': 4520, 'viewpoint': 4521, 'angst': 4522, 'lester': 4523, 'suprem': 4524, 'analyz': 4525, 'preachi': 4526, 'astound': 4527, 'dilemma': 4528, 'sooner': 4529, 'loi': 4530, 'virtu': 4531, 'dandi': 4532, 'injur': 4533, 'candl': 4534, 'insipid': 4535, 'headach': 4536, 'enlist': 4537, 'trigger': 4538, 'scar': 4539, 'outlaw': 4540, 'fontain': 4541, '73': 4542, 'gere': 4543, 'phenomenon': 4544, 'cassavet': 4545, 'dismal': 4546, 'immatur': 4547, 'redund': 4548, 'intric': 4549, 'foolish': 4550, 'fluff': 4551, 'bent': 4552, 'guin': 4553, 'steer': 4554, 'oldest': 4555, 'hostag': 4556, 'contempt': 4557, 'claustrophob': 4558, 'camcord': 4559, 'boston': 4560, 'sox': 4561, 'hokey': 4562, 'dish': 4563, 'stair': 4564, 'surgeri': 4565, 'hooker': 4566, 'overlong': 4567, 'tripl': 4568, 'stimul': 4569, 'scorses': 4570, 'filth': 4571, 'idol': 4572, 'ebert': 4573, 'glorifi': 4574, 'zoom': 4575, 'ariel': 4576, 'macho': 4577, 'spade': 4578, 'slimi': 4579, 'salt': 4580, 'whore': 4581, 'amor': 4582, 'corbett': 4583, 'mutual': 4584, 'muscl': 4585, 'spinal': 4586, 'cow': 4587, 'down': 4588, 'corman': 4589, 'harold': 4590, 'schlock': 4591, 'frantic': 4592, 'shred': 4593, 'gasp': 4594, 'flashi': 4595, 'dwarf': 4596, 'flag': 4597, 'proport': 4598, 'remad': 4599, 'antagonist': 4600, 'fascist': 4601, 'widescreen': 4602, 'assert': 4603, 'transplant': 4604, 'shield': 4605, 'messi': 4606, '1976': 4607, 'mount': 4608, 'cohen': 4609, 'naschi': 4610, 'margin': 4611, 'spree': 4612, 'perman': 4613, 'obligatori': 4614, 'astronaut': 4615, 'alvin': 4616, 'flirt': 4617, 'zane': 4618, 'radiat': 4619, 'keen': 4620, 'conquer': 4621, 'beard': 4622, 'nolt': 4623, 'trivia': 4624, '1981': 4625, 'cush': 4626, 'joker': 4627, 'faint': 4628, 'preced': 4629, 'rhyme': 4630, 'strongest': 4631, 'gabl': 4632, 'barn': 4633, 'deer': 4634, 'discern': 4635, 'mobil': 4636, 'off': 4637, 'ritchi': 4638, 'archiv': 4639, 'carey': 4640, 'departur': 4641, 'interestingli': 4642, 'sensual': 4643, 'triangl': 4644, '95': 4645, 'someday': 4646, 'bitten': 4647, 'instruct': 4648, 'persuad': 4649, 'inflict': 4650, 'divin': 4651, 'mol': 4652, 'boob': 4653, '1945': 4654, 'danish': 4655, 'repris': 4656, 'claud': 4657, 'wield': 4658, 'strive': 4659, 'neurot': 4660, 'hara': 4661, 'resum': 4662, 'vaniti': 4663, 'www': 4664, '28': 4665, 'brush': 4666, 'scandal': 4667, 'raj': 4668, 'fishburn': 4669, 'aborigin': 4670, 'info': 4671, 'bachelor': 4672, 'flock': 4673, 'wendigo': 4674, 'recit': 4675, 'miracul': 4676, 'banter': 4677, 'cycl': 4678, 'undermin': 4679, 'vibrant': 4680, 'heartwarm': 4681, 'anton': 4682, 'cliffhang': 4683, 'rot': 4684, 'harrison': 4685, 'clad': 4686, 'dame': 4687, 'kathryn': 4688, 'pacif': 4689, 'prophet': 4690, 'cb': 4691, 'neill': 4692, 'artwork': 4693, 'submit': 4694, 'hapless': 4695, 'colin': 4696, 'timberlak': 4697, 'casino': 4698, 'dylan': 4699, 'axe': 4700, 'fragil': 4701, 'hilar': 4702, 'earnest': 4703, 'pixar': 4704, 'senior': 4705, 'europa': 4706, 'carlo': 4707, 'melissa': 4708, 'mobster': 4709, 'dim': 4710, 'cher': 4711, 'jade': 4712, 'ish': 4713, 'frontier': 4714, 'traffic': 4715, 'biblic': 4716, 'hug': 4717, 'parson': 4718, 'proclaim': 4719, 'luka': 4720, 'bate': 4721, 'helm': 4722, 'loretta': 4723, 'pickford': 4724, 'northern': 4725, 'akin': 4726, 'toronto': 4727, 'static': 4728, 'antholog': 4729, 'token': 4730, 'estrang': 4731, 'flavor': 4732, 'mason': 4733, 'rooki': 4734, 'foil': 4735, 'sicken': 4736, 'redneck': 4737, 'mathieu': 4738, 'orphan': 4739, 'legitim': 4740, 'wardrob': 4741, 'uma': 4742, 'venom': 4743, 'bikini': 4744, 'vile': 4745, 'breakfast': 4746, 'cerebr': 4747, 'nope': 4748, 'electron': 4749, 'jo': 4750, 'blatantli': 4751, 'marlon': 4752, 'articl': 4753, 'trier': 4754, 'jordan': 4755, 'isra': 4756, 'illus': 4757, 'seedi': 4758, 'feast': 4759, 'holocaust': 4760, 'bondag': 4761, 'pc': 4762, 'http': 4763, 'misfortun': 4764, 'shepherd': 4765, 'aris': 4766, 'eli': 4767, 'lui': 4768, 'razor': 4769, 'alexandr': 4770, 'choke': 4771, 'lucil': 4772, 'vanessa': 4773, 'winchest': 4774, 'milo': 4775, 'turd': 4776, 'wrestler': 4777, 'oppon': 4778, 'deem': 4779, 'feminin': 4780, 'retriev': 4781, 'boyer': 4782, 'highway': 4783, 'abund': 4784, 'audrey': 4785, 'ceremoni': 4786, 'gilbert': 4787, 'peer': 4788, 'swept': 4789, 'comprehend': 4790, 'disregard': 4791, 'glare': 4792, 'psych': 4793, 'shorter': 4794, 'knightley': 4795, 'styliz': 4796, 'howl': 4797, 'cartoonish': 4798, 'affleck': 4799, 'clinic': 4800, 'smack': 4801, 'ideolog': 4802, 'leather': 4803, 'linear': 4804, 'fifth': 4805, 'frog': 4806, 'gunga': 4807, 'charlton': 4808, 'dudley': 4809, 'tack': 4810, 'outdat': 4811, 'nightclub': 4812, 'magician': 4813, 'huston': 4814, 'tara': 4815, 'compris': 4816, 'spine': 4817, 'evolut': 4818, 'corn': 4819, 'btw': 4820, 'lavish': 4821, 'mitch': 4822, 'bastard': 4823, 'collector': 4824, 'bogu': 4825, 'sleaz': 4826, 'energet': 4827, 'client': 4828, 'conrad': 4829, 'deliver': 4830, 'phenomen': 4831, 'breakdown': 4832, '4th': 4833, 'newer': 4834, 'chip': 4835, 'lighter': 4836, 'potter': 4837, '1991': 4838, 'durat': 4839, 'cuban': 4840, 'plate': 4841, 'moe': 4842, '1994': 4843, 'cemeteri': 4844, 'senat': 4845, 'snatch': 4846, 'lifeless': 4847, 'monument': 4848, 'uniformli': 4849, 'spawn': 4850, 'goldsworthi': 4851, 'boo': 4852, 'toe': 4853, 'salman': 4854, 'greet': 4855, 'summar': 4856, 'whack': 4857, 'einstein': 4858, 'braveheart': 4859, 'spectacl': 4860, 'kent': 4861, 'mcqueen': 4862, 'bulk': 4863, 'outright': 4864, 'firmli': 4865, '1977': 4866, 'historian': 4867, '1974': 4868, 'jule': 4869, 'bori': 4870, 'inaccuraci': 4871, 'undead': 4872, 'pronounc': 4873, 'trauma': 4874, 'signal': 4875, 'undertak': 4876, 'luxuri': 4877, 'belli': 4878, 'lex': 4879, 'eleven': 4880, 'randolph': 4881, 'armstrong': 4882, 'ie': 4883, 'wtf': 4884, 'evelyn': 4885, 'fluid': 4886, 'neatli': 4887, 'creek': 4888, 'embark': 4889, 'healthi': 4890, 'jam': 4891, 'alleg': 4892, 'judd': 4893, 'constitut': 4894, 'sorrow': 4895, 'jare': 4896, 'jedi': 4897, 'appl': 4898, 'nina': 4899, 'clara': 4900, 'cecil': 4901, 'occup': 4902, 'ol': 4903, 'kazan': 4904, 'replay': 4905, 'liu': 4906, 'capot': 4907, 'gilliam': 4908, 'knee': 4909, 'miami': 4910, 'curtain': 4911, 'propheci': 4912, 'vain': 4913, 'unsuspect': 4914, 'lauren': 4915, 'miniseri': 4916, 'palm': 4917, 'relentless': 4918, 'blur': 4919, 'forgiven': 4920, 'basket': 4921, 'inclus': 4922, 'decapit': 4923, 'rosario': 4924, 'pepper': 4925, 'tokyo': 4926, 'sacrif': 4927, 'roar': 4928, 'kiddi': 4929, 'goldblum': 4930, 'inaccur': 4931, '1985': 4932, 'paula': 4933, 'mum': 4934, 'antonio': 4935, 'meal': 4936, 'conan': 4937, 'poker': 4938, 'fruit': 4939, 'walt': 4940, 'unattract': 4941, 'comb': 4942, 'porter': 4943, 'comprehens': 4944, 'congratul': 4945, 'abound': 4946, 'sidewalk': 4947, 'genet': 4948, 'galaxi': 4949, 'vignett': 4950, 'pioneer': 4951, 'spray': 4952, 'subtli': 4953, 'groan': 4954, 'bsg': 4955, 'id': 4956, 'cape': 4957, 'truman': 4958, 'lanc': 4959, 'ash': 4960, 'bait': 4961, 'aussi': 4962, 'carmen': 4963, 'vastli': 4964, 'growth': 4965, 'weari': 4966, 'handicap': 4967, '21st': 4968, 'sparkl': 4969, 'spill': 4970, 'rapidli': 4971, 'omin': 4972, 'substanti': 4973, 'verg': 4974, 'dubiou': 4975, 'detach': 4976, 'masterson': 4977, 'frontal': 4978, 'jill': 4979, 'bravo': 4980, 'turtl': 4981, 'assort': 4982, 'drone': 4983, 'mice': 4984, 'profil': 4985, 'scariest': 4986, 'incorrect': 4987, 'epitom': 4988, 'monti': 4989, 'evan': 4990, 'playboy': 4991, 'asset': 4992, 'sophi': 4993, 'macabr': 4994, 'orchestr': 4995, 'ghetto': 4996, 'cypher': 4997, 'hackman': 4998, 'victorian': 4999}\n"
     ]
    }
   ],
   "source": [
    "word_dict = build_dict(train_X)\n",
    "print(word_dict)"
   ]
  },
  {
   "cell_type": "markdown",
   "metadata": {},
   "source": [
    "**Question:** What are the five most frequently appearing (tokenized) words in the training set? Does it makes sense that these words appear frequently in the training set?"
   ]
  },
  {
   "cell_type": "markdown",
   "metadata": {},
   "source": [
    "**Answer:**"
   ]
  },
  {
   "cell_type": "code",
   "execution_count": 18,
   "metadata": {},
   "outputs": [
    {
     "name": "stdout",
     "output_type": "stream",
     "text": [
      "{'movi': 2, 'film': 3, 'one': 4, 'like': 5, 'time': 6}\n"
     ]
    }
   ],
   "source": [
    "# TODO: Use this space to determine the five most frequently appearing words in the training set.\n",
    "import itertools\n",
    "print(dict(itertools.islice(word_dict.items(),5)))"
   ]
  },
  {
   "cell_type": "markdown",
   "metadata": {},
   "source": [
    "### Save `word_dict`\n",
    "\n",
    "Later on when we construct an endpoint which processes a submitted review we will need to make use of the `word_dict` which we have created. As such, we will save it to a file now for future use."
   ]
  },
  {
   "cell_type": "code",
   "execution_count": 19,
   "metadata": {},
   "outputs": [],
   "source": [
    "data_dir = '../data/pytorch' # The folder we will use for storing data\n",
    "if not os.path.exists(data_dir): # Make sure that the folder exists\n",
    "    os.makedirs(data_dir)"
   ]
  },
  {
   "cell_type": "code",
   "execution_count": 20,
   "metadata": {},
   "outputs": [],
   "source": [
    "with open(os.path.join(data_dir, 'word_dict.pkl'), \"wb\") as f:\n",
    "    pickle.dump(word_dict, f)"
   ]
  },
  {
   "cell_type": "markdown",
   "metadata": {},
   "source": [
    "### Transform the reviews\n",
    "\n",
    "Now that we have our word dictionary which allows us to transform the words appearing in the reviews into integers, it is time to make use of it and convert our reviews to their integer sequence representation, making sure to pad or truncate to a fixed length, which in our case is `500`."
   ]
  },
  {
   "cell_type": "code",
   "execution_count": 21,
   "metadata": {},
   "outputs": [],
   "source": [
    "def convert_and_pad(word_dict, sentence, pad=500):\n",
    "    NOWORD = 0 # We will use 0 to represent the 'no word' category\n",
    "    INFREQ = 1 # and we use 1 to represent the infrequent words, i.e., words not appearing in word_dict\n",
    "    \n",
    "    working_sentence = [NOWORD] * pad\n",
    "    \n",
    "    for word_index, word in enumerate(sentence[:pad]):\n",
    "        if word in word_dict:\n",
    "            working_sentence[word_index] = word_dict[word]\n",
    "        else:\n",
    "            working_sentence[word_index] = INFREQ\n",
    "            \n",
    "    return working_sentence, min(len(sentence), pad)\n",
    "\n",
    "def convert_and_pad_data(word_dict, data, pad=500):\n",
    "    result = []\n",
    "    lengths = []\n",
    "    \n",
    "    for sentence in data:\n",
    "        converted, leng = convert_and_pad(word_dict, sentence, pad)\n",
    "        result.append(converted)\n",
    "        lengths.append(leng)\n",
    "        \n",
    "    return np.array(result), np.array(lengths)"
   ]
  },
  {
   "cell_type": "code",
   "execution_count": 22,
   "metadata": {},
   "outputs": [],
   "source": [
    "train_X, train_X_len = convert_and_pad_data(word_dict, train_X)\n",
    "test_X, test_X_len = convert_and_pad_data(word_dict, test_X)"
   ]
  },
  {
   "cell_type": "markdown",
   "metadata": {},
   "source": [
    "As a quick check to make sure that things are working as intended, check to see what one of the reviews in the training set looks like after having been processeed. Does this look reasonable? What is the length of a review in the training set?"
   ]
  },
  {
   "cell_type": "code",
   "execution_count": 23,
   "metadata": {},
   "outputs": [
    {
     "data": {
      "text/plain": [
       "array([   1,  206, 1270,  897, 2180,  861,    2, 1802,  227, 3597,  861,\n",
       "       1810,  463,    1,    1, 1270, 4896,    1,    1,  861,  316,  209,\n",
       "         19,  144,  101,  108,  547, 1201,    1,  727, 4978, 1802, 1270,\n",
       "          1,  101,    2,  511,  121, 4325,   46,   98,    1,   57, 2378,\n",
       "        206, 1270,  396,    2,    2,    8,  695,  116, 2378, 3597,    1,\n",
       "         32,  968,  298,    1,  265,  317,  698,   24,  125,   97,  445,\n",
       "        173,  306,    1,    1,   18, 1955,  547,  121,   16,  353,  302,\n",
       "        125,   32,  308,   67,    1,    1, 3672,  285,  464, 4945,    2,\n",
       "          8,  987, 1054,  125,  306,    1, 2378,  394,   32, 2378, 3140,\n",
       "        301, 3597,    1,    1,    1, 4899,  156,   53,  301,  997,  803,\n",
       "        151,  170,  304,  174,    1,   32, 1846,  408,    1, 1790, 4118,\n",
       "       1802,  230,   14,    1,  318,   32,  378,  317, 1241,    1,   73,\n",
       "       1668,   43,   33,   80, 2398, 1519, 1396,  317,   24,   32, 1240,\n",
       "         17,  217,  445,  913,  217,    7, 1106,    2,   15,   96,   66,\n",
       "        265, 1106,  373,   17,  140,  223, 1799,   18, 1884,  443,    2,\n",
       "         28,  145,  189,  861, 1184,    2, 1393, 3418,   33,    1,  861,\n",
       "          3, 1130,  394,    2,  116, 2378,  218,  553,  443,   12,    1,\n",
       "          1,   11, 1201,   29,    8,   18,  101, 2108,  547,  338, 1802,\n",
       "       1270,  317,   77,   12,   24,    2,    0,    0,    0,    0,    0,\n",
       "          0,    0,    0,    0,    0,    0,    0,    0,    0,    0,    0,\n",
       "          0,    0,    0,    0,    0,    0,    0,    0,    0,    0,    0,\n",
       "          0,    0,    0,    0,    0,    0,    0,    0,    0,    0,    0,\n",
       "          0,    0,    0,    0,    0,    0,    0,    0,    0,    0,    0,\n",
       "          0,    0,    0,    0,    0,    0,    0,    0,    0,    0,    0,\n",
       "          0,    0,    0,    0,    0,    0,    0,    0,    0,    0,    0,\n",
       "          0,    0,    0,    0,    0,    0,    0,    0,    0,    0,    0,\n",
       "          0,    0,    0,    0,    0,    0,    0,    0,    0,    0,    0,\n",
       "          0,    0,    0,    0,    0,    0,    0,    0,    0,    0,    0,\n",
       "          0,    0,    0,    0,    0,    0,    0,    0,    0,    0,    0,\n",
       "          0,    0,    0,    0,    0,    0,    0,    0,    0,    0,    0,\n",
       "          0,    0,    0,    0,    0,    0,    0,    0,    0,    0,    0,\n",
       "          0,    0,    0,    0,    0,    0,    0,    0,    0,    0,    0,\n",
       "          0,    0,    0,    0,    0,    0,    0,    0,    0,    0,    0,\n",
       "          0,    0,    0,    0,    0,    0,    0,    0,    0,    0,    0,\n",
       "          0,    0,    0,    0,    0,    0,    0,    0,    0,    0,    0,\n",
       "          0,    0,    0,    0,    0,    0,    0,    0,    0,    0,    0,\n",
       "          0,    0,    0,    0,    0,    0,    0,    0,    0,    0,    0,\n",
       "          0,    0,    0,    0,    0,    0,    0,    0,    0,    0,    0,\n",
       "          0,    0,    0,    0,    0,    0,    0,    0,    0,    0,    0,\n",
       "          0,    0,    0,    0,    0,    0,    0,    0,    0,    0,    0,\n",
       "          0,    0,    0,    0,    0,    0,    0,    0,    0,    0,    0,\n",
       "          0,    0,    0,    0,    0,    0,    0,    0,    0,    0,    0,\n",
       "          0,    0,    0,    0,    0,    0,    0,    0,    0,    0,    0,\n",
       "          0,    0,    0,    0,    0,    0,    0,    0,    0,    0,    0,\n",
       "          0,    0,    0,    0,    0,    0,    0,    0,    0,    0,    0,\n",
       "          0,    0,    0,    0,    0])"
      ]
     },
     "execution_count": 23,
     "metadata": {},
     "output_type": "execute_result"
    }
   ],
   "source": [
    "# Use this cell to examine one of the processed reviews to make sure everything is working as intended.\n",
    "test_X[0]"
   ]
  },
  {
   "cell_type": "markdown",
   "metadata": {},
   "source": [
    "**Question:** In the cells above we use the `preprocess_data` and `convert_and_pad_data` methods to process both the training and testing set. Why or why not might this be a problem?"
   ]
  },
  {
   "cell_type": "markdown",
   "metadata": {},
   "source": [
    "**Answer:** It's basically a speed/performance problem. With preprocess_data, the method is doing \"heavy lifting\" of file io. With convert_and_pad_data, we change it up and save in memory a new set of data."
   ]
  },
  {
   "cell_type": "markdown",
   "metadata": {},
   "source": [
    "## Step 3: Upload the data to S3\n",
    "\n",
    "As in the XGBoost notebook, we will need to upload the training dataset to S3 in order for our training code to access it. For now we will save it locally and we will upload to S3 later on.\n",
    "\n",
    "### Save the processed training dataset locally\n",
    "\n",
    "It is important to note the format of the data that we are saving as we will need to know it when we write the training code. In our case, each row of the dataset has the form `label`, `length`, `review[500]` where `review[500]` is a sequence of `500` integers representing the words in the review."
   ]
  },
  {
   "cell_type": "code",
   "execution_count": 24,
   "metadata": {},
   "outputs": [],
   "source": [
    "import pandas as pd\n",
    "    \n",
    "pd.concat([pd.DataFrame(train_y), pd.DataFrame(train_X_len), pd.DataFrame(train_X)], axis=1) \\\n",
    "        .to_csv(os.path.join(data_dir, 'train.csv'), header=False, index=False)"
   ]
  },
  {
   "cell_type": "markdown",
   "metadata": {},
   "source": [
    "### Uploading the training data\n",
    "\n",
    "\n",
    "Next, we need to upload the training data to the SageMaker default S3 bucket so that we can provide access to it while training our model."
   ]
  },
  {
   "cell_type": "code",
   "execution_count": 25,
   "metadata": {},
   "outputs": [],
   "source": [
    "import sagemaker\n",
    "\n",
    "sagemaker_session = sagemaker.Session()\n",
    "\n",
    "bucket = sagemaker_session.default_bucket()\n",
    "prefix = 'sagemaker/sentiment_rnn'\n",
    "\n",
    "role = sagemaker.get_execution_role()"
   ]
  },
  {
   "cell_type": "code",
   "execution_count": 26,
   "metadata": {},
   "outputs": [],
   "source": [
    "input_data = sagemaker_session.upload_data(path=data_dir, bucket=bucket, key_prefix=prefix)"
   ]
  },
  {
   "cell_type": "markdown",
   "metadata": {},
   "source": [
    "**NOTE:** The cell above uploads the entire contents of our data directory. This includes the `word_dict.pkl` file. This is fortunate as we will need this later on when we create an endpoint that accepts an arbitrary review. For now, we will just take note of the fact that it resides in the data directory (and so also in the S3 training bucket) and that we will need to make sure it gets saved in the model directory."
   ]
  },
  {
   "cell_type": "markdown",
   "metadata": {},
   "source": [
    "## Step 4: Build and Train the PyTorch Model\n",
    "\n",
    "In the XGBoost notebook we discussed what a model is in the SageMaker framework. In particular, a model comprises three objects\n",
    "\n",
    " - Model Artifacts,\n",
    " - Training Code, and\n",
    " - Inference Code,\n",
    " \n",
    "each of which interact with one another. In the XGBoost example we used training and inference code that was provided by Amazon. Here we will still be using containers provided by Amazon with the added benefit of being able to include our own custom code.\n",
    "\n",
    "We will start by implementing our own neural network in PyTorch along with a training script. For the purposes of this project we have provided the necessary model object in the `model.py` file, inside of the `train` folder. You can see the provided implementation by running the cell below."
   ]
  },
  {
   "cell_type": "code",
   "execution_count": 27,
   "metadata": {},
   "outputs": [
    {
     "name": "stdout",
     "output_type": "stream",
     "text": [
      "\u001b[34mimport\u001b[39;49;00m \u001b[04m\u001b[36mtorch\u001b[39;49;00m\u001b[04m\u001b[36m.\u001b[39;49;00m\u001b[04m\u001b[36mnn\u001b[39;49;00m \u001b[34mas\u001b[39;49;00m \u001b[04m\u001b[36mnn\u001b[39;49;00m\r\n",
      "\r\n",
      "\u001b[34mclass\u001b[39;49;00m \u001b[04m\u001b[32mLSTMClassifier\u001b[39;49;00m(nn.Module):\r\n",
      "    \u001b[33m\"\"\"\u001b[39;49;00m\r\n",
      "\u001b[33m    This is the simple RNN model we will be using to perform Sentiment Analysis.\u001b[39;49;00m\r\n",
      "\u001b[33m    \"\"\"\u001b[39;49;00m\r\n",
      "\r\n",
      "    \u001b[34mdef\u001b[39;49;00m \u001b[32m__init__\u001b[39;49;00m(\u001b[36mself\u001b[39;49;00m, embedding_dim, hidden_dim, vocab_size):\r\n",
      "        \u001b[33m\"\"\"\u001b[39;49;00m\r\n",
      "\u001b[33m        Initialize the model by settingg up the various layers.\u001b[39;49;00m\r\n",
      "\u001b[33m        \"\"\"\u001b[39;49;00m\r\n",
      "        \u001b[36msuper\u001b[39;49;00m(LSTMClassifier, \u001b[36mself\u001b[39;49;00m).\u001b[32m__init__\u001b[39;49;00m()\r\n",
      "\r\n",
      "        \u001b[36mself\u001b[39;49;00m.embedding = nn.Embedding(vocab_size, embedding_dim, padding_idx=\u001b[34m0\u001b[39;49;00m)\r\n",
      "        \u001b[36mself\u001b[39;49;00m.lstm = nn.LSTM(embedding_dim, hidden_dim)\r\n",
      "        \u001b[36mself\u001b[39;49;00m.dense = nn.Linear(in_features=hidden_dim, out_features=\u001b[34m1\u001b[39;49;00m)\r\n",
      "        \u001b[36mself\u001b[39;49;00m.sig = nn.Sigmoid()\r\n",
      "        \r\n",
      "        \u001b[36mself\u001b[39;49;00m.word_dict = \u001b[34mNone\u001b[39;49;00m\r\n",
      "\r\n",
      "    \u001b[34mdef\u001b[39;49;00m \u001b[32mforward\u001b[39;49;00m(\u001b[36mself\u001b[39;49;00m, x):\r\n",
      "        \u001b[33m\"\"\"\u001b[39;49;00m\r\n",
      "\u001b[33m        Perform a forward pass of our model on some input.\u001b[39;49;00m\r\n",
      "\u001b[33m        \"\"\"\u001b[39;49;00m\r\n",
      "        x = x.t()\r\n",
      "        lengths = x[\u001b[34m0\u001b[39;49;00m,:]\r\n",
      "        reviews = x[\u001b[34m1\u001b[39;49;00m:,:]\r\n",
      "        embeds = \u001b[36mself\u001b[39;49;00m.embedding(reviews)\r\n",
      "        lstm_out, _ = \u001b[36mself\u001b[39;49;00m.lstm(embeds)\r\n",
      "        out = \u001b[36mself\u001b[39;49;00m.dense(lstm_out)\r\n",
      "        out = out[lengths - \u001b[34m1\u001b[39;49;00m, \u001b[36mrange\u001b[39;49;00m(\u001b[36mlen\u001b[39;49;00m(lengths))]\r\n",
      "        \u001b[34mreturn\u001b[39;49;00m \u001b[36mself\u001b[39;49;00m.sig(out.squeeze())\r\n"
     ]
    }
   ],
   "source": [
    "!pygmentize train/model.py"
   ]
  },
  {
   "cell_type": "markdown",
   "metadata": {},
   "source": [
    "The important takeaway from the implementation provided is that there are three parameters that we may wish to tweak to improve the performance of our model. These are the embedding dimension, the hidden dimension and the size of the vocabulary. We will likely want to make these parameters configurable in the training script so that if we wish to modify them we do not need to modify the script itself. We will see how to do this later on. To start we will write some of the training code in the notebook so that we can more easily diagnose any issues that arise.\n",
    "\n",
    "First we will load a small portion of the training data set to use as a sample. It would be very time consuming to try and train the model completely in the notebook as we do not have access to a gpu and the compute instance that we are using is not particularly powerful. However, we can work on a small bit of the data to get a feel for how our training script is behaving."
   ]
  },
  {
   "cell_type": "code",
   "execution_count": 28,
   "metadata": {},
   "outputs": [],
   "source": [
    "import torch\n",
    "import torch.utils.data\n",
    "\n",
    "# Read in only the first 250 rows\n",
    "train_sample = pd.read_csv(os.path.join(data_dir, 'train.csv'), header=None, names=None, nrows=250)\n",
    "\n",
    "# Turn the input pandas dataframe into tensors\n",
    "train_sample_y = torch.from_numpy(train_sample[[0]].values).float().squeeze()\n",
    "train_sample_X = torch.from_numpy(train_sample.drop([0], axis=1).values).long()\n",
    "\n",
    "# Build the dataset\n",
    "train_sample_ds = torch.utils.data.TensorDataset(train_sample_X, train_sample_y)\n",
    "# Build the dataloader\n",
    "train_sample_dl = torch.utils.data.DataLoader(train_sample_ds, batch_size=50)"
   ]
  },
  {
   "cell_type": "markdown",
   "metadata": {},
   "source": [
    "### (TODO) Writing the training method\n",
    "\n",
    "Next we need to write the training code itself. This should be very similar to training methods that you have written before to train PyTorch models. We will leave any difficult aspects such as model saving / loading and parameter loading until a little later."
   ]
  },
  {
   "cell_type": "code",
   "execution_count": 29,
   "metadata": {},
   "outputs": [],
   "source": [
    "def train(model, train_loader, epochs, optimizer, loss_fn, device):\n",
    "    for epoch in range(1, epochs + 1):\n",
    "        model.train()\n",
    "        total_loss = 0\n",
    "        for batch in train_loader:         \n",
    "            batch_X, batch_y = batch\n",
    "            \n",
    "            batch_X = batch_X.to(device)\n",
    "            batch_y = batch_y.to(device)\n",
    "            \n",
    "            # TODO: Complete this train method to train the model provided.\n",
    "            optimizer.zero_grad()\n",
    "            output = model.forward(batch_X)\n",
    "            loss = loss_fn(output,batch_y)\n",
    "            loss.backward()\n",
    "            optimizer.step()\n",
    "            \n",
    "            \n",
    "            total_loss += loss.data.item()\n",
    "        print(\"Epoch: {}, BCELoss: {}\".format(epoch, total_loss / len(train_loader)))"
   ]
  },
  {
   "cell_type": "markdown",
   "metadata": {},
   "source": [
    "Supposing we have the training method above, we will test that it is working by writing a bit of code in the notebook that executes our training method on the small sample training set that we loaded earlier. The reason for doing this in the notebook is so that we have an opportunity to fix any errors that arise early when they are easier to diagnose."
   ]
  },
  {
   "cell_type": "code",
   "execution_count": 30,
   "metadata": {},
   "outputs": [
    {
     "name": "stdout",
     "output_type": "stream",
     "text": [
      "Epoch: 1, BCELoss: 0.6976165294647216\n",
      "Epoch: 2, BCELoss: 0.6891885280609131\n",
      "Epoch: 3, BCELoss: 0.6821107506752014\n",
      "Epoch: 4, BCELoss: 0.6742493271827698\n",
      "Epoch: 5, BCELoss: 0.6641937732696533\n"
     ]
    }
   ],
   "source": [
    "import torch.optim as optim\n",
    "from train.model import LSTMClassifier\n",
    "\n",
    "device = torch.device(\"cuda\" if torch.cuda.is_available() else \"cpu\")\n",
    "model = LSTMClassifier(32, 100, 5000).to(device)\n",
    "optimizer = optim.Adam(model.parameters())\n",
    "loss_fn = torch.nn.BCELoss()\n",
    "\n",
    "train(model, train_sample_dl, 5, optimizer, loss_fn, device)"
   ]
  },
  {
   "cell_type": "markdown",
   "metadata": {},
   "source": [
    "In order to construct a PyTorch model using SageMaker we must provide SageMaker with a training script. We may optionally include a directory which will be copied to the container and from which our training code will be run. When the training container is executed it will check the uploaded directory (if there is one) for a `requirements.txt` file and install any required Python libraries, after which the training script will be run."
   ]
  },
  {
   "cell_type": "markdown",
   "metadata": {},
   "source": [
    "### (TODO) Training the model\n",
    "\n",
    "When a PyTorch model is constructed in SageMaker, an entry point must be specified. This is the Python file which will be executed when the model is trained. Inside of the `train` directory is a file called `train.py` which has been provided and which contains most of the necessary code to train our model. The only thing that is missing is the implementation of the `train()` method which you wrote earlier in this notebook.\n",
    "\n",
    "**TODO**: Copy the `train()` method written above and paste it into the `train/train.py` file where required.\n",
    "\n",
    "The way that SageMaker passes hyperparameters to the training script is by way of arguments. These arguments can then be parsed and used in the training script. To see how this is done take a look at the provided `train/train.py` file."
   ]
  },
  {
   "cell_type": "code",
   "execution_count": 37,
   "metadata": {},
   "outputs": [],
   "source": [
    "from sagemaker.pytorch import PyTorch\n",
    "\n",
    "estimator = PyTorch(entry_point=\"train.py\",\n",
    "                    source_dir=\"train\",\n",
    "                    role=role,\n",
    "                    framework_version='0.4.0',\n",
    "                    train_instance_count=1,\n",
    "                    train_instance_type='ml.m5.4xlarge',\n",
    "                    hyperparameters={\n",
    "                        'epochs': 10,\n",
    "                        'hidden_dim': 200,\n",
    "                    })"
   ]
  },
  {
   "cell_type": "code",
   "execution_count": 38,
   "metadata": {},
   "outputs": [
    {
     "name": "stderr",
     "output_type": "stream",
     "text": [
      "'create_image_uri' will be deprecated in favor of 'ImageURIProvider' class in SageMaker Python SDK v2.\n",
      "'s3_input' class will be renamed to 'TrainingInput' in SageMaker Python SDK v2.\n",
      "'create_image_uri' will be deprecated in favor of 'ImageURIProvider' class in SageMaker Python SDK v2.\n"
     ]
    },
    {
     "name": "stdout",
     "output_type": "stream",
     "text": [
      "2020-09-11 19:13:25 Starting - Starting the training job...\n",
      "2020-09-11 19:13:26 Starting - Launching requested ML instances......\n",
      "2020-09-11 19:14:33 Starting - Preparing the instances for training...\n",
      "2020-09-11 19:15:25 Downloading - Downloading input data...\n",
      "2020-09-11 19:15:48 Training - Training image download completed. Training in progress..\u001b[34mbash: cannot set terminal process group (-1): Inappropriate ioctl for device\u001b[0m\n",
      "\u001b[34mbash: no job control in this shell\u001b[0m\n",
      "\u001b[34m2020-09-11 19:15:48,803 sagemaker-containers INFO     Imported framework sagemaker_pytorch_container.training\u001b[0m\n",
      "\u001b[34m2020-09-11 19:15:48,805 sagemaker-containers INFO     No GPUs detected (normal if no gpus installed)\u001b[0m\n",
      "\u001b[34m2020-09-11 19:15:48,817 sagemaker_pytorch_container.training INFO     Block until all host DNS lookups succeed.\u001b[0m\n",
      "\u001b[34m2020-09-11 19:15:48,820 sagemaker_pytorch_container.training INFO     Invoking user training script.\u001b[0m\n",
      "\u001b[34m2020-09-11 19:15:49,025 sagemaker-containers INFO     Module train does not provide a setup.py. \u001b[0m\n",
      "\u001b[34mGenerating setup.py\u001b[0m\n",
      "\u001b[34m2020-09-11 19:15:49,025 sagemaker-containers INFO     Generating setup.cfg\u001b[0m\n",
      "\u001b[34m2020-09-11 19:15:49,026 sagemaker-containers INFO     Generating MANIFEST.in\u001b[0m\n",
      "\u001b[34m2020-09-11 19:15:49,026 sagemaker-containers INFO     Installing module with the following command:\u001b[0m\n",
      "\u001b[34m/usr/bin/python -m pip install -U . -r requirements.txt\u001b[0m\n",
      "\u001b[34mProcessing /opt/ml/code\u001b[0m\n",
      "\u001b[34mCollecting pandas (from -r requirements.txt (line 1))\n",
      "  Downloading https://files.pythonhosted.org/packages/74/24/0cdbf8907e1e3bc5a8da03345c23cbed7044330bb8f73bb12e711a640a00/pandas-0.24.2-cp35-cp35m-manylinux1_x86_64.whl (10.0MB)\u001b[0m\n",
      "\u001b[34mCollecting numpy (from -r requirements.txt (line 2))\u001b[0m\n",
      "\u001b[34m  Downloading https://files.pythonhosted.org/packages/b5/36/88723426b4ff576809fec7d73594fe17a35c27f8d01f93637637a29ae25b/numpy-1.18.5-cp35-cp35m-manylinux1_x86_64.whl (19.9MB)\u001b[0m\n",
      "\u001b[34mCollecting nltk (from -r requirements.txt (line 3))\n",
      "  Downloading https://files.pythonhosted.org/packages/92/75/ce35194d8e3022203cca0d2f896dbb88689f9b3fce8e9f9cff942913519d/nltk-3.5.zip (1.4MB)\u001b[0m\n",
      "\u001b[34mCollecting beautifulsoup4 (from -r requirements.txt (line 4))\n",
      "  Downloading https://files.pythonhosted.org/packages/66/25/ff030e2437265616a1e9b25ccc864e0371a0bc3adb7c5a404fd661c6f4f6/beautifulsoup4-4.9.1-py3-none-any.whl (115kB)\u001b[0m\n",
      "\u001b[34mCollecting html5lib (from -r requirements.txt (line 5))\n",
      "  Downloading https://files.pythonhosted.org/packages/6c/dd/a834df6482147d48e225a49515aabc28974ad5a4ca3215c18a882565b028/html5lib-1.1-py2.py3-none-any.whl (112kB)\u001b[0m\n",
      "\u001b[34mCollecting pytz>=2011k (from pandas->-r requirements.txt (line 1))\n",
      "  Downloading https://files.pythonhosted.org/packages/4f/a4/879454d49688e2fad93e59d7d4efda580b783c745fd2ec2a3adf87b0808d/pytz-2020.1-py2.py3-none-any.whl (510kB)\u001b[0m\n",
      "\u001b[34mRequirement already satisfied, skipping upgrade: python-dateutil>=2.5.0 in /usr/local/lib/python3.5/dist-packages (from pandas->-r requirements.txt (line 1)) (2.7.5)\u001b[0m\n",
      "\u001b[34mRequirement already satisfied, skipping upgrade: click in /usr/local/lib/python3.5/dist-packages (from nltk->-r requirements.txt (line 3)) (7.0)\u001b[0m\n",
      "\u001b[34mCollecting joblib (from nltk->-r requirements.txt (line 3))\n",
      "  Downloading https://files.pythonhosted.org/packages/28/5c/cf6a2b65a321c4a209efcdf64c2689efae2cb62661f8f6f4bb28547cf1bf/joblib-0.14.1-py2.py3-none-any.whl (294kB)\u001b[0m\n",
      "\u001b[34mCollecting regex (from nltk->-r requirements.txt (line 3))\u001b[0m\n",
      "\u001b[34m  Downloading https://files.pythonhosted.org/packages/09/c3/ddaa87500f31ed86290e3d014c0302a51fde28d7139eda0b5f33733726db/regex-2020.7.14.tar.gz (690kB)\u001b[0m\n",
      "\u001b[34mCollecting tqdm (from nltk->-r requirements.txt (line 3))\n",
      "  Downloading https://files.pythonhosted.org/packages/28/7e/281edb5bc3274dfb894d90f4dbacfceaca381c2435ec6187a2c6f329aed7/tqdm-4.48.2-py2.py3-none-any.whl (68kB)\u001b[0m\n",
      "\u001b[34mCollecting soupsieve>1.2 (from beautifulsoup4->-r requirements.txt (line 4))\n",
      "  Downloading https://files.pythonhosted.org/packages/6f/8f/457f4a5390eeae1cc3aeab89deb7724c965be841ffca6cfca9197482e470/soupsieve-2.0.1-py3-none-any.whl\u001b[0m\n",
      "\u001b[34mCollecting webencodings (from html5lib->-r requirements.txt (line 5))\n",
      "  Downloading https://files.pythonhosted.org/packages/f4/24/2a3e3df732393fed8b3ebf2ec078f05546de641fe1b667ee316ec1dcf3b7/webencodings-0.5.1-py2.py3-none-any.whl\u001b[0m\n",
      "\u001b[34mRequirement already satisfied, skipping upgrade: six>=1.9 in /usr/local/lib/python3.5/dist-packages (from html5lib->-r requirements.txt (line 5)) (1.11.0)\u001b[0m\n",
      "\u001b[34mBuilding wheels for collected packages: nltk, train, regex\n",
      "  Running setup.py bdist_wheel for nltk: started\u001b[0m\n",
      "\u001b[34m  Running setup.py bdist_wheel for nltk: finished with status 'done'\n",
      "  Stored in directory: /root/.cache/pip/wheels/ae/8c/3f/b1fe0ba04555b08b57ab52ab7f86023639a526d8bc8d384306\n",
      "  Running setup.py bdist_wheel for train: started\n",
      "  Running setup.py bdist_wheel for train: finished with status 'done'\n",
      "  Stored in directory: /tmp/pip-ephem-wheel-cache-g3q7lirj/wheels/35/24/16/37574d11bf9bde50616c67372a334f94fa8356bc7164af8ca3\n",
      "  Running setup.py bdist_wheel for regex: started\u001b[0m\n",
      "\u001b[34m  Running setup.py bdist_wheel for regex: finished with status 'done'\n",
      "  Stored in directory: /root/.cache/pip/wheels/53/55/dc/e17fa4568958f4c53be34b65e474a1327b64641f65df379ec3\u001b[0m\n",
      "\u001b[34mSuccessfully built nltk train regex\u001b[0m\n",
      "\u001b[34mInstalling collected packages: numpy, pytz, pandas, joblib, regex, tqdm, nltk, soupsieve, beautifulsoup4, webencodings, html5lib, train\n",
      "  Found existing installation: numpy 1.15.4\n",
      "    Uninstalling numpy-1.15.4:\n",
      "      Successfully uninstalled numpy-1.15.4\u001b[0m\n",
      "\u001b[34mSuccessfully installed beautifulsoup4-4.9.1 html5lib-1.1 joblib-0.14.1 nltk-3.5 numpy-1.18.5 pandas-0.24.2 pytz-2020.1 regex-2020.7.14 soupsieve-2.0.1 tqdm-4.48.2 train-1.0.0 webencodings-0.5.1\u001b[0m\n",
      "\u001b[34mYou are using pip version 18.1, however version 20.2.3 is available.\u001b[0m\n",
      "\u001b[34mYou should consider upgrading via the 'pip install --upgrade pip' command.\u001b[0m\n",
      "\u001b[34m2020-09-11 19:16:08,121 sagemaker-containers INFO     No GPUs detected (normal if no gpus installed)\u001b[0m\n",
      "\u001b[34m2020-09-11 19:16:08,133 sagemaker-containers INFO     Invoking user script\n",
      "\u001b[0m\n",
      "\u001b[34mTraining Env:\n",
      "\u001b[0m\n",
      "\u001b[34m{\n",
      "    \"num_gpus\": 0,\n",
      "    \"model_dir\": \"/opt/ml/model\",\n",
      "    \"module_dir\": \"s3://sagemaker-us-east-2-033768969440/sagemaker-pytorch-2020-09-11-19-13-24-706/source/sourcedir.tar.gz\",\n",
      "    \"current_host\": \"algo-1\",\n",
      "    \"hosts\": [\n",
      "        \"algo-1\"\n",
      "    ],\n",
      "    \"input_dir\": \"/opt/ml/input\",\n",
      "    \"num_cpus\": 16,\n",
      "    \"network_interface_name\": \"eth0\",\n",
      "    \"output_intermediate_dir\": \"/opt/ml/output/intermediate\",\n",
      "    \"input_data_config\": {\n",
      "        \"training\": {\n",
      "            \"TrainingInputMode\": \"File\",\n",
      "            \"S3DistributionType\": \"FullyReplicated\",\n",
      "            \"RecordWrapperType\": \"None\"\n",
      "        }\n",
      "    },\n",
      "    \"job_name\": \"sagemaker-pytorch-2020-09-11-19-13-24-706\",\n",
      "    \"additional_framework_parameters\": {},\n",
      "    \"channel_input_dirs\": {\n",
      "        \"training\": \"/opt/ml/input/data/training\"\n",
      "    },\n",
      "    \"log_level\": 20,\n",
      "    \"input_config_dir\": \"/opt/ml/input/config\",\n",
      "    \"resource_config\": {\n",
      "        \"current_host\": \"algo-1\",\n",
      "        \"hosts\": [\n",
      "            \"algo-1\"\n",
      "        ],\n",
      "        \"network_interface_name\": \"eth0\"\n",
      "    },\n",
      "    \"framework_module\": \"sagemaker_pytorch_container.training:main\",\n",
      "    \"hyperparameters\": {\n",
      "        \"epochs\": 10,\n",
      "        \"hidden_dim\": 200\n",
      "    },\n",
      "    \"user_entry_point\": \"train.py\",\n",
      "    \"output_dir\": \"/opt/ml/output\",\n",
      "    \"output_data_dir\": \"/opt/ml/output/data\",\n",
      "    \"module_name\": \"train\"\u001b[0m\n",
      "\u001b[34m}\n",
      "\u001b[0m\n",
      "\u001b[34mEnvironment variables:\n",
      "\u001b[0m\n",
      "\u001b[34mSM_FRAMEWORK_MODULE=sagemaker_pytorch_container.training:main\u001b[0m\n",
      "\u001b[34mSM_NUM_CPUS=16\u001b[0m\n",
      "\u001b[34mSM_TRAINING_ENV={\"additional_framework_parameters\":{},\"channel_input_dirs\":{\"training\":\"/opt/ml/input/data/training\"},\"current_host\":\"algo-1\",\"framework_module\":\"sagemaker_pytorch_container.training:main\",\"hosts\":[\"algo-1\"],\"hyperparameters\":{\"epochs\":10,\"hidden_dim\":200},\"input_config_dir\":\"/opt/ml/input/config\",\"input_data_config\":{\"training\":{\"RecordWrapperType\":\"None\",\"S3DistributionType\":\"FullyReplicated\",\"TrainingInputMode\":\"File\"}},\"input_dir\":\"/opt/ml/input\",\"job_name\":\"sagemaker-pytorch-2020-09-11-19-13-24-706\",\"log_level\":20,\"model_dir\":\"/opt/ml/model\",\"module_dir\":\"s3://sagemaker-us-east-2-033768969440/sagemaker-pytorch-2020-09-11-19-13-24-706/source/sourcedir.tar.gz\",\"module_name\":\"train\",\"network_interface_name\":\"eth0\",\"num_cpus\":16,\"num_gpus\":0,\"output_data_dir\":\"/opt/ml/output/data\",\"output_dir\":\"/opt/ml/output\",\"output_intermediate_dir\":\"/opt/ml/output/intermediate\",\"resource_config\":{\"current_host\":\"algo-1\",\"hosts\":[\"algo-1\"],\"network_interface_name\":\"eth0\"},\"user_entry_point\":\"train.py\"}\u001b[0m\n",
      "\u001b[34mSM_NETWORK_INTERFACE_NAME=eth0\u001b[0m\n",
      "\u001b[34mSM_HP_EPOCHS=10\u001b[0m\n",
      "\u001b[34mSM_HPS={\"epochs\":10,\"hidden_dim\":200}\u001b[0m\n",
      "\u001b[34mSM_USER_ENTRY_POINT=train.py\u001b[0m\n",
      "\u001b[34mSM_OUTPUT_INTERMEDIATE_DIR=/opt/ml/output/intermediate\u001b[0m\n",
      "\u001b[34mSM_CURRENT_HOST=algo-1\u001b[0m\n",
      "\u001b[34mSM_INPUT_DIR=/opt/ml/input\u001b[0m\n",
      "\u001b[34mSM_MODEL_DIR=/opt/ml/model\u001b[0m\n",
      "\u001b[34mSM_USER_ARGS=[\"--epochs\",\"10\",\"--hidden_dim\",\"200\"]\u001b[0m\n",
      "\u001b[34mSM_HP_HIDDEN_DIM=200\u001b[0m\n",
      "\u001b[34mSM_CHANNELS=[\"training\"]\u001b[0m\n",
      "\u001b[34mSM_OUTPUT_DATA_DIR=/opt/ml/output/data\u001b[0m\n",
      "\u001b[34mSM_MODULE_NAME=train\u001b[0m\n",
      "\u001b[34mSM_CHANNEL_TRAINING=/opt/ml/input/data/training\u001b[0m\n",
      "\u001b[34mSM_MODULE_DIR=s3://sagemaker-us-east-2-033768969440/sagemaker-pytorch-2020-09-11-19-13-24-706/source/sourcedir.tar.gz\u001b[0m\n",
      "\u001b[34mSM_FRAMEWORK_PARAMS={}\u001b[0m\n",
      "\u001b[34mPYTHONPATH=/usr/local/bin:/usr/lib/python35.zip:/usr/lib/python3.5:/usr/lib/python3.5/plat-x86_64-linux-gnu:/usr/lib/python3.5/lib-dynload:/usr/local/lib/python3.5/dist-packages:/usr/lib/python3/dist-packages\u001b[0m\n",
      "\u001b[34mSM_RESOURCE_CONFIG={\"current_host\":\"algo-1\",\"hosts\":[\"algo-1\"],\"network_interface_name\":\"eth0\"}\u001b[0m\n",
      "\u001b[34mSM_INPUT_CONFIG_DIR=/opt/ml/input/config\u001b[0m\n",
      "\u001b[34mSM_HOSTS=[\"algo-1\"]\u001b[0m\n",
      "\u001b[34mSM_LOG_LEVEL=20\u001b[0m\n",
      "\u001b[34mSM_NUM_GPUS=0\u001b[0m\n",
      "\u001b[34mSM_OUTPUT_DIR=/opt/ml/output\u001b[0m\n",
      "\u001b[34mSM_INPUT_DATA_CONFIG={\"training\":{\"RecordWrapperType\":\"None\",\"S3DistributionType\":\"FullyReplicated\",\"TrainingInputMode\":\"File\"}}\n",
      "\u001b[0m\n",
      "\u001b[34mInvoking script with the following command:\n",
      "\u001b[0m\n",
      "\u001b[34m/usr/bin/python -m train --epochs 10 --hidden_dim 200\n",
      "\n",
      "\u001b[0m\n",
      "\u001b[34mUsing device cpu.\u001b[0m\n",
      "\u001b[34mGet train data loader.\u001b[0m\n",
      "\u001b[34mModel loaded with embedding_dim 32, hidden_dim 200, vocab_size 5000.\u001b[0m\n"
     ]
    },
    {
     "name": "stdout",
     "output_type": "stream",
     "text": [
      "\u001b[34mEpoch: 1, BCELoss: 0.672724399031425\u001b[0m\n",
      "\u001b[34mEpoch: 2, BCELoss: 0.6058532486156541\u001b[0m\n",
      "\u001b[34mEpoch: 3, BCELoss: 0.508979049872379\u001b[0m\n",
      "\u001b[34mEpoch: 4, BCELoss: 0.4358679317698187\u001b[0m\n",
      "\u001b[34mEpoch: 5, BCELoss: 0.3826258815064722\u001b[0m\n",
      "\u001b[34mEpoch: 6, BCELoss: 0.3687292471223948\u001b[0m\n",
      "\u001b[34mEpoch: 7, BCELoss: 0.31745678095185026\u001b[0m\n",
      "\u001b[34mEpoch: 8, BCELoss: 0.2958049080809768\u001b[0m\n",
      "\u001b[34mEpoch: 9, BCELoss: 0.2821065816952258\u001b[0m\n",
      "\n",
      "2020-09-11 19:52:16 Uploading - Uploading generated training model\n",
      "2020-09-11 19:52:16 Completed - Training job completed\n",
      "\u001b[34mEpoch: 10, BCELoss: 0.2646607114952438\u001b[0m\n",
      "\u001b[34m2020-09-11 19:52:09,085 sagemaker-containers INFO     Reporting training SUCCESS\u001b[0m\n",
      "Training seconds: 2211\n",
      "Billable seconds: 2211\n"
     ]
    }
   ],
   "source": [
    "estimator.fit({'training': input_data})"
   ]
  },
  {
   "cell_type": "markdown",
   "metadata": {},
   "source": [
    "## Step 5: Testing the model\n",
    "\n",
    "As mentioned at the top of this notebook, we will be testing this model by first deploying it and then sending the testing data to the deployed endpoint. We will do this so that we can make sure that the deployed model is working correctly.\n",
    "\n",
    "## Step 6: Deploy the model for testing\n",
    "\n",
    "Now that we have trained our model, we would like to test it to see how it performs. Currently our model takes input of the form `review_length, review[500]` where `review[500]` is a sequence of `500` integers which describe the words present in the review, encoded using `word_dict`. Fortunately for us, SageMaker provides built-in inference code for models with simple inputs such as this.\n",
    "\n",
    "There is one thing that we need to provide, however, and that is a function which loads the saved model. This function must be called `model_fn()` and takes as its only parameter a path to the directory where the model artifacts are stored. This function must also be present in the python file which we specified as the entry point. In our case the model loading function has been provided and so no changes need to be made.\n",
    "\n",
    "**NOTE**: When the built-in inference code is run it must import the `model_fn()` method from the `train.py` file. This is why the training code is wrapped in a main guard ( ie, `if __name__ == '__main__':` )\n",
    "\n",
    "Since we don't need to change anything in the code that was uploaded during training, we can simply deploy the current model as-is.\n",
    "\n",
    "**NOTE:** When deploying a model you are asking SageMaker to launch an compute instance that will wait for data to be sent to it. As a result, this compute instance will continue to run until *you* shut it down. This is important to know since the cost of a deployed endpoint depends on how long it has been running for.\n",
    "\n",
    "In other words **If you are no longer using a deployed endpoint, shut it down!**\n",
    "\n",
    "**TODO:** Deploy the trained model."
   ]
  },
  {
   "cell_type": "code",
   "execution_count": 46,
   "metadata": {},
   "outputs": [
    {
     "name": "stderr",
     "output_type": "stream",
     "text": [
      "Parameter image will be renamed to image_uri in SageMaker Python SDK v2.\n",
      "'create_image_uri' will be deprecated in favor of 'ImageURIProvider' class in SageMaker Python SDK v2.\n",
      "Using already existing model: sagemaker-pytorch-2020-09-11-19-13-24-706\n"
     ]
    },
    {
     "ename": "ResourceLimitExceeded",
     "evalue": "An error occurred (ResourceLimitExceeded) when calling the CreateEndpoint operation: The account-level service limit 'ml.p2.xlarge for endpoint usage' is 0 Instances, with current utilization of 0 Instances and a request delta of 1 Instances. Please contact AWS support to request an increase for this limit.",
     "output_type": "error",
     "traceback": [
      "\u001b[0;31m---------------------------------------------------------------------------\u001b[0m",
      "\u001b[0;31mResourceLimitExceeded\u001b[0m                     Traceback (most recent call last)",
      "\u001b[0;32m<ipython-input-46-1a5d89147ac9>\u001b[0m in \u001b[0;36m<module>\u001b[0;34m\u001b[0m\n\u001b[1;32m      1\u001b[0m \u001b[0;31m# TODO: Deploy the trained model\u001b[0m\u001b[0;34m\u001b[0m\u001b[0;34m\u001b[0m\u001b[0;34m\u001b[0m\u001b[0m\n\u001b[0;32m----> 2\u001b[0;31m \u001b[0mpredictor\u001b[0m \u001b[0;34m=\u001b[0m \u001b[0mestimator\u001b[0m\u001b[0;34m.\u001b[0m\u001b[0mdeploy\u001b[0m\u001b[0;34m(\u001b[0m\u001b[0minitial_instance_count\u001b[0m\u001b[0;34m=\u001b[0m\u001b[0;36m1\u001b[0m\u001b[0;34m,\u001b[0m \u001b[0minstance_type\u001b[0m\u001b[0;34m=\u001b[0m\u001b[0;34m'ml.p2.xlarge'\u001b[0m\u001b[0;34m)\u001b[0m\u001b[0;34m\u001b[0m\u001b[0;34m\u001b[0m\u001b[0m\n\u001b[0m",
      "\u001b[0;32m~/anaconda3/envs/pytorch_p36/lib/python3.6/site-packages/sagemaker/estimator.py\u001b[0m in \u001b[0;36mdeploy\u001b[0;34m(self, initial_instance_count, instance_type, accelerator_type, endpoint_name, use_compiled_model, update_endpoint, wait, model_name, kms_key, data_capture_config, tags, **kwargs)\u001b[0m\n\u001b[1;32m    743\u001b[0m             \u001b[0mwait\u001b[0m\u001b[0;34m=\u001b[0m\u001b[0mwait\u001b[0m\u001b[0;34m,\u001b[0m\u001b[0;34m\u001b[0m\u001b[0;34m\u001b[0m\u001b[0m\n\u001b[1;32m    744\u001b[0m             \u001b[0mkms_key\u001b[0m\u001b[0;34m=\u001b[0m\u001b[0mkms_key\u001b[0m\u001b[0;34m,\u001b[0m\u001b[0;34m\u001b[0m\u001b[0;34m\u001b[0m\u001b[0m\n\u001b[0;32m--> 745\u001b[0;31m             \u001b[0mdata_capture_config\u001b[0m\u001b[0;34m=\u001b[0m\u001b[0mdata_capture_config\u001b[0m\u001b[0;34m,\u001b[0m\u001b[0;34m\u001b[0m\u001b[0;34m\u001b[0m\u001b[0m\n\u001b[0m\u001b[1;32m    746\u001b[0m         )\n\u001b[1;32m    747\u001b[0m \u001b[0;34m\u001b[0m\u001b[0m\n",
      "\u001b[0;32m~/anaconda3/envs/pytorch_p36/lib/python3.6/site-packages/sagemaker/model.py\u001b[0m in \u001b[0;36mdeploy\u001b[0;34m(self, initial_instance_count, instance_type, accelerator_type, endpoint_name, update_endpoint, tags, kms_key, wait, data_capture_config)\u001b[0m\n\u001b[1;32m    577\u001b[0m                 \u001b[0mkms_key\u001b[0m\u001b[0;34m=\u001b[0m\u001b[0mkms_key\u001b[0m\u001b[0;34m,\u001b[0m\u001b[0;34m\u001b[0m\u001b[0;34m\u001b[0m\u001b[0m\n\u001b[1;32m    578\u001b[0m                 \u001b[0mwait\u001b[0m\u001b[0;34m=\u001b[0m\u001b[0mwait\u001b[0m\u001b[0;34m,\u001b[0m\u001b[0;34m\u001b[0m\u001b[0;34m\u001b[0m\u001b[0m\n\u001b[0;32m--> 579\u001b[0;31m                 \u001b[0mdata_capture_config_dict\u001b[0m\u001b[0;34m=\u001b[0m\u001b[0mdata_capture_config_dict\u001b[0m\u001b[0;34m,\u001b[0m\u001b[0;34m\u001b[0m\u001b[0;34m\u001b[0m\u001b[0m\n\u001b[0m\u001b[1;32m    580\u001b[0m             )\n\u001b[1;32m    581\u001b[0m \u001b[0;34m\u001b[0m\u001b[0m\n",
      "\u001b[0;32m~/anaconda3/envs/pytorch_p36/lib/python3.6/site-packages/sagemaker/session.py\u001b[0m in \u001b[0;36mendpoint_from_production_variants\u001b[0;34m(self, name, production_variants, tags, kms_key, wait, data_capture_config_dict)\u001b[0m\n\u001b[1;32m   2903\u001b[0m \u001b[0;34m\u001b[0m\u001b[0m\n\u001b[1;32m   2904\u001b[0m             \u001b[0mself\u001b[0m\u001b[0;34m.\u001b[0m\u001b[0msagemaker_client\u001b[0m\u001b[0;34m.\u001b[0m\u001b[0mcreate_endpoint_config\u001b[0m\u001b[0;34m(\u001b[0m\u001b[0;34m**\u001b[0m\u001b[0mconfig_options\u001b[0m\u001b[0;34m)\u001b[0m\u001b[0;34m\u001b[0m\u001b[0;34m\u001b[0m\u001b[0m\n\u001b[0;32m-> 2905\u001b[0;31m         \u001b[0;32mreturn\u001b[0m \u001b[0mself\u001b[0m\u001b[0;34m.\u001b[0m\u001b[0mcreate_endpoint\u001b[0m\u001b[0;34m(\u001b[0m\u001b[0mendpoint_name\u001b[0m\u001b[0;34m=\u001b[0m\u001b[0mname\u001b[0m\u001b[0;34m,\u001b[0m \u001b[0mconfig_name\u001b[0m\u001b[0;34m=\u001b[0m\u001b[0mname\u001b[0m\u001b[0;34m,\u001b[0m \u001b[0mtags\u001b[0m\u001b[0;34m=\u001b[0m\u001b[0mtags\u001b[0m\u001b[0;34m,\u001b[0m \u001b[0mwait\u001b[0m\u001b[0;34m=\u001b[0m\u001b[0mwait\u001b[0m\u001b[0;34m)\u001b[0m\u001b[0;34m\u001b[0m\u001b[0;34m\u001b[0m\u001b[0m\n\u001b[0m\u001b[1;32m   2906\u001b[0m \u001b[0;34m\u001b[0m\u001b[0m\n\u001b[1;32m   2907\u001b[0m     \u001b[0;32mdef\u001b[0m \u001b[0mexpand_role\u001b[0m\u001b[0;34m(\u001b[0m\u001b[0mself\u001b[0m\u001b[0;34m,\u001b[0m \u001b[0mrole\u001b[0m\u001b[0;34m)\u001b[0m\u001b[0;34m:\u001b[0m\u001b[0;34m\u001b[0m\u001b[0;34m\u001b[0m\u001b[0m\n",
      "\u001b[0;32m~/anaconda3/envs/pytorch_p36/lib/python3.6/site-packages/sagemaker/session.py\u001b[0m in \u001b[0;36mcreate_endpoint\u001b[0;34m(self, endpoint_name, config_name, tags, wait)\u001b[0m\n\u001b[1;32m   2420\u001b[0m \u001b[0;34m\u001b[0m\u001b[0m\n\u001b[1;32m   2421\u001b[0m         self.sagemaker_client.create_endpoint(\n\u001b[0;32m-> 2422\u001b[0;31m             \u001b[0mEndpointName\u001b[0m\u001b[0;34m=\u001b[0m\u001b[0mendpoint_name\u001b[0m\u001b[0;34m,\u001b[0m \u001b[0mEndpointConfigName\u001b[0m\u001b[0;34m=\u001b[0m\u001b[0mconfig_name\u001b[0m\u001b[0;34m,\u001b[0m \u001b[0mTags\u001b[0m\u001b[0;34m=\u001b[0m\u001b[0mtags\u001b[0m\u001b[0;34m\u001b[0m\u001b[0;34m\u001b[0m\u001b[0m\n\u001b[0m\u001b[1;32m   2423\u001b[0m         )\n\u001b[1;32m   2424\u001b[0m         \u001b[0;32mif\u001b[0m \u001b[0mwait\u001b[0m\u001b[0;34m:\u001b[0m\u001b[0;34m\u001b[0m\u001b[0;34m\u001b[0m\u001b[0m\n",
      "\u001b[0;32m~/anaconda3/envs/pytorch_p36/lib/python3.6/site-packages/botocore/client.py\u001b[0m in \u001b[0;36m_api_call\u001b[0;34m(self, *args, **kwargs)\u001b[0m\n\u001b[1;32m    335\u001b[0m                     \"%s() only accepts keyword arguments.\" % py_operation_name)\n\u001b[1;32m    336\u001b[0m             \u001b[0;31m# The \"self\" in this scope is referring to the BaseClient.\u001b[0m\u001b[0;34m\u001b[0m\u001b[0;34m\u001b[0m\u001b[0;34m\u001b[0m\u001b[0m\n\u001b[0;32m--> 337\u001b[0;31m             \u001b[0;32mreturn\u001b[0m \u001b[0mself\u001b[0m\u001b[0;34m.\u001b[0m\u001b[0m_make_api_call\u001b[0m\u001b[0;34m(\u001b[0m\u001b[0moperation_name\u001b[0m\u001b[0;34m,\u001b[0m \u001b[0mkwargs\u001b[0m\u001b[0;34m)\u001b[0m\u001b[0;34m\u001b[0m\u001b[0;34m\u001b[0m\u001b[0m\n\u001b[0m\u001b[1;32m    338\u001b[0m \u001b[0;34m\u001b[0m\u001b[0m\n\u001b[1;32m    339\u001b[0m         \u001b[0m_api_call\u001b[0m\u001b[0;34m.\u001b[0m\u001b[0m__name__\u001b[0m \u001b[0;34m=\u001b[0m \u001b[0mstr\u001b[0m\u001b[0;34m(\u001b[0m\u001b[0mpy_operation_name\u001b[0m\u001b[0;34m)\u001b[0m\u001b[0;34m\u001b[0m\u001b[0;34m\u001b[0m\u001b[0m\n",
      "\u001b[0;32m~/anaconda3/envs/pytorch_p36/lib/python3.6/site-packages/botocore/client.py\u001b[0m in \u001b[0;36m_make_api_call\u001b[0;34m(self, operation_name, api_params)\u001b[0m\n\u001b[1;32m    654\u001b[0m             \u001b[0merror_code\u001b[0m \u001b[0;34m=\u001b[0m \u001b[0mparsed_response\u001b[0m\u001b[0;34m.\u001b[0m\u001b[0mget\u001b[0m\u001b[0;34m(\u001b[0m\u001b[0;34m\"Error\"\u001b[0m\u001b[0;34m,\u001b[0m \u001b[0;34m{\u001b[0m\u001b[0;34m}\u001b[0m\u001b[0;34m)\u001b[0m\u001b[0;34m.\u001b[0m\u001b[0mget\u001b[0m\u001b[0;34m(\u001b[0m\u001b[0;34m\"Code\"\u001b[0m\u001b[0;34m)\u001b[0m\u001b[0;34m\u001b[0m\u001b[0;34m\u001b[0m\u001b[0m\n\u001b[1;32m    655\u001b[0m             \u001b[0merror_class\u001b[0m \u001b[0;34m=\u001b[0m \u001b[0mself\u001b[0m\u001b[0;34m.\u001b[0m\u001b[0mexceptions\u001b[0m\u001b[0;34m.\u001b[0m\u001b[0mfrom_code\u001b[0m\u001b[0;34m(\u001b[0m\u001b[0merror_code\u001b[0m\u001b[0;34m)\u001b[0m\u001b[0;34m\u001b[0m\u001b[0;34m\u001b[0m\u001b[0m\n\u001b[0;32m--> 656\u001b[0;31m             \u001b[0;32mraise\u001b[0m \u001b[0merror_class\u001b[0m\u001b[0;34m(\u001b[0m\u001b[0mparsed_response\u001b[0m\u001b[0;34m,\u001b[0m \u001b[0moperation_name\u001b[0m\u001b[0;34m)\u001b[0m\u001b[0;34m\u001b[0m\u001b[0;34m\u001b[0m\u001b[0m\n\u001b[0m\u001b[1;32m    657\u001b[0m         \u001b[0;32melse\u001b[0m\u001b[0;34m:\u001b[0m\u001b[0;34m\u001b[0m\u001b[0;34m\u001b[0m\u001b[0m\n\u001b[1;32m    658\u001b[0m             \u001b[0;32mreturn\u001b[0m \u001b[0mparsed_response\u001b[0m\u001b[0;34m\u001b[0m\u001b[0;34m\u001b[0m\u001b[0m\n",
      "\u001b[0;31mResourceLimitExceeded\u001b[0m: An error occurred (ResourceLimitExceeded) when calling the CreateEndpoint operation: The account-level service limit 'ml.p2.xlarge for endpoint usage' is 0 Instances, with current utilization of 0 Instances and a request delta of 1 Instances. Please contact AWS support to request an increase for this limit."
     ]
    }
   ],
   "source": [
    "# TODO: Deploy the trained model\n",
    "predictor = estimator.deploy(initial_instance_count=1, instance_type='ml.p2.xlarge')"
   ]
  },
  {
   "cell_type": "markdown",
   "metadata": {},
   "source": [
    "## Step 7 - Use the model for testing\n",
    "\n",
    "Once deployed, we can read in the test data and send it off to our deployed model to get some results. Once we collect all of the results we can determine how accurate our model is."
   ]
  },
  {
   "cell_type": "code",
   "execution_count": null,
   "metadata": {},
   "outputs": [],
   "source": [
    "test_X = pd.concat([pd.DataFrame(test_X_len), pd.DataFrame(test_X)], axis=1)"
   ]
  },
  {
   "cell_type": "code",
   "execution_count": null,
   "metadata": {},
   "outputs": [],
   "source": [
    "# We split the data into chunks and send each chunk seperately, accumulating the results.\n",
    "\n",
    "def predict(data, rows=512):\n",
    "    split_array = np.array_split(data, int(data.shape[0] / float(rows) + 1))\n",
    "    predictions = np.array([])\n",
    "    for array in split_array:\n",
    "        predictions = np.append(predictions, predictor.predict(array))\n",
    "    \n",
    "    return predictions"
   ]
  },
  {
   "cell_type": "code",
   "execution_count": null,
   "metadata": {},
   "outputs": [],
   "source": [
    "predictions = predict(test_X.values)\n",
    "predictions = [round(num) for num in predictions]"
   ]
  },
  {
   "cell_type": "code",
   "execution_count": null,
   "metadata": {},
   "outputs": [],
   "source": [
    "from sklearn.metrics import accuracy_score\n",
    "accuracy_score(test_y, predictions)"
   ]
  },
  {
   "cell_type": "markdown",
   "metadata": {},
   "source": [
    "**Question:** How does this model compare to the XGBoost model you created earlier? Why might these two models perform differently on this dataset? Which do *you* think is better for sentiment analysis?"
   ]
  },
  {
   "cell_type": "markdown",
   "metadata": {},
   "source": [
    "**Answer:**"
   ]
  },
  {
   "cell_type": "markdown",
   "metadata": {},
   "source": [
    "### (TODO) More testing\n",
    "\n",
    "We now have a trained model which has been deployed and which we can send processed reviews to and which returns the predicted sentiment. However, ultimately we would like to be able to send our model an unprocessed review. That is, we would like to send the review itself as a string. For example, suppose we wish to send the following review to our model."
   ]
  },
  {
   "cell_type": "code",
   "execution_count": null,
   "metadata": {},
   "outputs": [],
   "source": [
    "test_review = 'The simplest pleasures in life are the best, and this film is one of them. Combining a rather basic storyline of love and adventure this movie transcends the usual weekend fair with wit and unmitigated charm.'"
   ]
  },
  {
   "cell_type": "markdown",
   "metadata": {},
   "source": [
    "The question we now need to answer is, how do we send this review to our model?\n",
    "\n",
    "Recall in the first section of this notebook we did a bunch of data processing to the IMDb dataset. In particular, we did two specific things to the provided reviews.\n",
    " - Removed any html tags and stemmed the input\n",
    " - Encoded the review as a sequence of integers using `word_dict`\n",
    " \n",
    "In order process the review we will need to repeat these two steps.\n",
    "\n",
    "**TODO**: Using the `review_to_words` and `convert_and_pad` methods from section one, convert `test_review` into a numpy array `test_data` suitable to send to our model. Remember that our model expects input of the form `review_length, review[500]`."
   ]
  },
  {
   "cell_type": "code",
   "execution_count": null,
   "metadata": {},
   "outputs": [],
   "source": [
    "# TODO: Convert test_review into a form usable by the model and save the results in test_data\n",
    "test_data = None"
   ]
  },
  {
   "cell_type": "markdown",
   "metadata": {},
   "source": [
    "Now that we have processed the review, we can send the resulting array to our model to predict the sentiment of the review."
   ]
  },
  {
   "cell_type": "code",
   "execution_count": null,
   "metadata": {},
   "outputs": [],
   "source": [
    "predictor.predict(test_data)"
   ]
  },
  {
   "cell_type": "markdown",
   "metadata": {},
   "source": [
    "Since the return value of our model is close to `1`, we can be certain that the review we submitted is positive."
   ]
  },
  {
   "cell_type": "markdown",
   "metadata": {},
   "source": [
    "### Delete the endpoint\n",
    "\n",
    "Of course, just like in the XGBoost notebook, once we've deployed an endpoint it continues to run until we tell it to shut down. Since we are done using our endpoint for now, we can delete it."
   ]
  },
  {
   "cell_type": "code",
   "execution_count": null,
   "metadata": {},
   "outputs": [],
   "source": [
    "estimator.delete_endpoint()"
   ]
  },
  {
   "cell_type": "markdown",
   "metadata": {},
   "source": [
    "## Step 6 (again) - Deploy the model for the web app\n",
    "\n",
    "Now that we know that our model is working, it's time to create some custom inference code so that we can send the model a review which has not been processed and have it determine the sentiment of the review.\n",
    "\n",
    "As we saw above, by default the estimator which we created, when deployed, will use the entry script and directory which we provided when creating the model. However, since we now wish to accept a string as input and our model expects a processed review, we need to write some custom inference code.\n",
    "\n",
    "We will store the code that we write in the `serve` directory. Provided in this directory is the `model.py` file that we used to construct our model, a `utils.py` file which contains the `review_to_words` and `convert_and_pad` pre-processing functions which we used during the initial data processing, and `predict.py`, the file which will contain our custom inference code. Note also that `requirements.txt` is present which will tell SageMaker what Python libraries are required by our custom inference code.\n",
    "\n",
    "When deploying a PyTorch model in SageMaker, you are expected to provide four functions which the SageMaker inference container will use.\n",
    " - `model_fn`: This function is the same function that we used in the training script and it tells SageMaker how to load our model.\n",
    " - `input_fn`: This function receives the raw serialized input that has been sent to the model's endpoint and its job is to de-serialize and make the input available for the inference code.\n",
    " - `output_fn`: This function takes the output of the inference code and its job is to serialize this output and return it to the caller of the model's endpoint.\n",
    " - `predict_fn`: The heart of the inference script, this is where the actual prediction is done and is the function which you will need to complete.\n",
    "\n",
    "For the simple website that we are constructing during this project, the `input_fn` and `output_fn` methods are relatively straightforward. We only require being able to accept a string as input and we expect to return a single value as output. You might imagine though that in a more complex application the input or output may be image data or some other binary data which would require some effort to serialize.\n",
    "\n",
    "### (TODO) Writing inference code\n",
    "\n",
    "Before writing our custom inference code, we will begin by taking a look at the code which has been provided."
   ]
  },
  {
   "cell_type": "code",
   "execution_count": null,
   "metadata": {},
   "outputs": [],
   "source": [
    "!pygmentize serve/predict.py"
   ]
  },
  {
   "cell_type": "markdown",
   "metadata": {},
   "source": [
    "As mentioned earlier, the `model_fn` method is the same as the one provided in the training code and the `input_fn` and `output_fn` methods are very simple and your task will be to complete the `predict_fn` method. Make sure that you save the completed file as `predict.py` in the `serve` directory.\n",
    "\n",
    "**TODO**: Complete the `predict_fn()` method in the `serve/predict.py` file."
   ]
  },
  {
   "cell_type": "markdown",
   "metadata": {},
   "source": [
    "### Deploying the model\n",
    "\n",
    "Now that the custom inference code has been written, we will create and deploy our model. To begin with, we need to construct a new PyTorchModel object which points to the model artifacts created during training and also points to the inference code that we wish to use. Then we can call the deploy method to launch the deployment container.\n",
    "\n",
    "**NOTE**: The default behaviour for a deployed PyTorch model is to assume that any input passed to the predictor is a `numpy` array. In our case we want to send a string so we need to construct a simple wrapper around the `RealTimePredictor` class to accomodate simple strings. In a more complicated situation you may want to provide a serialization object, for example if you wanted to sent image data."
   ]
  },
  {
   "cell_type": "code",
   "execution_count": null,
   "metadata": {},
   "outputs": [],
   "source": [
    "from sagemaker.predictor import RealTimePredictor\n",
    "from sagemaker.pytorch import PyTorchModel\n",
    "\n",
    "class StringPredictor(RealTimePredictor):\n",
    "    def __init__(self, endpoint_name, sagemaker_session):\n",
    "        super(StringPredictor, self).__init__(endpoint_name, sagemaker_session, content_type='text/plain')\n",
    "\n",
    "model = PyTorchModel(model_data=estimator.model_data,\n",
    "                     role = role,\n",
    "                     framework_version='0.4.0',\n",
    "                     entry_point='predict.py',\n",
    "                     source_dir='serve',\n",
    "                     predictor_cls=StringPredictor)\n",
    "predictor = model.deploy(initial_instance_count=1, instance_type='ml.m4.xlarge')"
   ]
  },
  {
   "cell_type": "markdown",
   "metadata": {},
   "source": [
    "### Testing the model\n",
    "\n",
    "Now that we have deployed our model with the custom inference code, we should test to see if everything is working. Here we test our model by loading the first `250` positive and negative reviews and send them to the endpoint, then collect the results. The reason for only sending some of the data is that the amount of time it takes for our model to process the input and then perform inference is quite long and so testing the entire data set would be prohibitive."
   ]
  },
  {
   "cell_type": "code",
   "execution_count": null,
   "metadata": {},
   "outputs": [],
   "source": [
    "import glob\n",
    "\n",
    "def test_reviews(data_dir='../data/aclImdb', stop=250):\n",
    "    \n",
    "    results = []\n",
    "    ground = []\n",
    "    \n",
    "    # We make sure to test both positive and negative reviews    \n",
    "    for sentiment in ['pos', 'neg']:\n",
    "        \n",
    "        path = os.path.join(data_dir, 'test', sentiment, '*.txt')\n",
    "        files = glob.glob(path)\n",
    "        \n",
    "        files_read = 0\n",
    "        \n",
    "        print('Starting ', sentiment, ' files')\n",
    "        \n",
    "        # Iterate through the files and send them to the predictor\n",
    "        for f in files:\n",
    "            with open(f) as review:\n",
    "                # First, we store the ground truth (was the review positive or negative)\n",
    "                if sentiment == 'pos':\n",
    "                    ground.append(1)\n",
    "                else:\n",
    "                    ground.append(0)\n",
    "                # Read in the review and convert to 'utf-8' for transmission via HTTP\n",
    "                review_input = review.read().encode('utf-8')\n",
    "                # Send the review to the predictor and store the results\n",
    "                results.append(int(predictor.predict(review_input)))\n",
    "                \n",
    "            # Sending reviews to our endpoint one at a time takes a while so we\n",
    "            # only send a small number of reviews\n",
    "            files_read += 1\n",
    "            if files_read == stop:\n",
    "                break\n",
    "            \n",
    "    return ground, results"
   ]
  },
  {
   "cell_type": "code",
   "execution_count": null,
   "metadata": {},
   "outputs": [],
   "source": [
    "ground, results = test_reviews()"
   ]
  },
  {
   "cell_type": "code",
   "execution_count": null,
   "metadata": {},
   "outputs": [],
   "source": [
    "from sklearn.metrics import accuracy_score\n",
    "accuracy_score(ground, results)"
   ]
  },
  {
   "cell_type": "markdown",
   "metadata": {},
   "source": [
    "As an additional test, we can try sending the `test_review` that we looked at earlier."
   ]
  },
  {
   "cell_type": "code",
   "execution_count": null,
   "metadata": {},
   "outputs": [],
   "source": [
    "predictor.predict(test_review)"
   ]
  },
  {
   "cell_type": "markdown",
   "metadata": {},
   "source": [
    "Now that we know our endpoint is working as expected, we can set up the web page that will interact with it. If you don't have time to finish the project now, make sure to skip down to the end of this notebook and shut down your endpoint. You can deploy it again when you come back."
   ]
  },
  {
   "cell_type": "markdown",
   "metadata": {},
   "source": [
    "## Step 7 (again): Use the model for the web app\n",
    "\n",
    "> **TODO:** This entire section and the next contain tasks for you to complete, mostly using the AWS console.\n",
    "\n",
    "So far we have been accessing our model endpoint by constructing a predictor object which uses the endpoint and then just using the predictor object to perform inference. What if we wanted to create a web app which accessed our model? The way things are set up currently makes that not possible since in order to access a SageMaker endpoint the app would first have to authenticate with AWS using an IAM role which included access to SageMaker endpoints. However, there is an easier way! We just need to use some additional AWS services.\n",
    "\n",
    "<img src=\"Web App Diagram.svg\">\n",
    "\n",
    "The diagram above gives an overview of how the various services will work together. On the far right is the model which we trained above and which is deployed using SageMaker. On the far left is our web app that collects a user's movie review, sends it off and expects a positive or negative sentiment in return.\n",
    "\n",
    "In the middle is where some of the magic happens. We will construct a Lambda function, which you can think of as a straightforward Python function that can be executed whenever a specified event occurs. We will give this function permission to send and recieve data from a SageMaker endpoint.\n",
    "\n",
    "Lastly, the method we will use to execute the Lambda function is a new endpoint that we will create using API Gateway. This endpoint will be a url that listens for data to be sent to it. Once it gets some data it will pass that data on to the Lambda function and then return whatever the Lambda function returns. Essentially it will act as an interface that lets our web app communicate with the Lambda function.\n",
    "\n",
    "### Setting up a Lambda function\n",
    "\n",
    "The first thing we are going to do is set up a Lambda function. This Lambda function will be executed whenever our public API has data sent to it. When it is executed it will receive the data, perform any sort of processing that is required, send the data (the review) to the SageMaker endpoint we've created and then return the result.\n",
    "\n",
    "#### Part A: Create an IAM Role for the Lambda function\n",
    "\n",
    "Since we want the Lambda function to call a SageMaker endpoint, we need to make sure that it has permission to do so. To do this, we will construct a role that we can later give the Lambda function.\n",
    "\n",
    "Using the AWS Console, navigate to the **IAM** page and click on **Roles**. Then, click on **Create role**. Make sure that the **AWS service** is the type of trusted entity selected and choose **Lambda** as the service that will use this role, then click **Next: Permissions**.\n",
    "\n",
    "In the search box type `sagemaker` and select the check box next to the **AmazonSageMakerFullAccess** policy. Then, click on **Next: Review**.\n",
    "\n",
    "Lastly, give this role a name. Make sure you use a name that you will remember later on, for example `LambdaSageMakerRole`. Then, click on **Create role**.\n",
    "\n",
    "#### Part B: Create a Lambda function\n",
    "\n",
    "Now it is time to actually create the Lambda function.\n",
    "\n",
    "Using the AWS Console, navigate to the AWS Lambda page and click on **Create a function**. When you get to the next page, make sure that **Author from scratch** is selected. Now, name your Lambda function, using a name that you will remember later on, for example `sentiment_analysis_func`. Make sure that the **Python 3.6** runtime is selected and then choose the role that you created in the previous part. Then, click on **Create Function**.\n",
    "\n",
    "On the next page you will see some information about the Lambda function you've just created. If you scroll down you should see an editor in which you can write the code that will be executed when your Lambda function is triggered. In our example, we will use the code below. \n",
    "\n",
    "```python\n",
    "# We need to use the low-level library to interact with SageMaker since the SageMaker API\n",
    "# is not available natively through Lambda.\n",
    "import boto3\n",
    "\n",
    "def lambda_handler(event, context):\n",
    "\n",
    "    # The SageMaker runtime is what allows us to invoke the endpoint that we've created.\n",
    "    runtime = boto3.Session().client('sagemaker-runtime')\n",
    "\n",
    "    # Now we use the SageMaker runtime to invoke our endpoint, sending the review we were given\n",
    "    response = runtime.invoke_endpoint(EndpointName = '**ENDPOINT NAME HERE**',    # The name of the endpoint we created\n",
    "                                       ContentType = 'text/plain',                 # The data format that is expected\n",
    "                                       Body = event['body'])                       # The actual review\n",
    "\n",
    "    # The response is an HTTP response whose body contains the result of our inference\n",
    "    result = response['Body'].read().decode('utf-8')\n",
    "\n",
    "    return {\n",
    "        'statusCode' : 200,\n",
    "        'headers' : { 'Content-Type' : 'text/plain', 'Access-Control-Allow-Origin' : '*' },\n",
    "        'body' : result\n",
    "    }\n",
    "```\n",
    "\n",
    "Once you have copy and pasted the code above into the Lambda code editor, replace the `**ENDPOINT NAME HERE**` portion with the name of the endpoint that we deployed earlier. You can determine the name of the endpoint using the code cell below."
   ]
  },
  {
   "cell_type": "code",
   "execution_count": null,
   "metadata": {},
   "outputs": [],
   "source": [
    "predictor.endpoint"
   ]
  },
  {
   "cell_type": "markdown",
   "metadata": {},
   "source": [
    "Once you have added the endpoint name to the Lambda function, click on **Save**. Your Lambda function is now up and running. Next we need to create a way for our web app to execute the Lambda function.\n",
    "\n",
    "### Setting up API Gateway\n",
    "\n",
    "Now that our Lambda function is set up, it is time to create a new API using API Gateway that will trigger the Lambda function we have just created.\n",
    "\n",
    "Using AWS Console, navigate to **Amazon API Gateway** and then click on **Get started**.\n",
    "\n",
    "On the next page, make sure that **New API** is selected and give the new api a name, for example, `sentiment_analysis_api`. Then, click on **Create API**.\n",
    "\n",
    "Now we have created an API, however it doesn't currently do anything. What we want it to do is to trigger the Lambda function that we created earlier.\n",
    "\n",
    "Select the **Actions** dropdown menu and click **Create Method**. A new blank method will be created, select its dropdown menu and select **POST**, then click on the check mark beside it.\n",
    "\n",
    "For the integration point, make sure that **Lambda Function** is selected and click on the **Use Lambda Proxy integration**. This option makes sure that the data that is sent to the API is then sent directly to the Lambda function with no processing. It also means that the return value must be a proper response object as it will also not be processed by API Gateway.\n",
    "\n",
    "Type the name of the Lambda function you created earlier into the **Lambda Function** text entry box and then click on **Save**. Click on **OK** in the pop-up box that then appears, giving permission to API Gateway to invoke the Lambda function you created.\n",
    "\n",
    "The last step in creating the API Gateway is to select the **Actions** dropdown and click on **Deploy API**. You will need to create a new Deployment stage and name it anything you like, for example `prod`.\n",
    "\n",
    "You have now successfully set up a public API to access your SageMaker model. Make sure to copy or write down the URL provided to invoke your newly created public API as this will be needed in the next step. This URL can be found at the top of the page, highlighted in blue next to the text **Invoke URL**."
   ]
  },
  {
   "cell_type": "markdown",
   "metadata": {},
   "source": [
    "## Step 4: Deploying our web app\n",
    "\n",
    "Now that we have a publicly available API, we can start using it in a web app. For our purposes, we have provided a simple static html file which can make use of the public api you created earlier.\n",
    "\n",
    "In the `website` folder there should be a file called `index.html`. Download the file to your computer and open that file up in a text editor of your choice. There should be a line which contains **\\*\\*REPLACE WITH PUBLIC API URL\\*\\***. Replace this string with the url that you wrote down in the last step and then save the file.\n",
    "\n",
    "Now, if you open `index.html` on your local computer, your browser will behave as a local web server and you can use the provided site to interact with your SageMaker model.\n",
    "\n",
    "If you'd like to go further, you can host this html file anywhere you'd like, for example using github or hosting a static site on Amazon's S3. Once you have done this you can share the link with anyone you'd like and have them play with it too!\n",
    "\n",
    "> **Important Note** In order for the web app to communicate with the SageMaker endpoint, the endpoint has to actually be deployed and running. This means that you are paying for it. Make sure that the endpoint is running when you want to use the web app but that you shut it down when you don't need it, otherwise you will end up with a surprisingly large AWS bill.\n",
    "\n",
    "**TODO:** Make sure that you include the edited `index.html` file in your project submission."
   ]
  },
  {
   "cell_type": "markdown",
   "metadata": {},
   "source": [
    "Now that your web app is working, trying playing around with it and see how well it works.\n",
    "\n",
    "**Question**: Give an example of a review that you entered into your web app. What was the predicted sentiment of your example review?"
   ]
  },
  {
   "cell_type": "markdown",
   "metadata": {},
   "source": [
    "**Answer:**"
   ]
  },
  {
   "cell_type": "markdown",
   "metadata": {},
   "source": [
    "### Delete the endpoint\n",
    "\n",
    "Remember to always shut down your endpoint if you are no longer using it. You are charged for the length of time that the endpoint is running so if you forget and leave it on you could end up with an unexpectedly large bill."
   ]
  },
  {
   "cell_type": "code",
   "execution_count": null,
   "metadata": {},
   "outputs": [],
   "source": [
    "predictor.delete_endpoint()"
   ]
  },
  {
   "cell_type": "code",
   "execution_count": null,
   "metadata": {},
   "outputs": [],
   "source": []
  }
 ],
 "metadata": {
  "kernelspec": {
   "display_name": "conda_pytorch_p36",
   "language": "python",
   "name": "conda_pytorch_p36"
  },
  "language_info": {
   "codemirror_mode": {
    "name": "ipython",
    "version": 3
   },
   "file_extension": ".py",
   "mimetype": "text/x-python",
   "name": "python",
   "nbconvert_exporter": "python",
   "pygments_lexer": "ipython3",
   "version": "3.6.10"
  }
 },
 "nbformat": 4,
 "nbformat_minor": 2
}
